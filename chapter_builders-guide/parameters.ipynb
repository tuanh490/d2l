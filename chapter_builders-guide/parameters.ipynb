{
  "cells": [
    {
      "cell_type": "markdown",
      "id": "7443df46",
      "metadata": {
        "origin_pos": 1,
        "id": "7443df46"
      },
      "source": [
        "# Parameter Management\n",
        "\n",
        "Once we have chosen an architecture\n",
        "and set our hyperparameters,\n",
        "we proceed to the training loop,\n",
        "where our goal is to find parameter values\n",
        "that minimize our loss function.\n",
        "After training, we will need these parameters\n",
        "in order to make future predictions.\n",
        "Additionally, we will sometimes wish\n",
        "to extract the parameters\n",
        "perhaps to reuse them in some other context,\n",
        "to save our model to disk so that\n",
        "it may be executed in other software,\n",
        "or for examination in the hope of\n",
        "gaining scientific understanding.\n",
        "\n",
        "Most of the time, we will be able\n",
        "to ignore the nitty-gritty details\n",
        "of how parameters are declared\n",
        "and manipulated, relying on deep learning frameworks\n",
        "to do the heavy lifting.\n",
        "However, when we move away from\n",
        "stacked architectures with standard layers,\n",
        "we will sometimes need to get into the weeds\n",
        "of declaring and manipulating parameters.\n",
        "In this section, we cover the following:\n",
        "\n",
        "* Accessing parameters for debugging, diagnostics, and visualizations.\n",
        "* Sharing parameters across different model components.\n"
      ]
    },
    {
      "cell_type": "code",
      "source": [
        "!pip install d2l==1.0.3\n"
      ],
      "metadata": {
        "id": "SdU5AYZTUkkl",
        "outputId": "83c27089-7409-4b78-ec39-6f838ede97c9",
        "colab": {
          "base_uri": "https://localhost:8080/"
        }
      },
      "id": "SdU5AYZTUkkl",
      "execution_count": 1,
      "outputs": [
        {
          "output_type": "stream",
          "name": "stdout",
          "text": [
            "Requirement already satisfied: d2l==1.0.3 in /usr/local/lib/python3.11/dist-packages (1.0.3)\n",
            "Requirement already satisfied: jupyter==1.0.0 in /usr/local/lib/python3.11/dist-packages (from d2l==1.0.3) (1.0.0)\n",
            "Requirement already satisfied: numpy==1.23.5 in /usr/local/lib/python3.11/dist-packages (from d2l==1.0.3) (1.23.5)\n",
            "Requirement already satisfied: matplotlib==3.7.2 in /usr/local/lib/python3.11/dist-packages (from d2l==1.0.3) (3.7.2)\n",
            "Requirement already satisfied: matplotlib-inline==0.1.6 in /usr/local/lib/python3.11/dist-packages (from d2l==1.0.3) (0.1.6)\n",
            "Requirement already satisfied: requests==2.31.0 in /usr/local/lib/python3.11/dist-packages (from d2l==1.0.3) (2.31.0)\n",
            "Requirement already satisfied: pandas==2.0.3 in /usr/local/lib/python3.11/dist-packages (from d2l==1.0.3) (2.0.3)\n",
            "Requirement already satisfied: scipy==1.10.1 in /usr/local/lib/python3.11/dist-packages (from d2l==1.0.3) (1.10.1)\n",
            "Requirement already satisfied: notebook in /usr/local/lib/python3.11/dist-packages (from jupyter==1.0.0->d2l==1.0.3) (6.5.5)\n",
            "Requirement already satisfied: qtconsole in /usr/local/lib/python3.11/dist-packages (from jupyter==1.0.0->d2l==1.0.3) (5.6.1)\n",
            "Requirement already satisfied: jupyter-console in /usr/local/lib/python3.11/dist-packages (from jupyter==1.0.0->d2l==1.0.3) (6.1.0)\n",
            "Requirement already satisfied: nbconvert in /usr/local/lib/python3.11/dist-packages (from jupyter==1.0.0->d2l==1.0.3) (7.16.6)\n",
            "Requirement already satisfied: ipykernel in /usr/local/lib/python3.11/dist-packages (from jupyter==1.0.0->d2l==1.0.3) (6.17.1)\n",
            "Requirement already satisfied: ipywidgets in /usr/local/lib/python3.11/dist-packages (from jupyter==1.0.0->d2l==1.0.3) (7.7.1)\n",
            "Requirement already satisfied: contourpy>=1.0.1 in /usr/local/lib/python3.11/dist-packages (from matplotlib==3.7.2->d2l==1.0.3) (1.3.1)\n",
            "Requirement already satisfied: cycler>=0.10 in /usr/local/lib/python3.11/dist-packages (from matplotlib==3.7.2->d2l==1.0.3) (0.12.1)\n",
            "Requirement already satisfied: fonttools>=4.22.0 in /usr/local/lib/python3.11/dist-packages (from matplotlib==3.7.2->d2l==1.0.3) (4.56.0)\n",
            "Requirement already satisfied: kiwisolver>=1.0.1 in /usr/local/lib/python3.11/dist-packages (from matplotlib==3.7.2->d2l==1.0.3) (1.4.8)\n",
            "Requirement already satisfied: packaging>=20.0 in /usr/local/lib/python3.11/dist-packages (from matplotlib==3.7.2->d2l==1.0.3) (24.2)\n",
            "Requirement already satisfied: pillow>=6.2.0 in /usr/local/lib/python3.11/dist-packages (from matplotlib==3.7.2->d2l==1.0.3) (11.1.0)\n",
            "Requirement already satisfied: pyparsing<3.1,>=2.3.1 in /usr/local/lib/python3.11/dist-packages (from matplotlib==3.7.2->d2l==1.0.3) (3.0.9)\n",
            "Requirement already satisfied: python-dateutil>=2.7 in /usr/local/lib/python3.11/dist-packages (from matplotlib==3.7.2->d2l==1.0.3) (2.8.2)\n",
            "Requirement already satisfied: traitlets in /usr/local/lib/python3.11/dist-packages (from matplotlib-inline==0.1.6->d2l==1.0.3) (5.7.1)\n",
            "Requirement already satisfied: pytz>=2020.1 in /usr/local/lib/python3.11/dist-packages (from pandas==2.0.3->d2l==1.0.3) (2025.1)\n",
            "Requirement already satisfied: tzdata>=2022.1 in /usr/local/lib/python3.11/dist-packages (from pandas==2.0.3->d2l==1.0.3) (2025.1)\n",
            "Requirement already satisfied: charset-normalizer<4,>=2 in /usr/local/lib/python3.11/dist-packages (from requests==2.31.0->d2l==1.0.3) (3.4.1)\n",
            "Requirement already satisfied: idna<4,>=2.5 in /usr/local/lib/python3.11/dist-packages (from requests==2.31.0->d2l==1.0.3) (3.10)\n",
            "Requirement already satisfied: urllib3<3,>=1.21.1 in /usr/local/lib/python3.11/dist-packages (from requests==2.31.0->d2l==1.0.3) (2.3.0)\n",
            "Requirement already satisfied: certifi>=2017.4.17 in /usr/local/lib/python3.11/dist-packages (from requests==2.31.0->d2l==1.0.3) (2025.1.31)\n",
            "Requirement already satisfied: six>=1.5 in /usr/local/lib/python3.11/dist-packages (from python-dateutil>=2.7->matplotlib==3.7.2->d2l==1.0.3) (1.17.0)\n",
            "Requirement already satisfied: debugpy>=1.0 in /usr/local/lib/python3.11/dist-packages (from ipykernel->jupyter==1.0.0->d2l==1.0.3) (1.8.0)\n",
            "Requirement already satisfied: ipython>=7.23.1 in /usr/local/lib/python3.11/dist-packages (from ipykernel->jupyter==1.0.0->d2l==1.0.3) (7.34.0)\n",
            "Requirement already satisfied: jupyter-client>=6.1.12 in /usr/local/lib/python3.11/dist-packages (from ipykernel->jupyter==1.0.0->d2l==1.0.3) (6.1.12)\n",
            "Requirement already satisfied: nest-asyncio in /usr/local/lib/python3.11/dist-packages (from ipykernel->jupyter==1.0.0->d2l==1.0.3) (1.6.0)\n",
            "Requirement already satisfied: psutil in /usr/local/lib/python3.11/dist-packages (from ipykernel->jupyter==1.0.0->d2l==1.0.3) (5.9.5)\n",
            "Requirement already satisfied: pyzmq>=17 in /usr/local/lib/python3.11/dist-packages (from ipykernel->jupyter==1.0.0->d2l==1.0.3) (24.0.1)\n",
            "Requirement already satisfied: tornado>=6.1 in /usr/local/lib/python3.11/dist-packages (from ipykernel->jupyter==1.0.0->d2l==1.0.3) (6.4.2)\n",
            "Requirement already satisfied: ipython-genutils~=0.2.0 in /usr/local/lib/python3.11/dist-packages (from ipywidgets->jupyter==1.0.0->d2l==1.0.3) (0.2.0)\n",
            "Requirement already satisfied: widgetsnbextension~=3.6.0 in /usr/local/lib/python3.11/dist-packages (from ipywidgets->jupyter==1.0.0->d2l==1.0.3) (3.6.10)\n",
            "Requirement already satisfied: jupyterlab-widgets>=1.0.0 in /usr/local/lib/python3.11/dist-packages (from ipywidgets->jupyter==1.0.0->d2l==1.0.3) (3.0.13)\n",
            "Requirement already satisfied: prompt-toolkit!=3.0.0,!=3.0.1,<3.1.0,>=2.0.0 in /usr/local/lib/python3.11/dist-packages (from jupyter-console->jupyter==1.0.0->d2l==1.0.3) (3.0.50)\n",
            "Requirement already satisfied: pygments in /usr/local/lib/python3.11/dist-packages (from jupyter-console->jupyter==1.0.0->d2l==1.0.3) (2.18.0)\n",
            "Requirement already satisfied: beautifulsoup4 in /usr/local/lib/python3.11/dist-packages (from nbconvert->jupyter==1.0.0->d2l==1.0.3) (4.13.3)\n",
            "Requirement already satisfied: bleach!=5.0.0 in /usr/local/lib/python3.11/dist-packages (from bleach[css]!=5.0.0->nbconvert->jupyter==1.0.0->d2l==1.0.3) (6.2.0)\n",
            "Requirement already satisfied: defusedxml in /usr/local/lib/python3.11/dist-packages (from nbconvert->jupyter==1.0.0->d2l==1.0.3) (0.7.1)\n",
            "Requirement already satisfied: jinja2>=3.0 in /usr/local/lib/python3.11/dist-packages (from nbconvert->jupyter==1.0.0->d2l==1.0.3) (3.1.5)\n",
            "Requirement already satisfied: jupyter-core>=4.7 in /usr/local/lib/python3.11/dist-packages (from nbconvert->jupyter==1.0.0->d2l==1.0.3) (5.7.2)\n",
            "Requirement already satisfied: jupyterlab-pygments in /usr/local/lib/python3.11/dist-packages (from nbconvert->jupyter==1.0.0->d2l==1.0.3) (0.3.0)\n",
            "Requirement already satisfied: markupsafe>=2.0 in /usr/local/lib/python3.11/dist-packages (from nbconvert->jupyter==1.0.0->d2l==1.0.3) (3.0.2)\n",
            "Requirement already satisfied: mistune<4,>=2.0.3 in /usr/local/lib/python3.11/dist-packages (from nbconvert->jupyter==1.0.0->d2l==1.0.3) (3.1.2)\n",
            "Requirement already satisfied: nbclient>=0.5.0 in /usr/local/lib/python3.11/dist-packages (from nbconvert->jupyter==1.0.0->d2l==1.0.3) (0.10.2)\n",
            "Requirement already satisfied: nbformat>=5.7 in /usr/local/lib/python3.11/dist-packages (from nbconvert->jupyter==1.0.0->d2l==1.0.3) (5.10.4)\n",
            "Requirement already satisfied: pandocfilters>=1.4.1 in /usr/local/lib/python3.11/dist-packages (from nbconvert->jupyter==1.0.0->d2l==1.0.3) (1.5.1)\n",
            "Requirement already satisfied: argon2-cffi in /usr/local/lib/python3.11/dist-packages (from notebook->jupyter==1.0.0->d2l==1.0.3) (23.1.0)\n",
            "Requirement already satisfied: Send2Trash>=1.8.0 in /usr/local/lib/python3.11/dist-packages (from notebook->jupyter==1.0.0->d2l==1.0.3) (1.8.3)\n",
            "Requirement already satisfied: terminado>=0.8.3 in /usr/local/lib/python3.11/dist-packages (from notebook->jupyter==1.0.0->d2l==1.0.3) (0.18.1)\n",
            "Requirement already satisfied: prometheus-client in /usr/local/lib/python3.11/dist-packages (from notebook->jupyter==1.0.0->d2l==1.0.3) (0.21.1)\n",
            "Requirement already satisfied: nbclassic>=0.4.7 in /usr/local/lib/python3.11/dist-packages (from notebook->jupyter==1.0.0->d2l==1.0.3) (1.2.0)\n",
            "Requirement already satisfied: qtpy>=2.4.0 in /usr/local/lib/python3.11/dist-packages (from qtconsole->jupyter==1.0.0->d2l==1.0.3) (2.4.3)\n",
            "Requirement already satisfied: webencodings in /usr/local/lib/python3.11/dist-packages (from bleach!=5.0.0->bleach[css]!=5.0.0->nbconvert->jupyter==1.0.0->d2l==1.0.3) (0.5.1)\n",
            "Requirement already satisfied: tinycss2<1.5,>=1.1.0 in /usr/local/lib/python3.11/dist-packages (from bleach[css]!=5.0.0->nbconvert->jupyter==1.0.0->d2l==1.0.3) (1.4.0)\n",
            "Requirement already satisfied: setuptools>=18.5 in /usr/local/lib/python3.11/dist-packages (from ipython>=7.23.1->ipykernel->jupyter==1.0.0->d2l==1.0.3) (75.1.0)\n",
            "Requirement already satisfied: jedi>=0.16 in /usr/local/lib/python3.11/dist-packages (from ipython>=7.23.1->ipykernel->jupyter==1.0.0->d2l==1.0.3) (0.19.2)\n",
            "Requirement already satisfied: decorator in /usr/local/lib/python3.11/dist-packages (from ipython>=7.23.1->ipykernel->jupyter==1.0.0->d2l==1.0.3) (4.4.2)\n",
            "Requirement already satisfied: pickleshare in /usr/local/lib/python3.11/dist-packages (from ipython>=7.23.1->ipykernel->jupyter==1.0.0->d2l==1.0.3) (0.7.5)\n",
            "Requirement already satisfied: backcall in /usr/local/lib/python3.11/dist-packages (from ipython>=7.23.1->ipykernel->jupyter==1.0.0->d2l==1.0.3) (0.2.0)\n",
            "Requirement already satisfied: pexpect>4.3 in /usr/local/lib/python3.11/dist-packages (from ipython>=7.23.1->ipykernel->jupyter==1.0.0->d2l==1.0.3) (4.9.0)\n",
            "Requirement already satisfied: platformdirs>=2.5 in /usr/local/lib/python3.11/dist-packages (from jupyter-core>=4.7->nbconvert->jupyter==1.0.0->d2l==1.0.3) (4.3.6)\n",
            "Requirement already satisfied: notebook-shim>=0.2.3 in /usr/local/lib/python3.11/dist-packages (from nbclassic>=0.4.7->notebook->jupyter==1.0.0->d2l==1.0.3) (0.2.4)\n",
            "Requirement already satisfied: fastjsonschema>=2.15 in /usr/local/lib/python3.11/dist-packages (from nbformat>=5.7->nbconvert->jupyter==1.0.0->d2l==1.0.3) (2.21.1)\n",
            "Requirement already satisfied: jsonschema>=2.6 in /usr/local/lib/python3.11/dist-packages (from nbformat>=5.7->nbconvert->jupyter==1.0.0->d2l==1.0.3) (4.23.0)\n",
            "Requirement already satisfied: wcwidth in /usr/local/lib/python3.11/dist-packages (from prompt-toolkit!=3.0.0,!=3.0.1,<3.1.0,>=2.0.0->jupyter-console->jupyter==1.0.0->d2l==1.0.3) (0.2.13)\n",
            "Requirement already satisfied: ptyprocess in /usr/local/lib/python3.11/dist-packages (from terminado>=0.8.3->notebook->jupyter==1.0.0->d2l==1.0.3) (0.7.0)\n",
            "Requirement already satisfied: argon2-cffi-bindings in /usr/local/lib/python3.11/dist-packages (from argon2-cffi->notebook->jupyter==1.0.0->d2l==1.0.3) (21.2.0)\n",
            "Requirement already satisfied: soupsieve>1.2 in /usr/local/lib/python3.11/dist-packages (from beautifulsoup4->nbconvert->jupyter==1.0.0->d2l==1.0.3) (2.6)\n",
            "Requirement already satisfied: typing-extensions>=4.0.0 in /usr/local/lib/python3.11/dist-packages (from beautifulsoup4->nbconvert->jupyter==1.0.0->d2l==1.0.3) (4.12.2)\n",
            "Requirement already satisfied: parso<0.9.0,>=0.8.4 in /usr/local/lib/python3.11/dist-packages (from jedi>=0.16->ipython>=7.23.1->ipykernel->jupyter==1.0.0->d2l==1.0.3) (0.8.4)\n",
            "Requirement already satisfied: attrs>=22.2.0 in /usr/local/lib/python3.11/dist-packages (from jsonschema>=2.6->nbformat>=5.7->nbconvert->jupyter==1.0.0->d2l==1.0.3) (25.1.0)\n",
            "Requirement already satisfied: jsonschema-specifications>=2023.03.6 in /usr/local/lib/python3.11/dist-packages (from jsonschema>=2.6->nbformat>=5.7->nbconvert->jupyter==1.0.0->d2l==1.0.3) (2024.10.1)\n",
            "Requirement already satisfied: referencing>=0.28.4 in /usr/local/lib/python3.11/dist-packages (from jsonschema>=2.6->nbformat>=5.7->nbconvert->jupyter==1.0.0->d2l==1.0.3) (0.36.2)\n",
            "Requirement already satisfied: rpds-py>=0.7.1 in /usr/local/lib/python3.11/dist-packages (from jsonschema>=2.6->nbformat>=5.7->nbconvert->jupyter==1.0.0->d2l==1.0.3) (0.23.0)\n",
            "Requirement already satisfied: jupyter-server<3,>=1.8 in /usr/local/lib/python3.11/dist-packages (from notebook-shim>=0.2.3->nbclassic>=0.4.7->notebook->jupyter==1.0.0->d2l==1.0.3) (1.24.0)\n",
            "Requirement already satisfied: cffi>=1.0.1 in /usr/local/lib/python3.11/dist-packages (from argon2-cffi-bindings->argon2-cffi->notebook->jupyter==1.0.0->d2l==1.0.3) (1.17.1)\n",
            "Requirement already satisfied: pycparser in /usr/local/lib/python3.11/dist-packages (from cffi>=1.0.1->argon2-cffi-bindings->argon2-cffi->notebook->jupyter==1.0.0->d2l==1.0.3) (2.22)\n",
            "Requirement already satisfied: anyio<4,>=3.1.0 in /usr/local/lib/python3.11/dist-packages (from jupyter-server<3,>=1.8->notebook-shim>=0.2.3->nbclassic>=0.4.7->notebook->jupyter==1.0.0->d2l==1.0.3) (3.7.1)\n",
            "Requirement already satisfied: websocket-client in /usr/local/lib/python3.11/dist-packages (from jupyter-server<3,>=1.8->notebook-shim>=0.2.3->nbclassic>=0.4.7->notebook->jupyter==1.0.0->d2l==1.0.3) (1.8.0)\n",
            "Requirement already satisfied: sniffio>=1.1 in /usr/local/lib/python3.11/dist-packages (from anyio<4,>=3.1.0->jupyter-server<3,>=1.8->notebook-shim>=0.2.3->nbclassic>=0.4.7->notebook->jupyter==1.0.0->d2l==1.0.3) (1.3.1)\n"
          ]
        }
      ]
    },
    {
      "cell_type": "code",
      "execution_count": 12,
      "id": "41cbf7e2",
      "metadata": {
        "execution": {
          "iopub.execute_input": "2023-08-18T19:27:20.807089Z",
          "iopub.status.busy": "2023-08-18T19:27:20.806426Z",
          "iopub.status.idle": "2023-08-18T19:27:22.457089Z",
          "shell.execute_reply": "2023-08-18T19:27:22.456154Z"
        },
        "origin_pos": 3,
        "tab": [
          "pytorch"
        ],
        "id": "41cbf7e2"
      },
      "outputs": [],
      "source": [
        "import torch\n",
        "from torch import nn\n",
        "from torch.nn import functional as F"
      ]
    },
    {
      "cell_type": "markdown",
      "id": "293084ba",
      "metadata": {
        "origin_pos": 6,
        "id": "293084ba"
      },
      "source": [
        "(**We start by focusing on an MLP with one hidden layer.**)\n"
      ]
    },
    {
      "cell_type": "code",
      "execution_count": 4,
      "id": "9aa0461f",
      "metadata": {
        "execution": {
          "iopub.execute_input": "2023-08-18T19:27:22.461279Z",
          "iopub.status.busy": "2023-08-18T19:27:22.460607Z",
          "iopub.status.idle": "2023-08-18T19:27:22.494399Z",
          "shell.execute_reply": "2023-08-18T19:27:22.493545Z"
        },
        "origin_pos": 8,
        "tab": [
          "pytorch"
        ],
        "id": "9aa0461f",
        "outputId": "2815797c-d50b-4ced-936d-4c9a38f05f1e",
        "colab": {
          "base_uri": "https://localhost:8080/"
        }
      },
      "outputs": [
        {
          "output_type": "execute_result",
          "data": {
            "text/plain": [
              "torch.Size([2, 1])"
            ]
          },
          "metadata": {},
          "execution_count": 4
        }
      ],
      "source": [
        "net = nn.Sequential(nn.LazyLinear(8),\n",
        "                    nn.ReLU(),\n",
        "                    nn.LazyLinear(1))\n",
        "\n",
        "X = torch.rand(size=(2, 4))\n",
        "net(X).shape"
      ]
    },
    {
      "cell_type": "markdown",
      "id": "8d0bb094",
      "metadata": {
        "origin_pos": 11,
        "id": "8d0bb094"
      },
      "source": [
        "## [**Parameter Access**]\n",
        ":label:`subsec_param-access`\n",
        "\n",
        "Let's start with how to access parameters\n",
        "from the models that you already know.\n"
      ]
    },
    {
      "cell_type": "markdown",
      "id": "81e03323",
      "metadata": {
        "origin_pos": 12,
        "tab": [
          "pytorch"
        ],
        "id": "81e03323"
      },
      "source": [
        "When a model is defined via the `Sequential` class,\n",
        "we can first access any layer by indexing\n",
        "into the model as though it were a list.\n",
        "Each layer's parameters are conveniently\n",
        "located in its attribute.\n"
      ]
    },
    {
      "cell_type": "markdown",
      "id": "5f41ac20",
      "metadata": {
        "origin_pos": 14,
        "id": "5f41ac20"
      },
      "source": [
        "We can inspect the parameters of the second fully connected layer as follows.\n"
      ]
    },
    {
      "cell_type": "code",
      "execution_count": 5,
      "id": "3c6fdb60",
      "metadata": {
        "execution": {
          "iopub.execute_input": "2023-08-18T19:27:22.497996Z",
          "iopub.status.busy": "2023-08-18T19:27:22.497442Z",
          "iopub.status.idle": "2023-08-18T19:27:22.504291Z",
          "shell.execute_reply": "2023-08-18T19:27:22.503521Z"
        },
        "origin_pos": 16,
        "tab": [
          "pytorch"
        ],
        "id": "3c6fdb60",
        "outputId": "1d9f0209-87a3-4521-8408-5b0a5ef89a8b",
        "colab": {
          "base_uri": "https://localhost:8080/"
        }
      },
      "outputs": [
        {
          "output_type": "execute_result",
          "data": {
            "text/plain": [
              "OrderedDict([('weight',\n",
              "              tensor([[ 0.2915, -0.1141,  0.3016, -0.2343, -0.3530, -0.1606,  0.0471, -0.2914]])),\n",
              "             ('bias', tensor([0.3169]))])"
            ]
          },
          "metadata": {},
          "execution_count": 5
        }
      ],
      "source": [
        "net[2].state_dict()"
      ]
    },
    {
      "cell_type": "markdown",
      "id": "cc9e6e49",
      "metadata": {
        "origin_pos": 19,
        "id": "cc9e6e49"
      },
      "source": [
        "We can see that this fully connected layer\n",
        "contains two parameters,\n",
        "corresponding to that layer's\n",
        "weights and biases, respectively.\n",
        "\n",
        "\n",
        "### [**Targeted Parameters**]\n",
        "\n",
        "Note that each parameter is represented\n",
        "as an instance of the parameter class.\n",
        "To do anything useful with the parameters,\n",
        "we first need to access the underlying numerical values.\n",
        "There are several ways to do this.\n",
        "Some are simpler while others are more general.\n",
        "The following code extracts the bias\n",
        "from the second neural network layer, which returns a parameter class instance, and\n",
        "further accesses that parameter's value.\n"
      ]
    },
    {
      "cell_type": "code",
      "execution_count": 6,
      "id": "ba2da7b4",
      "metadata": {
        "execution": {
          "iopub.execute_input": "2023-08-18T19:27:22.507849Z",
          "iopub.status.busy": "2023-08-18T19:27:22.507181Z",
          "iopub.status.idle": "2023-08-18T19:27:22.513236Z",
          "shell.execute_reply": "2023-08-18T19:27:22.512406Z"
        },
        "origin_pos": 21,
        "tab": [
          "pytorch"
        ],
        "id": "ba2da7b4",
        "outputId": "282829f8-feaa-47e9-9efe-b863b4700fbd",
        "colab": {
          "base_uri": "https://localhost:8080/"
        }
      },
      "outputs": [
        {
          "output_type": "execute_result",
          "data": {
            "text/plain": [
              "(torch.nn.parameter.Parameter, tensor([0.3169]))"
            ]
          },
          "metadata": {},
          "execution_count": 6
        }
      ],
      "source": [
        "type(net[2].bias), net[2].bias.data"
      ]
    },
    {
      "cell_type": "markdown",
      "id": "8c10cf6c",
      "metadata": {
        "origin_pos": 24,
        "tab": [
          "pytorch"
        ],
        "id": "8c10cf6c"
      },
      "source": [
        "Parameters are complex objects,\n",
        "containing values, gradients,\n",
        "and additional information.\n",
        "That is why we need to request the value explicitly.\n",
        "\n",
        "In addition to the value, each parameter also allows us to access the gradient. Because we have not invoked backpropagation for this network yet, it is in its initial state.\n"
      ]
    },
    {
      "cell_type": "code",
      "execution_count": 7,
      "id": "4c5f0ae9",
      "metadata": {
        "execution": {
          "iopub.execute_input": "2023-08-18T19:27:22.516723Z",
          "iopub.status.busy": "2023-08-18T19:27:22.516170Z",
          "iopub.status.idle": "2023-08-18T19:27:22.521606Z",
          "shell.execute_reply": "2023-08-18T19:27:22.520790Z"
        },
        "origin_pos": 27,
        "tab": [
          "pytorch"
        ],
        "id": "4c5f0ae9",
        "outputId": "d792b56e-144f-48df-a4ee-a00cf0d89154",
        "colab": {
          "base_uri": "https://localhost:8080/"
        }
      },
      "outputs": [
        {
          "output_type": "execute_result",
          "data": {
            "text/plain": [
              "True"
            ]
          },
          "metadata": {},
          "execution_count": 7
        }
      ],
      "source": [
        "net[2].weight.grad == None"
      ]
    },
    {
      "cell_type": "markdown",
      "id": "49d744bc",
      "metadata": {
        "origin_pos": 28,
        "id": "49d744bc"
      },
      "source": [
        "### [**All Parameters at Once**]\n",
        "\n",
        "When we need to perform operations on all parameters,\n",
        "accessing them one-by-one can grow tedious.\n",
        "The situation can grow especially unwieldy\n",
        "when we work with more complex, e.g., nested, modules,\n",
        "since we would need to recurse\n",
        "through the entire tree to extract\n",
        "each sub-module's parameters. Below we demonstrate accessing the parameters of all layers.\n"
      ]
    },
    {
      "cell_type": "code",
      "execution_count": 8,
      "id": "dab1b4b5",
      "metadata": {
        "execution": {
          "iopub.execute_input": "2023-08-18T19:27:22.525019Z",
          "iopub.status.busy": "2023-08-18T19:27:22.524380Z",
          "iopub.status.idle": "2023-08-18T19:27:22.530002Z",
          "shell.execute_reply": "2023-08-18T19:27:22.529195Z"
        },
        "origin_pos": 30,
        "tab": [
          "pytorch"
        ],
        "id": "dab1b4b5",
        "outputId": "c756646d-4b6a-4f49-bc9a-455ceda643d0",
        "colab": {
          "base_uri": "https://localhost:8080/"
        }
      },
      "outputs": [
        {
          "output_type": "execute_result",
          "data": {
            "text/plain": [
              "[('0.weight', torch.Size([8, 4])),\n",
              " ('0.bias', torch.Size([8])),\n",
              " ('2.weight', torch.Size([1, 8])),\n",
              " ('2.bias', torch.Size([1]))]"
            ]
          },
          "metadata": {},
          "execution_count": 8
        }
      ],
      "source": [
        "[(name, param.shape) for name, param in net.named_parameters()]"
      ]
    },
    {
      "cell_type": "markdown",
      "id": "1fd29a2e",
      "metadata": {
        "origin_pos": 33,
        "id": "1fd29a2e"
      },
      "source": [
        "## [**Tied Parameters**]\n",
        "\n",
        "Often, we want to share parameters across multiple layers.\n",
        "Let's see how to do this elegantly.\n",
        "In the following we allocate a fully connected layer\n",
        "and then use its parameters specifically\n",
        "to set those of another layer.\n",
        "Here we need to run the forward propagation\n",
        "`net(X)` before accessing the parameters.\n"
      ]
    },
    {
      "cell_type": "code",
      "execution_count": 9,
      "id": "5b706636",
      "metadata": {
        "execution": {
          "iopub.execute_input": "2023-08-18T19:27:22.533421Z",
          "iopub.status.busy": "2023-08-18T19:27:22.532786Z",
          "iopub.status.idle": "2023-08-18T19:27:22.541856Z",
          "shell.execute_reply": "2023-08-18T19:27:22.541011Z"
        },
        "origin_pos": 35,
        "tab": [
          "pytorch"
        ],
        "id": "5b706636",
        "outputId": "6198ad0d-136f-426a-b9cc-0904b50a5e3c",
        "colab": {
          "base_uri": "https://localhost:8080/"
        }
      },
      "outputs": [
        {
          "output_type": "stream",
          "name": "stdout",
          "text": [
            "tensor([True, True, True, True, True, True, True, True])\n",
            "tensor([True, True, True, True, True, True, True, True])\n"
          ]
        }
      ],
      "source": [
        "# We need to give the shared layer a name so that we can refer to its\n",
        "# parameters\n",
        "shared = nn.LazyLinear(8)\n",
        "net = nn.Sequential(nn.LazyLinear(8), nn.ReLU(),\n",
        "                    shared, nn.ReLU(),\n",
        "                    shared, nn.ReLU(),\n",
        "                    nn.LazyLinear(1))\n",
        "\n",
        "net(X)\n",
        "# Check whether the parameters are the same\n",
        "print(net[2].weight.data[0] == net[4].weight.data[0])\n",
        "net[2].weight.data[0, 0] = 100\n",
        "# Make sure that they are actually the same object rather than just having the\n",
        "# same value\n",
        "print(net[2].weight.data[0] == net[4].weight.data[0])"
      ]
    },
    {
      "cell_type": "markdown",
      "id": "6ec93f84",
      "metadata": {
        "origin_pos": 38,
        "id": "6ec93f84"
      },
      "source": [
        "This example shows that the parameters\n",
        "of the second and third layer are tied.\n",
        "They are not just equal, they are\n",
        "represented by the same exact tensor.\n",
        "Thus, if we change one of the parameters,\n",
        "the other one changes, too.\n"
      ]
    },
    {
      "cell_type": "markdown",
      "id": "2a7b800f",
      "metadata": {
        "origin_pos": 39,
        "tab": [
          "pytorch"
        ],
        "id": "2a7b800f"
      },
      "source": [
        "You might wonder,\n",
        "when parameters are tied\n",
        "what happens to the gradients?\n",
        "Since the model parameters contain gradients,\n",
        "the gradients of the second hidden layer\n",
        "and the third hidden layer are added together\n",
        "during backpropagation.\n"
      ]
    },
    {
      "cell_type": "markdown",
      "id": "b4f0f0ad",
      "metadata": {
        "origin_pos": 40,
        "id": "b4f0f0ad"
      },
      "source": [
        "## Summary\n",
        "\n",
        "We have several ways of accessing and tying model parameters.\n",
        "\n",
        "\n",
        "## Exercises\n",
        "\n",
        "1. Use the `NestMLP` model defined in :numref:`sec_model_construction` and access the parameters of the various layers.\n",
        "1. Construct an MLP containing a shared parameter layer and train it. During the training process, observe the model parameters and gradients of each layer.\n",
        "1. Why is sharing parameters a good idea?\n"
      ]
    },
    {
      "cell_type": "markdown",
      "id": "3987814f",
      "metadata": {
        "origin_pos": 42,
        "tab": [
          "pytorch"
        ],
        "id": "3987814f"
      },
      "source": [
        "[Discussions](https://discuss.d2l.ai/t/57)\n"
      ]
    },
    {
      "cell_type": "markdown",
      "source": [
        "### Exercise 1:"
      ],
      "metadata": {
        "id": "MPLIx_KhSYjH"
      },
      "id": "MPLIx_KhSYjH"
    },
    {
      "cell_type": "code",
      "source": [
        "class FixedHiddenMLP(nn.Module):\n",
        "    def __init__(self):\n",
        "        super().__init__()\n",
        "        # Random weight parameters that will not compute gradients and\n",
        "        # therefore keep constant during training\n",
        "        self.rand_weight = torch.rand((20, 20))\n",
        "        self.linear = nn.LazyLinear(20)\n",
        "\n",
        "    def forward(self, X):\n",
        "        X = self.linear(X)\n",
        "        X = F.relu(X @ self.rand_weight + 1)\n",
        "        # Reuse the fully connected layer. This is equivalent to sharing\n",
        "        # parameters with two fully connected layers\n",
        "        X = self.linear(X)\n",
        "        # Control flow\n",
        "        while X.abs().sum() > 1:\n",
        "            X /= 2\n",
        "        return X.sum()\n"
      ],
      "metadata": {
        "id": "AyNBq9TwSaLT"
      },
      "id": "AyNBq9TwSaLT",
      "execution_count": 10,
      "outputs": []
    },
    {
      "cell_type": "code",
      "source": [
        "class NestMLP(nn.Module):\n",
        "    def __init__(self):\n",
        "        super().__init__()\n",
        "        self.net = nn.Sequential(nn.LazyLinear(64), nn.ReLU(),\n",
        "                                 nn.LazyLinear(32), nn.ReLU())\n",
        "        self.linear = nn.LazyLinear(16)\n",
        "\n",
        "    def forward(self, X):\n",
        "        return self.linear(self.net(X))\n",
        "\n",
        "chimera = nn.Sequential(NestMLP(), nn.LazyLinear(20), FixedHiddenMLP())\n",
        "chimera(X)\n"
      ],
      "metadata": {
        "id": "BBqej2T0Sa2j",
        "outputId": "f00713e3-0c30-4201-e06e-b33f01f47cad",
        "colab": {
          "base_uri": "https://localhost:8080/"
        }
      },
      "id": "BBqej2T0Sa2j",
      "execution_count": 13,
      "outputs": [
        {
          "output_type": "execute_result",
          "data": {
            "text/plain": [
              "tensor(-0.2616, grad_fn=<SumBackward0>)"
            ]
          },
          "metadata": {},
          "execution_count": 13
        }
      ]
    },
    {
      "cell_type": "code",
      "source": [
        "chimera[0].net"
      ],
      "metadata": {
        "id": "VNd-o8hGSfML",
        "outputId": "6d00a38c-d263-43e2-8a04-c7dd7bbe8964",
        "colab": {
          "base_uri": "https://localhost:8080/"
        }
      },
      "id": "VNd-o8hGSfML",
      "execution_count": 18,
      "outputs": [
        {
          "output_type": "execute_result",
          "data": {
            "text/plain": [
              "Sequential(\n",
              "  (0): Linear(in_features=4, out_features=64, bias=True)\n",
              "  (1): ReLU()\n",
              "  (2): Linear(in_features=64, out_features=32, bias=True)\n",
              "  (3): ReLU()\n",
              ")"
            ]
          },
          "metadata": {},
          "execution_count": 18
        }
      ]
    },
    {
      "cell_type": "code",
      "source": [
        "chimera[0].net[0].state_dict()"
      ],
      "metadata": {
        "id": "XMWEjFmnSn08",
        "outputId": "2aee9a83-3ce5-4b8b-cd97-159de2943875",
        "colab": {
          "base_uri": "https://localhost:8080/"
        }
      },
      "id": "XMWEjFmnSn08",
      "execution_count": 20,
      "outputs": [
        {
          "output_type": "execute_result",
          "data": {
            "text/plain": [
              "OrderedDict([('weight',\n",
              "              tensor([[-0.3017, -0.1691, -0.1873, -0.4200],\n",
              "                      [ 0.4201, -0.0540, -0.2727,  0.4964],\n",
              "                      [ 0.3684,  0.0975,  0.3976,  0.4503],\n",
              "                      [ 0.0781, -0.0686,  0.3504,  0.2363],\n",
              "                      [-0.4857,  0.1826,  0.0657,  0.4199],\n",
              "                      [-0.0649, -0.4723, -0.1363, -0.4148],\n",
              "                      [-0.4141,  0.4133, -0.3165,  0.3070],\n",
              "                      [ 0.3938, -0.2942,  0.0932, -0.0682],\n",
              "                      [-0.2176,  0.3815, -0.3748,  0.0024],\n",
              "                      [-0.1658, -0.1300, -0.1921,  0.0932],\n",
              "                      [-0.4418,  0.0038, -0.1048, -0.0431],\n",
              "                      [-0.0861,  0.1871,  0.1708, -0.2568],\n",
              "                      [-0.2831,  0.3364, -0.2462, -0.0678],\n",
              "                      [ 0.3829,  0.1103,  0.4383,  0.0478],\n",
              "                      [ 0.2939, -0.4721,  0.0323,  0.3583],\n",
              "                      [ 0.3151,  0.4980,  0.2380,  0.2826],\n",
              "                      [-0.3394, -0.0734, -0.4697, -0.1873],\n",
              "                      [-0.3060, -0.1639,  0.2671, -0.3015],\n",
              "                      [-0.0443, -0.1452, -0.2317,  0.2002],\n",
              "                      [ 0.2702, -0.3270, -0.4833, -0.1677],\n",
              "                      [-0.4939, -0.4046,  0.1453,  0.1838],\n",
              "                      [ 0.0712, -0.3185,  0.2822, -0.0549],\n",
              "                      [ 0.4510, -0.3886, -0.1024, -0.0534],\n",
              "                      [ 0.4454, -0.2350, -0.0520, -0.0849],\n",
              "                      [ 0.2491, -0.2035, -0.1214, -0.1748],\n",
              "                      [ 0.0370, -0.2445, -0.2521, -0.0799],\n",
              "                      [-0.3642,  0.1696,  0.4146,  0.4969],\n",
              "                      [-0.0218, -0.3218,  0.2700, -0.0481],\n",
              "                      [ 0.0757,  0.1374, -0.0511,  0.2950],\n",
              "                      [ 0.1902,  0.0667, -0.4998,  0.3993],\n",
              "                      [ 0.2029, -0.2597, -0.1790, -0.3687],\n",
              "                      [ 0.1899, -0.4529,  0.4327, -0.2821],\n",
              "                      [ 0.1007, -0.1366,  0.0471, -0.2572],\n",
              "                      [ 0.5000, -0.4806, -0.4230, -0.1792],\n",
              "                      [ 0.2356, -0.4713, -0.3306,  0.3809],\n",
              "                      [-0.3126,  0.1445,  0.0128, -0.3920],\n",
              "                      [ 0.3386,  0.4561, -0.0564,  0.1364],\n",
              "                      [ 0.2831,  0.4263,  0.2375, -0.0601],\n",
              "                      [ 0.1741, -0.0958,  0.3393, -0.3027],\n",
              "                      [-0.0627, -0.0104, -0.0517, -0.1556],\n",
              "                      [-0.2261, -0.2886, -0.4370,  0.0629],\n",
              "                      [-0.4287,  0.2061, -0.3795,  0.1187],\n",
              "                      [ 0.0937,  0.2705, -0.3355,  0.4960],\n",
              "                      [ 0.4044,  0.1158,  0.4886, -0.1297],\n",
              "                      [ 0.4398, -0.0786, -0.4070,  0.1041],\n",
              "                      [ 0.2662,  0.2368,  0.3519,  0.2696],\n",
              "                      [ 0.2413, -0.0937,  0.1291, -0.4780],\n",
              "                      [-0.3031, -0.4071,  0.1354,  0.3636],\n",
              "                      [ 0.4084,  0.3262,  0.2152, -0.4966],\n",
              "                      [-0.0218, -0.1320, -0.2731,  0.1274],\n",
              "                      [ 0.2555,  0.1577,  0.1604,  0.0756],\n",
              "                      [-0.1508, -0.3383,  0.4521,  0.4085],\n",
              "                      [ 0.4757,  0.1328,  0.1502, -0.1677],\n",
              "                      [ 0.2104,  0.4811, -0.1948,  0.3950],\n",
              "                      [ 0.1246,  0.4137, -0.1150, -0.4604],\n",
              "                      [-0.2457,  0.3204, -0.1215, -0.1264],\n",
              "                      [-0.3438, -0.4854,  0.1130, -0.3133],\n",
              "                      [-0.3014, -0.1196, -0.2072, -0.3797],\n",
              "                      [ 0.3065,  0.3136, -0.0918,  0.2919],\n",
              "                      [ 0.3944, -0.3260,  0.2927,  0.4879],\n",
              "                      [ 0.0070,  0.4913,  0.0707,  0.1915],\n",
              "                      [-0.2785,  0.1763, -0.0452,  0.3835],\n",
              "                      [-0.3756, -0.3614,  0.3941,  0.2680],\n",
              "                      [ 0.0562, -0.2341,  0.4699, -0.3031]])),\n",
              "             ('bias',\n",
              "              tensor([ 0.1120, -0.4269, -0.0965, -0.1868,  0.1931, -0.0597,  0.0765,  0.3988,\n",
              "                       0.0386,  0.3967, -0.0075,  0.1107, -0.1178, -0.0744, -0.4342,  0.2335,\n",
              "                      -0.0417,  0.4075,  0.0813, -0.1587,  0.3024, -0.3472, -0.3222, -0.0679,\n",
              "                      -0.0338, -0.4245,  0.4748,  0.4075, -0.3727,  0.2718, -0.4327,  0.2301,\n",
              "                      -0.3538,  0.4756,  0.4568, -0.0198, -0.4746,  0.4722, -0.3736, -0.0372,\n",
              "                       0.1069,  0.2997, -0.1947, -0.4344, -0.4435,  0.3607,  0.2897, -0.1060,\n",
              "                      -0.2164,  0.3055, -0.1812,  0.1196,  0.4244,  0.3649, -0.1913, -0.0753,\n",
              "                      -0.4152,  0.4734,  0.4093, -0.1268, -0.2804,  0.4388, -0.2236, -0.0065]))])"
            ]
          },
          "metadata": {},
          "execution_count": 20
        }
      ]
    },
    {
      "cell_type": "markdown",
      "source": [
        "### Exercise 2:"
      ],
      "metadata": {
        "id": "slCaI9VRS8DN"
      },
      "id": "slCaI9VRS8DN"
    },
    {
      "cell_type": "code",
      "source": [
        "class SharedMLP(nn.Module):\n",
        "    def __init__(self):\n",
        "        super().__init__()\n",
        "        shared = nn.LazyLinear(32)\n",
        "        self.net = nn.Sequential(nn.LazyLinear(8), nn.ReLU(),\n",
        "                                    shared, nn.ReLU(),\n",
        "                                    nn.LazyLinear(8))\n",
        "\n",
        "    def forward(self, X):\n",
        "        return self.net(X)"
      ],
      "metadata": {
        "id": "D4dJ2Jn8SzOT"
      },
      "id": "D4dJ2Jn8SzOT",
      "execution_count": null,
      "outputs": []
    },
    {
      "cell_type": "code",
      "source": [
        "import torch.nn as nn\n",
        "import torch\n",
        "import warnings\n",
        "from d2l import torch as d2l\n",
        "\n",
        "class PlotParameterMLP(d2l.Classifier):\n",
        "    def __init__(self, num_outputs, num_hiddens, lr, dropouts):\n",
        "        super().__init__()\n",
        "        self.save_hyperparameters()\n",
        "        layers = [nn.Flatten(),nn.LazyLinear(num_hiddens[0]),nn.ReLU()]\n",
        "        shared = nn.LazyLinear(num_hiddens[1])\n",
        "        self.activations = []\n",
        "        for i in range(1,len(num_hiddens)):\n",
        "            layers.append(shared)\n",
        "            layers.append(nn.ReLU())\n",
        "            layers.append(nn.Dropout(dropouts[i]))\n",
        "            self.activations.append(i*3)\n",
        "        layers.append(nn.LazyLinear(num_outputs))\n",
        "        self.net = nn.Sequential(*layers)\n",
        "\n",
        "    def training_step(self, batch, plot_flag=True):\n",
        "        y_hat = self(*batch[:-1])\n",
        "        # auc = torch.tensor(roc_auc_score(batch[-1].detach().numpy() , y_hat[:,1].detach().numpy()))\n",
        "        if plot_flag:\n",
        "            for i in self.activations:\n",
        "                # print(self.net[i].weight.data,self.net[i].weight.grad)\n",
        "                self.plot(f'layer_{i}_weight',self.net[i].weight.data.mean(),train=True)\n",
        "                # self.plot(f'layer_{i}_weight',self.net[i].weight.grad.mean(),train=True)\n",
        "        return self.loss(y_hat, batch[-1])\n",
        "\n",
        "    def validation_step(self, batch, plot_flag=True):\n",
        "        y_hat = self(*batch[:-1])\n",
        "        # auc = torch.tensor(roc_auc_score(batch[-1].detach().numpy() , y_hat[:,1].detach().numpy()))\n",
        "        if plot_flag:\n",
        "            for i in self.activations:\n",
        "                # self.plot(f'layer_{i}_weight',self.net[i].weight.data.mean(),train=True)\n",
        "                self.plot(f'layer_{i}_weight',self.net[i].weight.grad.mean(),train=True)\n",
        "        return self.loss(y_hat, batch[-1])\n",
        "\n",
        "    def stat_activation_variance(self, i, X):\n",
        "        activation = self.net[:i](X)\n",
        "        return ((activation-activation.mean(axis=0,keepdim=True))**2).mean()\n",
        "\n",
        "data = d2l.FashionMNIST(batch_size=256)\n",
        "hparams = {'num_outputs':10,'num_hiddens':[8]*3,\n",
        "           'dropouts':[0]*3,'lr':0.1}\n",
        "model = PlotParameterMLP(**hparams)\n",
        "trainer = d2l.Trainer(max_epochs=10)\n",
        "trainer.fit(model, data)"
      ],
      "metadata": {
        "id": "ISKakdR7TugG",
        "outputId": "07eda88f-568f-416a-bb28-e2c12edb34fc",
        "colab": {
          "base_uri": "https://localhost:8080/",
          "height": 265
        }
      },
      "id": "ISKakdR7TugG",
      "execution_count": 3,
      "outputs": [
        {
          "output_type": "display_data",
          "data": {
            "text/plain": [
              "<Figure size 350x250 with 1 Axes>"
            ],
            "image/svg+xml": "<?xml version=\"1.0\" encoding=\"utf-8\" standalone=\"no\"?>\n<!DOCTYPE svg PUBLIC \"-//W3C//DTD SVG 1.1//EN\"\n  \"http://www.w3.org/Graphics/SVG/1.1/DTD/svg11.dtd\">\n<svg xmlns:xlink=\"http://www.w3.org/1999/xlink\" width=\"245.328125pt\" height=\"183.35625pt\" viewBox=\"0 0 245.328125 183.35625\" xmlns=\"http://www.w3.org/2000/svg\" version=\"1.1\">\n <metadata>\n  <rdf:RDF xmlns:dc=\"http://purl.org/dc/elements/1.1/\" xmlns:cc=\"http://creativecommons.org/ns#\" xmlns:rdf=\"http://www.w3.org/1999/02/22-rdf-syntax-ns#\">\n   <cc:Work>\n    <dc:type rdf:resource=\"http://purl.org/dc/dcmitype/StillImage\"/>\n    <dc:date>2025-02-28T16:13:34.682383</dc:date>\n    <dc:format>image/svg+xml</dc:format>\n    <dc:creator>\n     <cc:Agent>\n      <dc:title>Matplotlib v3.7.2, https://matplotlib.org/</dc:title>\n     </cc:Agent>\n    </dc:creator>\n   </cc:Work>\n  </rdf:RDF>\n </metadata>\n <defs>\n  <style type=\"text/css\">*{stroke-linejoin: round; stroke-linecap: butt}</style>\n </defs>\n <g id=\"figure_1\">\n  <g id=\"patch_1\">\n   <path d=\"M 0 183.35625 \nL 245.328125 183.35625 \nL 245.328125 0 \nL 0 0 \nz\n\" style=\"fill: #ffffff\"/>\n  </g>\n  <g id=\"axes_1\">\n   <g id=\"patch_2\">\n    <path d=\"M 36.465625 145.8 \nL 231.765625 145.8 \nL 231.765625 7.2 \nL 36.465625 7.2 \nz\n\" style=\"fill: #ffffff\"/>\n   </g>\n   <g id=\"matplotlib.axis_1\">\n    <g id=\"xtick_1\">\n     <g id=\"line2d_1\">\n      <defs>\n       <path id=\"m221ca3d801\" d=\"M 0 0 \nL 0 3.5 \n\" style=\"stroke: #000000; stroke-width: 0.8\"/>\n      </defs>\n      <g>\n       <use xlink:href=\"#m221ca3d801\" x=\"36.465625\" y=\"145.8\" style=\"stroke: #000000; stroke-width: 0.8\"/>\n      </g>\n     </g>\n     <g id=\"text_1\">\n      <!-- 0 -->\n      <g transform=\"translate(33.284375 160.398438) scale(0.1 -0.1)\">\n       <defs>\n        <path id=\"DejaVuSans-30\" d=\"M 2034 4250 \nQ 1547 4250 1301 3770 \nQ 1056 3291 1056 2328 \nQ 1056 1369 1301 889 \nQ 1547 409 2034 409 \nQ 2525 409 2770 889 \nQ 3016 1369 3016 2328 \nQ 3016 3291 2770 3770 \nQ 2525 4250 2034 4250 \nz\nM 2034 4750 \nQ 2819 4750 3233 4129 \nQ 3647 3509 3647 2328 \nQ 3647 1150 3233 529 \nQ 2819 -91 2034 -91 \nQ 1250 -91 836 529 \nQ 422 1150 422 2328 \nQ 422 3509 836 4129 \nQ 1250 4750 2034 4750 \nz\n\" transform=\"scale(0.015625)\"/>\n       </defs>\n       <use xlink:href=\"#DejaVuSans-30\"/>\n      </g>\n     </g>\n    </g>\n    <g id=\"xtick_2\">\n     <g id=\"line2d_2\">\n      <g>\n       <use xlink:href=\"#m221ca3d801\" x=\"75.525625\" y=\"145.8\" style=\"stroke: #000000; stroke-width: 0.8\"/>\n      </g>\n     </g>\n     <g id=\"text_2\">\n      <!-- 2 -->\n      <g transform=\"translate(72.344375 160.398438) scale(0.1 -0.1)\">\n       <defs>\n        <path id=\"DejaVuSans-32\" d=\"M 1228 531 \nL 3431 531 \nL 3431 0 \nL 469 0 \nL 469 531 \nQ 828 903 1448 1529 \nQ 2069 2156 2228 2338 \nQ 2531 2678 2651 2914 \nQ 2772 3150 2772 3378 \nQ 2772 3750 2511 3984 \nQ 2250 4219 1831 4219 \nQ 1534 4219 1204 4116 \nQ 875 4013 500 3803 \nL 500 4441 \nQ 881 4594 1212 4672 \nQ 1544 4750 1819 4750 \nQ 2544 4750 2975 4387 \nQ 3406 4025 3406 3419 \nQ 3406 3131 3298 2873 \nQ 3191 2616 2906 2266 \nQ 2828 2175 2409 1742 \nQ 1991 1309 1228 531 \nz\n\" transform=\"scale(0.015625)\"/>\n       </defs>\n       <use xlink:href=\"#DejaVuSans-32\"/>\n      </g>\n     </g>\n    </g>\n    <g id=\"xtick_3\">\n     <g id=\"line2d_3\">\n      <g>\n       <use xlink:href=\"#m221ca3d801\" x=\"114.585625\" y=\"145.8\" style=\"stroke: #000000; stroke-width: 0.8\"/>\n      </g>\n     </g>\n     <g id=\"text_3\">\n      <!-- 4 -->\n      <g transform=\"translate(111.404375 160.398438) scale(0.1 -0.1)\">\n       <defs>\n        <path id=\"DejaVuSans-34\" d=\"M 2419 4116 \nL 825 1625 \nL 2419 1625 \nL 2419 4116 \nz\nM 2253 4666 \nL 3047 4666 \nL 3047 1625 \nL 3713 1625 \nL 3713 1100 \nL 3047 1100 \nL 3047 0 \nL 2419 0 \nL 2419 1100 \nL 313 1100 \nL 313 1709 \nL 2253 4666 \nz\n\" transform=\"scale(0.015625)\"/>\n       </defs>\n       <use xlink:href=\"#DejaVuSans-34\"/>\n      </g>\n     </g>\n    </g>\n    <g id=\"xtick_4\">\n     <g id=\"line2d_4\">\n      <g>\n       <use xlink:href=\"#m221ca3d801\" x=\"153.645625\" y=\"145.8\" style=\"stroke: #000000; stroke-width: 0.8\"/>\n      </g>\n     </g>\n     <g id=\"text_4\">\n      <!-- 6 -->\n      <g transform=\"translate(150.464375 160.398438) scale(0.1 -0.1)\">\n       <defs>\n        <path id=\"DejaVuSans-36\" d=\"M 2113 2584 \nQ 1688 2584 1439 2293 \nQ 1191 2003 1191 1497 \nQ 1191 994 1439 701 \nQ 1688 409 2113 409 \nQ 2538 409 2786 701 \nQ 3034 994 3034 1497 \nQ 3034 2003 2786 2293 \nQ 2538 2584 2113 2584 \nz\nM 3366 4563 \nL 3366 3988 \nQ 3128 4100 2886 4159 \nQ 2644 4219 2406 4219 \nQ 1781 4219 1451 3797 \nQ 1122 3375 1075 2522 \nQ 1259 2794 1537 2939 \nQ 1816 3084 2150 3084 \nQ 2853 3084 3261 2657 \nQ 3669 2231 3669 1497 \nQ 3669 778 3244 343 \nQ 2819 -91 2113 -91 \nQ 1303 -91 875 529 \nQ 447 1150 447 2328 \nQ 447 3434 972 4092 \nQ 1497 4750 2381 4750 \nQ 2619 4750 2861 4703 \nQ 3103 4656 3366 4563 \nz\n\" transform=\"scale(0.015625)\"/>\n       </defs>\n       <use xlink:href=\"#DejaVuSans-36\"/>\n      </g>\n     </g>\n    </g>\n    <g id=\"xtick_5\">\n     <g id=\"line2d_5\">\n      <g>\n       <use xlink:href=\"#m221ca3d801\" x=\"192.705625\" y=\"145.8\" style=\"stroke: #000000; stroke-width: 0.8\"/>\n      </g>\n     </g>\n     <g id=\"text_5\">\n      <!-- 8 -->\n      <g transform=\"translate(189.524375 160.398438) scale(0.1 -0.1)\">\n       <defs>\n        <path id=\"DejaVuSans-38\" d=\"M 2034 2216 \nQ 1584 2216 1326 1975 \nQ 1069 1734 1069 1313 \nQ 1069 891 1326 650 \nQ 1584 409 2034 409 \nQ 2484 409 2743 651 \nQ 3003 894 3003 1313 \nQ 3003 1734 2745 1975 \nQ 2488 2216 2034 2216 \nz\nM 1403 2484 \nQ 997 2584 770 2862 \nQ 544 3141 544 3541 \nQ 544 4100 942 4425 \nQ 1341 4750 2034 4750 \nQ 2731 4750 3128 4425 \nQ 3525 4100 3525 3541 \nQ 3525 3141 3298 2862 \nQ 3072 2584 2669 2484 \nQ 3125 2378 3379 2068 \nQ 3634 1759 3634 1313 \nQ 3634 634 3220 271 \nQ 2806 -91 2034 -91 \nQ 1263 -91 848 271 \nQ 434 634 434 1313 \nQ 434 1759 690 2068 \nQ 947 2378 1403 2484 \nz\nM 1172 3481 \nQ 1172 3119 1398 2916 \nQ 1625 2713 2034 2713 \nQ 2441 2713 2670 2916 \nQ 2900 3119 2900 3481 \nQ 2900 3844 2670 4047 \nQ 2441 4250 2034 4250 \nQ 1625 4250 1398 4047 \nQ 1172 3844 1172 3481 \nz\n\" transform=\"scale(0.015625)\"/>\n       </defs>\n       <use xlink:href=\"#DejaVuSans-38\"/>\n      </g>\n     </g>\n    </g>\n    <g id=\"xtick_6\">\n     <g id=\"line2d_6\">\n      <g>\n       <use xlink:href=\"#m221ca3d801\" x=\"231.765625\" y=\"145.8\" style=\"stroke: #000000; stroke-width: 0.8\"/>\n      </g>\n     </g>\n     <g id=\"text_6\">\n      <!-- 10 -->\n      <g transform=\"translate(225.403125 160.398438) scale(0.1 -0.1)\">\n       <defs>\n        <path id=\"DejaVuSans-31\" d=\"M 794 531 \nL 1825 531 \nL 1825 4091 \nL 703 3866 \nL 703 4441 \nL 1819 4666 \nL 2450 4666 \nL 2450 531 \nL 3481 531 \nL 3481 0 \nL 794 0 \nL 794 531 \nz\n\" transform=\"scale(0.015625)\"/>\n       </defs>\n       <use xlink:href=\"#DejaVuSans-31\"/>\n       <use xlink:href=\"#DejaVuSans-30\" x=\"63.623047\"/>\n      </g>\n     </g>\n    </g>\n    <g id=\"text_7\">\n     <!-- epoch -->\n     <g transform=\"translate(118.8875 174.076563) scale(0.1 -0.1)\">\n      <defs>\n       <path id=\"DejaVuSans-65\" d=\"M 3597 1894 \nL 3597 1613 \nL 953 1613 \nQ 991 1019 1311 708 \nQ 1631 397 2203 397 \nQ 2534 397 2845 478 \nQ 3156 559 3463 722 \nL 3463 178 \nQ 3153 47 2828 -22 \nQ 2503 -91 2169 -91 \nQ 1331 -91 842 396 \nQ 353 884 353 1716 \nQ 353 2575 817 3079 \nQ 1281 3584 2069 3584 \nQ 2775 3584 3186 3129 \nQ 3597 2675 3597 1894 \nz\nM 3022 2063 \nQ 3016 2534 2758 2815 \nQ 2500 3097 2075 3097 \nQ 1594 3097 1305 2825 \nQ 1016 2553 972 2059 \nL 3022 2063 \nz\n\" transform=\"scale(0.015625)\"/>\n       <path id=\"DejaVuSans-70\" d=\"M 1159 525 \nL 1159 -1331 \nL 581 -1331 \nL 581 3500 \nL 1159 3500 \nL 1159 2969 \nQ 1341 3281 1617 3432 \nQ 1894 3584 2278 3584 \nQ 2916 3584 3314 3078 \nQ 3713 2572 3713 1747 \nQ 3713 922 3314 415 \nQ 2916 -91 2278 -91 \nQ 1894 -91 1617 61 \nQ 1341 213 1159 525 \nz\nM 3116 1747 \nQ 3116 2381 2855 2742 \nQ 2594 3103 2138 3103 \nQ 1681 3103 1420 2742 \nQ 1159 2381 1159 1747 \nQ 1159 1113 1420 752 \nQ 1681 391 2138 391 \nQ 2594 391 2855 752 \nQ 3116 1113 3116 1747 \nz\n\" transform=\"scale(0.015625)\"/>\n       <path id=\"DejaVuSans-6f\" d=\"M 1959 3097 \nQ 1497 3097 1228 2736 \nQ 959 2375 959 1747 \nQ 959 1119 1226 758 \nQ 1494 397 1959 397 \nQ 2419 397 2687 759 \nQ 2956 1122 2956 1747 \nQ 2956 2369 2687 2733 \nQ 2419 3097 1959 3097 \nz\nM 1959 3584 \nQ 2709 3584 3137 3096 \nQ 3566 2609 3566 1747 \nQ 3566 888 3137 398 \nQ 2709 -91 1959 -91 \nQ 1206 -91 779 398 \nQ 353 888 353 1747 \nQ 353 2609 779 3096 \nQ 1206 3584 1959 3584 \nz\n\" transform=\"scale(0.015625)\"/>\n       <path id=\"DejaVuSans-63\" d=\"M 3122 3366 \nL 3122 2828 \nQ 2878 2963 2633 3030 \nQ 2388 3097 2138 3097 \nQ 1578 3097 1268 2742 \nQ 959 2388 959 1747 \nQ 959 1106 1268 751 \nQ 1578 397 2138 397 \nQ 2388 397 2633 464 \nQ 2878 531 3122 666 \nL 3122 134 \nQ 2881 22 2623 -34 \nQ 2366 -91 2075 -91 \nQ 1284 -91 818 406 \nQ 353 903 353 1747 \nQ 353 2603 823 3093 \nQ 1294 3584 2113 3584 \nQ 2378 3584 2631 3529 \nQ 2884 3475 3122 3366 \nz\n\" transform=\"scale(0.015625)\"/>\n       <path id=\"DejaVuSans-68\" d=\"M 3513 2113 \nL 3513 0 \nL 2938 0 \nL 2938 2094 \nQ 2938 2591 2744 2837 \nQ 2550 3084 2163 3084 \nQ 1697 3084 1428 2787 \nQ 1159 2491 1159 1978 \nL 1159 0 \nL 581 0 \nL 581 4863 \nL 1159 4863 \nL 1159 2956 \nQ 1366 3272 1645 3428 \nQ 1925 3584 2291 3584 \nQ 2894 3584 3203 3211 \nQ 3513 2838 3513 2113 \nz\n\" transform=\"scale(0.015625)\"/>\n      </defs>\n      <use xlink:href=\"#DejaVuSans-65\"/>\n      <use xlink:href=\"#DejaVuSans-70\" x=\"61.523438\"/>\n      <use xlink:href=\"#DejaVuSans-6f\" x=\"125\"/>\n      <use xlink:href=\"#DejaVuSans-63\" x=\"186.181641\"/>\n      <use xlink:href=\"#DejaVuSans-68\" x=\"241.162109\"/>\n     </g>\n    </g>\n   </g>\n   <g id=\"matplotlib.axis_2\">\n    <g id=\"ytick_1\">\n     <g id=\"line2d_7\">\n      <defs>\n       <path id=\"m47bc999e62\" d=\"M 0 0 \nL -3.5 0 \n\" style=\"stroke: #000000; stroke-width: 0.8\"/>\n      </defs>\n      <g>\n       <use xlink:href=\"#m47bc999e62\" x=\"36.465625\" y=\"119.385442\" style=\"stroke: #000000; stroke-width: 0.8\"/>\n      </g>\n     </g>\n     <g id=\"text_8\">\n      <!-- 0.00 -->\n      <g transform=\"translate(7.2 123.18466) scale(0.1 -0.1)\">\n       <defs>\n        <path id=\"DejaVuSans-2e\" d=\"M 684 794 \nL 1344 794 \nL 1344 0 \nL 684 0 \nL 684 794 \nz\n\" transform=\"scale(0.015625)\"/>\n       </defs>\n       <use xlink:href=\"#DejaVuSans-30\"/>\n       <use xlink:href=\"#DejaVuSans-2e\" x=\"63.623047\"/>\n       <use xlink:href=\"#DejaVuSans-30\" x=\"95.410156\"/>\n       <use xlink:href=\"#DejaVuSans-30\" x=\"159.033203\"/>\n      </g>\n     </g>\n    </g>\n    <g id=\"ytick_2\">\n     <g id=\"line2d_8\">\n      <g>\n       <use xlink:href=\"#m47bc999e62\" x=\"36.465625\" y=\"84.492131\" style=\"stroke: #000000; stroke-width: 0.8\"/>\n      </g>\n     </g>\n     <g id=\"text_9\">\n      <!-- 0.02 -->\n      <g transform=\"translate(7.2 88.29135) scale(0.1 -0.1)\">\n       <use xlink:href=\"#DejaVuSans-30\"/>\n       <use xlink:href=\"#DejaVuSans-2e\" x=\"63.623047\"/>\n       <use xlink:href=\"#DejaVuSans-30\" x=\"95.410156\"/>\n       <use xlink:href=\"#DejaVuSans-32\" x=\"159.033203\"/>\n      </g>\n     </g>\n    </g>\n    <g id=\"ytick_3\">\n     <g id=\"line2d_9\">\n      <g>\n       <use xlink:href=\"#m47bc999e62\" x=\"36.465625\" y=\"49.598821\" style=\"stroke: #000000; stroke-width: 0.8\"/>\n      </g>\n     </g>\n     <g id=\"text_10\">\n      <!-- 0.04 -->\n      <g transform=\"translate(7.2 53.39804) scale(0.1 -0.1)\">\n       <use xlink:href=\"#DejaVuSans-30\"/>\n       <use xlink:href=\"#DejaVuSans-2e\" x=\"63.623047\"/>\n       <use xlink:href=\"#DejaVuSans-30\" x=\"95.410156\"/>\n       <use xlink:href=\"#DejaVuSans-34\" x=\"159.033203\"/>\n      </g>\n     </g>\n    </g>\n    <g id=\"ytick_4\">\n     <g id=\"line2d_10\">\n      <g>\n       <use xlink:href=\"#m47bc999e62\" x=\"36.465625\" y=\"14.705511\" style=\"stroke: #000000; stroke-width: 0.8\"/>\n      </g>\n     </g>\n     <g id=\"text_11\">\n      <!-- 0.06 -->\n      <g transform=\"translate(7.2 18.504729) scale(0.1 -0.1)\">\n       <use xlink:href=\"#DejaVuSans-30\"/>\n       <use xlink:href=\"#DejaVuSans-2e\" x=\"63.623047\"/>\n       <use xlink:href=\"#DejaVuSans-30\" x=\"95.410156\"/>\n       <use xlink:href=\"#DejaVuSans-36\" x=\"159.033203\"/>\n      </g>\n     </g>\n    </g>\n   </g>\n   <g id=\"line2d_11\">\n    <path d=\"M 41.285795 139.5 \n\" clip-path=\"url(#pbac57fc76b)\" style=\"fill: none; stroke: #1f77b4; stroke-width: 1.5; stroke-linecap: square\"/>\n   </g>\n   <g id=\"line2d_12\"/>\n   <g id=\"line2d_13\">\n    <path d=\"M 41.285795 139.5 \n\" clip-path=\"url(#pbac57fc76b)\" style=\"fill: none; stroke: #1f77b4; stroke-width: 1.5; stroke-linecap: square\"/>\n   </g>\n   <g id=\"line2d_14\">\n    <path d=\"M 41.285795 139.5 \n\" clip-path=\"url(#pbac57fc76b)\" style=\"fill: none; stroke-dasharray: 5.55,2.4; stroke-dashoffset: 0; stroke: #ff7f0e; stroke-width: 1.5\"/>\n   </g>\n   <g id=\"line2d_15\">\n    <path d=\"M 41.285795 139.5 \nL 51.009242 55.643073 \n\" clip-path=\"url(#pbac57fc76b)\" style=\"fill: none; stroke: #1f77b4; stroke-width: 1.5; stroke-linecap: square\"/>\n   </g>\n   <g id=\"line2d_16\">\n    <path d=\"M 41.285795 139.5 \n\" clip-path=\"url(#pbac57fc76b)\" style=\"fill: none; stroke-dasharray: 5.55,2.4; stroke-dashoffset: 0; stroke: #ff7f0e; stroke-width: 1.5\"/>\n   </g>\n   <g id=\"line2d_17\">\n    <path d=\"M 41.285795 139.5 \nL 51.009242 55.643073 \n\" clip-path=\"url(#pbac57fc76b)\" style=\"fill: none; stroke: #1f77b4; stroke-width: 1.5; stroke-linecap: square\"/>\n   </g>\n   <g id=\"line2d_18\">\n    <path d=\"M 41.285795 139.5 \nL 51.009242 55.643073 \n\" clip-path=\"url(#pbac57fc76b)\" style=\"fill: none; stroke-dasharray: 5.55,2.4; stroke-dashoffset: 0; stroke: #ff7f0e; stroke-width: 1.5\"/>\n   </g>\n   <g id=\"line2d_19\">\n    <path d=\"M 41.285795 139.5 \nL 51.009242 55.643073 \nL 58.019301 64.687436 \n\" clip-path=\"url(#pbac57fc76b)\" style=\"fill: none; stroke: #1f77b4; stroke-width: 1.5; stroke-linecap: square\"/>\n   </g>\n   <g id=\"line2d_20\">\n    <path d=\"M 41.285795 139.5 \nL 51.009242 55.643073 \n\" clip-path=\"url(#pbac57fc76b)\" style=\"fill: none; stroke-dasharray: 5.55,2.4; stroke-dashoffset: 0; stroke: #ff7f0e; stroke-width: 1.5\"/>\n   </g>\n   <g id=\"line2d_21\">\n    <path d=\"M 41.285795 139.5 \nL 51.009242 55.643073 \nL 58.019301 64.687436 \n\" clip-path=\"url(#pbac57fc76b)\" style=\"fill: none; stroke: #1f77b4; stroke-width: 1.5; stroke-linecap: square\"/>\n   </g>\n   <g id=\"line2d_22\">\n    <path d=\"M 41.285795 139.5 \nL 51.009242 55.643073 \nL 58.019301 64.687436 \n\" clip-path=\"url(#pbac57fc76b)\" style=\"fill: none; stroke-dasharray: 5.55,2.4; stroke-dashoffset: 0; stroke: #ff7f0e; stroke-width: 1.5\"/>\n   </g>\n   <g id=\"line2d_23\">\n    <path d=\"M 41.285795 139.5 \nL 51.009242 55.643073 \nL 58.019301 64.687436 \nL 67.13188 26.813794 \n\" clip-path=\"url(#pbac57fc76b)\" style=\"fill: none; stroke: #1f77b4; stroke-width: 1.5; stroke-linecap: square\"/>\n   </g>\n   <g id=\"line2d_24\">\n    <path d=\"M 41.285795 139.5 \nL 51.009242 55.643073 \nL 58.019301 64.687436 \n\" clip-path=\"url(#pbac57fc76b)\" style=\"fill: none; stroke-dasharray: 5.55,2.4; stroke-dashoffset: 0; stroke: #ff7f0e; stroke-width: 1.5\"/>\n   </g>\n   <g id=\"line2d_25\">\n    <path d=\"M 41.285795 139.5 \nL 51.009242 55.643073 \nL 58.019301 64.687436 \nL 67.13188 26.813794 \n\" clip-path=\"url(#pbac57fc76b)\" style=\"fill: none; stroke: #1f77b4; stroke-width: 1.5; stroke-linecap: square\"/>\n   </g>\n   <g id=\"line2d_26\">\n    <path d=\"M 41.285795 139.5 \nL 51.009242 55.643073 \nL 58.019301 64.687436 \nL 67.13188 26.813794 \n\" clip-path=\"url(#pbac57fc76b)\" style=\"fill: none; stroke-dasharray: 5.55,2.4; stroke-dashoffset: 0; stroke: #ff7f0e; stroke-width: 1.5\"/>\n   </g>\n   <g id=\"line2d_27\">\n    <path d=\"M 41.285795 139.5 \nL 51.009242 55.643073 \nL 58.019301 64.687436 \nL 67.13188 26.813794 \nL 75.306849 55.861734 \n\" clip-path=\"url(#pbac57fc76b)\" style=\"fill: none; stroke: #1f77b4; stroke-width: 1.5; stroke-linecap: square\"/>\n   </g>\n   <g id=\"line2d_28\">\n    <path d=\"M 41.285795 139.5 \nL 51.009242 55.643073 \nL 58.019301 64.687436 \nL 67.13188 26.813794 \n\" clip-path=\"url(#pbac57fc76b)\" style=\"fill: none; stroke-dasharray: 5.55,2.4; stroke-dashoffset: 0; stroke: #ff7f0e; stroke-width: 1.5\"/>\n   </g>\n   <g id=\"line2d_29\">\n    <path d=\"M 41.285795 139.5 \nL 51.009242 55.643073 \nL 58.019301 64.687436 \nL 67.13188 26.813794 \nL 75.306849 55.861734 \n\" clip-path=\"url(#pbac57fc76b)\" style=\"fill: none; stroke: #1f77b4; stroke-width: 1.5; stroke-linecap: square\"/>\n   </g>\n   <g id=\"line2d_30\">\n    <path d=\"M 41.285795 139.5 \nL 51.009242 55.643073 \nL 58.019301 64.687436 \nL 67.13188 26.813794 \nL 75.306849 55.861734 \n\" clip-path=\"url(#pbac57fc76b)\" style=\"fill: none; stroke-dasharray: 5.55,2.4; stroke-dashoffset: 0; stroke: #ff7f0e; stroke-width: 1.5\"/>\n   </g>\n   <g id=\"line2d_31\">\n    <path d=\"M 41.285795 139.5 \nL 51.009242 55.643073 \nL 58.019301 64.687436 \nL 67.13188 26.813794 \nL 75.306849 55.861734 \nL 83.254519 15.254077 \n\" clip-path=\"url(#pbac57fc76b)\" style=\"fill: none; stroke: #1f77b4; stroke-width: 1.5; stroke-linecap: square\"/>\n   </g>\n   <g id=\"line2d_32\">\n    <path d=\"M 41.285795 139.5 \nL 51.009242 55.643073 \nL 58.019301 64.687436 \nL 67.13188 26.813794 \nL 75.306849 55.861734 \n\" clip-path=\"url(#pbac57fc76b)\" style=\"fill: none; stroke-dasharray: 5.55,2.4; stroke-dashoffset: 0; stroke: #ff7f0e; stroke-width: 1.5\"/>\n   </g>\n   <g id=\"line2d_33\">\n    <path d=\"M 41.285795 139.5 \nL 51.009242 55.643073 \nL 58.019301 64.687436 \nL 67.13188 26.813794 \nL 75.306849 55.861734 \nL 83.254519 15.254077 \n\" clip-path=\"url(#pbac57fc76b)\" style=\"fill: none; stroke: #1f77b4; stroke-width: 1.5; stroke-linecap: square\"/>\n   </g>\n   <g id=\"line2d_34\">\n    <path d=\"M 41.285795 139.5 \nL 51.009242 55.643073 \nL 58.019301 64.687436 \nL 67.13188 26.813794 \nL 75.306849 55.861734 \nL 83.254519 15.254077 \n\" clip-path=\"url(#pbac57fc76b)\" style=\"fill: none; stroke-dasharray: 5.55,2.4; stroke-dashoffset: 0; stroke: #ff7f0e; stroke-width: 1.5\"/>\n   </g>\n   <g id=\"line2d_35\">\n    <path d=\"M 41.285795 139.5 \nL 51.009242 55.643073 \nL 58.019301 64.687436 \nL 67.13188 26.813794 \nL 75.306849 55.861734 \nL 83.254519 15.254077 \nL 92.579481 40.914103 \n\" clip-path=\"url(#pbac57fc76b)\" style=\"fill: none; stroke: #1f77b4; stroke-width: 1.5; stroke-linecap: square\"/>\n   </g>\n   <g id=\"line2d_36\">\n    <path d=\"M 41.285795 139.5 \nL 51.009242 55.643073 \nL 58.019301 64.687436 \nL 67.13188 26.813794 \nL 75.306849 55.861734 \nL 83.254519 15.254077 \n\" clip-path=\"url(#pbac57fc76b)\" style=\"fill: none; stroke-dasharray: 5.55,2.4; stroke-dashoffset: 0; stroke: #ff7f0e; stroke-width: 1.5\"/>\n   </g>\n   <g id=\"line2d_37\">\n    <path d=\"M 41.285795 139.5 \nL 51.009242 55.643073 \nL 58.019301 64.687436 \nL 67.13188 26.813794 \nL 75.306849 55.861734 \nL 83.254519 15.254077 \nL 92.579481 40.914103 \n\" clip-path=\"url(#pbac57fc76b)\" style=\"fill: none; stroke: #1f77b4; stroke-width: 1.5; stroke-linecap: square\"/>\n   </g>\n   <g id=\"line2d_38\">\n    <path d=\"M 41.285795 139.5 \nL 51.009242 55.643073 \nL 58.019301 64.687436 \nL 67.13188 26.813794 \nL 75.306849 55.861734 \nL 83.254519 15.254077 \nL 92.579481 40.914103 \n\" clip-path=\"url(#pbac57fc76b)\" style=\"fill: none; stroke-dasharray: 5.55,2.4; stroke-dashoffset: 0; stroke: #ff7f0e; stroke-width: 1.5\"/>\n   </g>\n   <g id=\"line2d_39\">\n    <path d=\"M 41.285795 139.5 \nL 51.009242 55.643073 \nL 58.019301 64.687436 \nL 67.13188 26.813794 \nL 75.306849 55.861734 \nL 83.254519 15.254077 \nL 92.579481 40.914103 \nL 99.392073 24.665804 \n\" clip-path=\"url(#pbac57fc76b)\" style=\"fill: none; stroke: #1f77b4; stroke-width: 1.5; stroke-linecap: square\"/>\n   </g>\n   <g id=\"line2d_40\">\n    <path d=\"M 41.285795 139.5 \nL 51.009242 55.643073 \nL 58.019301 64.687436 \nL 67.13188 26.813794 \nL 75.306849 55.861734 \nL 83.254519 15.254077 \nL 92.579481 40.914103 \n\" clip-path=\"url(#pbac57fc76b)\" style=\"fill: none; stroke-dasharray: 5.55,2.4; stroke-dashoffset: 0; stroke: #ff7f0e; stroke-width: 1.5\"/>\n   </g>\n   <g id=\"line2d_41\">\n    <path d=\"M 41.285795 139.5 \nL 51.009242 55.643073 \nL 58.019301 64.687436 \nL 67.13188 26.813794 \nL 75.306849 55.861734 \nL 83.254519 15.254077 \nL 92.579481 40.914103 \nL 99.392073 24.665804 \n\" clip-path=\"url(#pbac57fc76b)\" style=\"fill: none; stroke: #1f77b4; stroke-width: 1.5; stroke-linecap: square\"/>\n   </g>\n   <g id=\"line2d_42\">\n    <path d=\"M 41.285795 139.5 \nL 51.009242 55.643073 \nL 58.019301 64.687436 \nL 67.13188 26.813794 \nL 75.306849 55.861734 \nL 83.254519 15.254077 \nL 92.579481 40.914103 \nL 99.392073 24.665804 \n\" clip-path=\"url(#pbac57fc76b)\" style=\"fill: none; stroke-dasharray: 5.55,2.4; stroke-dashoffset: 0; stroke: #ff7f0e; stroke-width: 1.5\"/>\n   </g>\n   <g id=\"line2d_43\">\n    <path d=\"M 41.285795 139.5 \nL 51.009242 55.643073 \nL 58.019301 64.687436 \nL 67.13188 26.813794 \nL 75.306849 55.861734 \nL 83.254519 15.254077 \nL 92.579481 40.914103 \nL 99.392073 24.665804 \nL 109.100604 19.797001 \n\" clip-path=\"url(#pbac57fc76b)\" style=\"fill: none; stroke: #1f77b4; stroke-width: 1.5; stroke-linecap: square\"/>\n   </g>\n   <g id=\"line2d_44\">\n    <path d=\"M 41.285795 139.5 \nL 51.009242 55.643073 \nL 58.019301 64.687436 \nL 67.13188 26.813794 \nL 75.306849 55.861734 \nL 83.254519 15.254077 \nL 92.579481 40.914103 \nL 99.392073 24.665804 \n\" clip-path=\"url(#pbac57fc76b)\" style=\"fill: none; stroke-dasharray: 5.55,2.4; stroke-dashoffset: 0; stroke: #ff7f0e; stroke-width: 1.5\"/>\n   </g>\n   <g id=\"line2d_45\">\n    <path d=\"M 41.285795 139.5 \nL 51.009242 55.643073 \nL 58.019301 64.687436 \nL 67.13188 26.813794 \nL 75.306849 55.861734 \nL 83.254519 15.254077 \nL 92.579481 40.914103 \nL 99.392073 24.665804 \nL 109.100604 19.797001 \n\" clip-path=\"url(#pbac57fc76b)\" style=\"fill: none; stroke: #1f77b4; stroke-width: 1.5; stroke-linecap: square\"/>\n   </g>\n   <g id=\"line2d_46\">\n    <path d=\"M 41.285795 139.5 \nL 51.009242 55.643073 \nL 58.019301 64.687436 \nL 67.13188 26.813794 \nL 75.306849 55.861734 \nL 83.254519 15.254077 \nL 92.579481 40.914103 \nL 99.392073 24.665804 \nL 109.100604 19.797001 \n\" clip-path=\"url(#pbac57fc76b)\" style=\"fill: none; stroke-dasharray: 5.55,2.4; stroke-dashoffset: 0; stroke: #ff7f0e; stroke-width: 1.5\"/>\n   </g>\n   <g id=\"line2d_47\">\n    <path d=\"M 41.285795 139.5 \nL 51.009242 55.643073 \nL 58.019301 64.687436 \nL 67.13188 26.813794 \nL 75.306849 55.861734 \nL 83.254519 15.254077 \nL 92.579481 40.914103 \nL 99.392073 24.665804 \nL 109.100604 19.797001 \nL 116.281137 52.163854 \n\" clip-path=\"url(#pbac57fc76b)\" style=\"fill: none; stroke: #1f77b4; stroke-width: 1.5; stroke-linecap: square\"/>\n   </g>\n   <g id=\"line2d_48\">\n    <path d=\"M 41.285795 139.5 \nL 51.009242 55.643073 \nL 58.019301 64.687436 \nL 67.13188 26.813794 \nL 75.306849 55.861734 \nL 83.254519 15.254077 \nL 92.579481 40.914103 \nL 99.392073 24.665804 \nL 109.100604 19.797001 \n\" clip-path=\"url(#pbac57fc76b)\" style=\"fill: none; stroke-dasharray: 5.55,2.4; stroke-dashoffset: 0; stroke: #ff7f0e; stroke-width: 1.5\"/>\n   </g>\n   <g id=\"line2d_49\">\n    <path d=\"M 41.285795 139.5 \nL 51.009242 55.643073 \nL 58.019301 64.687436 \nL 67.13188 26.813794 \nL 75.306849 55.861734 \nL 83.254519 15.254077 \nL 92.579481 40.914103 \nL 99.392073 24.665804 \nL 109.100604 19.797001 \nL 116.281137 52.163854 \n\" clip-path=\"url(#pbac57fc76b)\" style=\"fill: none; stroke: #1f77b4; stroke-width: 1.5; stroke-linecap: square\"/>\n   </g>\n   <g id=\"line2d_50\">\n    <path d=\"M 41.285795 139.5 \nL 51.009242 55.643073 \nL 58.019301 64.687436 \nL 67.13188 26.813794 \nL 75.306849 55.861734 \nL 83.254519 15.254077 \nL 92.579481 40.914103 \nL 99.392073 24.665804 \nL 109.100604 19.797001 \nL 116.281137 52.163854 \n\" clip-path=\"url(#pbac57fc76b)\" style=\"fill: none; stroke-dasharray: 5.55,2.4; stroke-dashoffset: 0; stroke: #ff7f0e; stroke-width: 1.5\"/>\n   </g>\n   <g id=\"line2d_51\">\n    <path d=\"M 41.285795 139.5 \nL 51.009242 55.643073 \nL 58.019301 64.687436 \nL 67.13188 26.813794 \nL 75.306849 55.861734 \nL 83.254519 15.254077 \nL 92.579481 40.914103 \nL 99.392073 24.665804 \nL 109.100604 19.797001 \nL 116.281137 52.163854 \nL 125.223242 15.85215 \n\" clip-path=\"url(#pbac57fc76b)\" style=\"fill: none; stroke: #1f77b4; stroke-width: 1.5; stroke-linecap: square\"/>\n   </g>\n   <g id=\"line2d_52\">\n    <path d=\"M 41.285795 139.5 \nL 51.009242 55.643073 \nL 58.019301 64.687436 \nL 67.13188 26.813794 \nL 75.306849 55.861734 \nL 83.254519 15.254077 \nL 92.579481 40.914103 \nL 99.392073 24.665804 \nL 109.100604 19.797001 \nL 116.281137 52.163854 \n\" clip-path=\"url(#pbac57fc76b)\" style=\"fill: none; stroke-dasharray: 5.55,2.4; stroke-dashoffset: 0; stroke: #ff7f0e; stroke-width: 1.5\"/>\n   </g>\n   <g id=\"line2d_53\">\n    <path d=\"M 41.285795 139.5 \nL 51.009242 55.643073 \nL 58.019301 64.687436 \nL 67.13188 26.813794 \nL 75.306849 55.861734 \nL 83.254519 15.254077 \nL 92.579481 40.914103 \nL 99.392073 24.665804 \nL 109.100604 19.797001 \nL 116.281137 52.163854 \nL 125.223242 15.85215 \n\" clip-path=\"url(#pbac57fc76b)\" style=\"fill: none; stroke: #1f77b4; stroke-width: 1.5; stroke-linecap: square\"/>\n   </g>\n   <g id=\"line2d_54\">\n    <path d=\"M 41.285795 139.5 \nL 51.009242 55.643073 \nL 58.019301 64.687436 \nL 67.13188 26.813794 \nL 75.306849 55.861734 \nL 83.254519 15.254077 \nL 92.579481 40.914103 \nL 99.392073 24.665804 \nL 109.100604 19.797001 \nL 116.281137 52.163854 \nL 125.223242 15.85215 \n\" clip-path=\"url(#pbac57fc76b)\" style=\"fill: none; stroke-dasharray: 5.55,2.4; stroke-dashoffset: 0; stroke: #ff7f0e; stroke-width: 1.5\"/>\n   </g>\n   <g id=\"line2d_55\">\n    <path d=\"M 41.285795 139.5 \nL 51.009242 55.643073 \nL 58.019301 64.687436 \nL 67.13188 26.813794 \nL 75.306849 55.861734 \nL 83.254519 15.254077 \nL 92.579481 40.914103 \nL 99.392073 24.665804 \nL 109.100604 19.797001 \nL 116.281137 52.163854 \nL 125.223242 15.85215 \nL 133.568686 41.383337 \n\" clip-path=\"url(#pbac57fc76b)\" style=\"fill: none; stroke: #1f77b4; stroke-width: 1.5; stroke-linecap: square\"/>\n   </g>\n   <g id=\"line2d_56\">\n    <path d=\"M 41.285795 139.5 \nL 51.009242 55.643073 \nL 58.019301 64.687436 \nL 67.13188 26.813794 \nL 75.306849 55.861734 \nL 83.254519 15.254077 \nL 92.579481 40.914103 \nL 99.392073 24.665804 \nL 109.100604 19.797001 \nL 116.281137 52.163854 \nL 125.223242 15.85215 \n\" clip-path=\"url(#pbac57fc76b)\" style=\"fill: none; stroke-dasharray: 5.55,2.4; stroke-dashoffset: 0; stroke: #ff7f0e; stroke-width: 1.5\"/>\n   </g>\n   <g id=\"line2d_57\">\n    <path d=\"M 41.285795 139.5 \nL 51.009242 55.643073 \nL 58.019301 64.687436 \nL 67.13188 26.813794 \nL 75.306849 55.861734 \nL 83.254519 15.254077 \nL 92.579481 40.914103 \nL 99.392073 24.665804 \nL 109.100604 19.797001 \nL 116.281137 52.163854 \nL 125.223242 15.85215 \nL 133.568686 41.383337 \n\" clip-path=\"url(#pbac57fc76b)\" style=\"fill: none; stroke: #1f77b4; stroke-width: 1.5; stroke-linecap: square\"/>\n   </g>\n   <g id=\"line2d_58\">\n    <path d=\"M 41.285795 139.5 \nL 51.009242 55.643073 \nL 58.019301 64.687436 \nL 67.13188 26.813794 \nL 75.306849 55.861734 \nL 83.254519 15.254077 \nL 92.579481 40.914103 \nL 99.392073 24.665804 \nL 109.100604 19.797001 \nL 116.281137 52.163854 \nL 125.223242 15.85215 \nL 133.568686 41.383337 \n\" clip-path=\"url(#pbac57fc76b)\" style=\"fill: none; stroke-dasharray: 5.55,2.4; stroke-dashoffset: 0; stroke: #ff7f0e; stroke-width: 1.5\"/>\n   </g>\n   <g id=\"line2d_59\">\n    <path d=\"M 41.285795 139.5 \nL 51.009242 55.643073 \nL 58.019301 64.687436 \nL 67.13188 26.813794 \nL 75.306849 55.861734 \nL 83.254519 15.254077 \nL 92.579481 40.914103 \nL 99.392073 24.665804 \nL 109.100604 19.797001 \nL 116.281137 52.163854 \nL 125.223242 15.85215 \nL 133.568686 41.383337 \nL 141.34588 14.790015 \n\" clip-path=\"url(#pbac57fc76b)\" style=\"fill: none; stroke: #1f77b4; stroke-width: 1.5; stroke-linecap: square\"/>\n   </g>\n   <g id=\"line2d_60\">\n    <path d=\"M 41.285795 139.5 \nL 51.009242 55.643073 \nL 58.019301 64.687436 \nL 67.13188 26.813794 \nL 75.306849 55.861734 \nL 83.254519 15.254077 \nL 92.579481 40.914103 \nL 99.392073 24.665804 \nL 109.100604 19.797001 \nL 116.281137 52.163854 \nL 125.223242 15.85215 \nL 133.568686 41.383337 \n\" clip-path=\"url(#pbac57fc76b)\" style=\"fill: none; stroke-dasharray: 5.55,2.4; stroke-dashoffset: 0; stroke: #ff7f0e; stroke-width: 1.5\"/>\n   </g>\n   <g id=\"line2d_61\">\n    <path d=\"M 41.285795 139.5 \nL 51.009242 55.643073 \nL 58.019301 64.687436 \nL 67.13188 26.813794 \nL 75.306849 55.861734 \nL 83.254519 15.254077 \nL 92.579481 40.914103 \nL 99.392073 24.665804 \nL 109.100604 19.797001 \nL 116.281137 52.163854 \nL 125.223242 15.85215 \nL 133.568686 41.383337 \nL 141.34588 14.790015 \n\" clip-path=\"url(#pbac57fc76b)\" style=\"fill: none; stroke: #1f77b4; stroke-width: 1.5; stroke-linecap: square\"/>\n   </g>\n   <g id=\"line2d_62\">\n    <path d=\"M 41.285795 139.5 \nL 51.009242 55.643073 \nL 58.019301 64.687436 \nL 67.13188 26.813794 \nL 75.306849 55.861734 \nL 83.254519 15.254077 \nL 92.579481 40.914103 \nL 99.392073 24.665804 \nL 109.100604 19.797001 \nL 116.281137 52.163854 \nL 125.223242 15.85215 \nL 133.568686 41.383337 \nL 141.34588 14.790015 \n\" clip-path=\"url(#pbac57fc76b)\" style=\"fill: none; stroke-dasharray: 5.55,2.4; stroke-dashoffset: 0; stroke: #ff7f0e; stroke-width: 1.5\"/>\n   </g>\n   <g id=\"line2d_63\">\n    <path d=\"M 41.285795 139.5 \nL 51.009242 55.643073 \nL 58.019301 64.687436 \nL 67.13188 26.813794 \nL 75.306849 55.861734 \nL 83.254519 15.254077 \nL 92.579481 40.914103 \nL 99.392073 24.665804 \nL 109.100604 19.797001 \nL 116.281137 52.163854 \nL 125.223242 15.85215 \nL 133.568686 41.383337 \nL 141.34588 14.790015 \nL 150.80083 45.966998 \n\" clip-path=\"url(#pbac57fc76b)\" style=\"fill: none; stroke: #1f77b4; stroke-width: 1.5; stroke-linecap: square\"/>\n   </g>\n   <g id=\"line2d_64\">\n    <path d=\"M 41.285795 139.5 \nL 51.009242 55.643073 \nL 58.019301 64.687436 \nL 67.13188 26.813794 \nL 75.306849 55.861734 \nL 83.254519 15.254077 \nL 92.579481 40.914103 \nL 99.392073 24.665804 \nL 109.100604 19.797001 \nL 116.281137 52.163854 \nL 125.223242 15.85215 \nL 133.568686 41.383337 \nL 141.34588 14.790015 \n\" clip-path=\"url(#pbac57fc76b)\" style=\"fill: none; stroke-dasharray: 5.55,2.4; stroke-dashoffset: 0; stroke: #ff7f0e; stroke-width: 1.5\"/>\n   </g>\n   <g id=\"line2d_65\">\n    <path d=\"M 41.285795 139.5 \nL 51.009242 55.643073 \nL 58.019301 64.687436 \nL 67.13188 26.813794 \nL 75.306849 55.861734 \nL 83.254519 15.254077 \nL 92.579481 40.914103 \nL 99.392073 24.665804 \nL 109.100604 19.797001 \nL 116.281137 52.163854 \nL 125.223242 15.85215 \nL 133.568686 41.383337 \nL 141.34588 14.790015 \nL 150.80083 45.966998 \n\" clip-path=\"url(#pbac57fc76b)\" style=\"fill: none; stroke: #1f77b4; stroke-width: 1.5; stroke-linecap: square\"/>\n   </g>\n   <g id=\"line2d_66\">\n    <path d=\"M 41.285795 139.5 \nL 51.009242 55.643073 \nL 58.019301 64.687436 \nL 67.13188 26.813794 \nL 75.306849 55.861734 \nL 83.254519 15.254077 \nL 92.579481 40.914103 \nL 99.392073 24.665804 \nL 109.100604 19.797001 \nL 116.281137 52.163854 \nL 125.223242 15.85215 \nL 133.568686 41.383337 \nL 141.34588 14.790015 \nL 150.80083 45.966998 \n\" clip-path=\"url(#pbac57fc76b)\" style=\"fill: none; stroke-dasharray: 5.55,2.4; stroke-dashoffset: 0; stroke: #ff7f0e; stroke-width: 1.5\"/>\n   </g>\n   <g id=\"line2d_67\">\n    <path d=\"M 41.285795 139.5 \nL 51.009242 55.643073 \nL 58.019301 64.687436 \nL 67.13188 26.813794 \nL 75.306849 55.861734 \nL 83.254519 15.254077 \nL 92.579481 40.914103 \nL 99.392073 24.665804 \nL 109.100604 19.797001 \nL 116.281137 52.163854 \nL 125.223242 15.85215 \nL 133.568686 41.383337 \nL 141.34588 14.790015 \nL 150.80083 45.966998 \nL 157.523923 28.544353 \n\" clip-path=\"url(#pbac57fc76b)\" style=\"fill: none; stroke: #1f77b4; stroke-width: 1.5; stroke-linecap: square\"/>\n   </g>\n   <g id=\"line2d_68\">\n    <path d=\"M 41.285795 139.5 \nL 51.009242 55.643073 \nL 58.019301 64.687436 \nL 67.13188 26.813794 \nL 75.306849 55.861734 \nL 83.254519 15.254077 \nL 92.579481 40.914103 \nL 99.392073 24.665804 \nL 109.100604 19.797001 \nL 116.281137 52.163854 \nL 125.223242 15.85215 \nL 133.568686 41.383337 \nL 141.34588 14.790015 \nL 150.80083 45.966998 \n\" clip-path=\"url(#pbac57fc76b)\" style=\"fill: none; stroke-dasharray: 5.55,2.4; stroke-dashoffset: 0; stroke: #ff7f0e; stroke-width: 1.5\"/>\n   </g>\n   <g id=\"line2d_69\">\n    <path d=\"M 41.285795 139.5 \nL 51.009242 55.643073 \nL 58.019301 64.687436 \nL 67.13188 26.813794 \nL 75.306849 55.861734 \nL 83.254519 15.254077 \nL 92.579481 40.914103 \nL 99.392073 24.665804 \nL 109.100604 19.797001 \nL 116.281137 52.163854 \nL 125.223242 15.85215 \nL 133.568686 41.383337 \nL 141.34588 14.790015 \nL 150.80083 45.966998 \nL 157.523923 28.544353 \n\" clip-path=\"url(#pbac57fc76b)\" style=\"fill: none; stroke: #1f77b4; stroke-width: 1.5; stroke-linecap: square\"/>\n   </g>\n   <g id=\"line2d_70\">\n    <path d=\"M 41.285795 139.5 \nL 51.009242 55.643073 \nL 58.019301 64.687436 \nL 67.13188 26.813794 \nL 75.306849 55.861734 \nL 83.254519 15.254077 \nL 92.579481 40.914103 \nL 99.392073 24.665804 \nL 109.100604 19.797001 \nL 116.281137 52.163854 \nL 125.223242 15.85215 \nL 133.568686 41.383337 \nL 141.34588 14.790015 \nL 150.80083 45.966998 \nL 157.523923 28.544353 \n\" clip-path=\"url(#pbac57fc76b)\" style=\"fill: none; stroke-dasharray: 5.55,2.4; stroke-dashoffset: 0; stroke: #ff7f0e; stroke-width: 1.5\"/>\n   </g>\n   <g id=\"line2d_71\">\n    <path d=\"M 41.285795 139.5 \nL 51.009242 55.643073 \nL 58.019301 64.687436 \nL 67.13188 26.813794 \nL 75.306849 55.861734 \nL 83.254519 15.254077 \nL 92.579481 40.914103 \nL 99.392073 24.665804 \nL 109.100604 19.797001 \nL 116.281137 52.163854 \nL 125.223242 15.85215 \nL 133.568686 41.383337 \nL 141.34588 14.790015 \nL 150.80083 45.966998 \nL 157.523923 28.544353 \nL 167.191965 13.750524 \n\" clip-path=\"url(#pbac57fc76b)\" style=\"fill: none; stroke: #1f77b4; stroke-width: 1.5; stroke-linecap: square\"/>\n   </g>\n   <g id=\"line2d_72\">\n    <path d=\"M 41.285795 139.5 \nL 51.009242 55.643073 \nL 58.019301 64.687436 \nL 67.13188 26.813794 \nL 75.306849 55.861734 \nL 83.254519 15.254077 \nL 92.579481 40.914103 \nL 99.392073 24.665804 \nL 109.100604 19.797001 \nL 116.281137 52.163854 \nL 125.223242 15.85215 \nL 133.568686 41.383337 \nL 141.34588 14.790015 \nL 150.80083 45.966998 \nL 157.523923 28.544353 \n\" clip-path=\"url(#pbac57fc76b)\" style=\"fill: none; stroke-dasharray: 5.55,2.4; stroke-dashoffset: 0; stroke: #ff7f0e; stroke-width: 1.5\"/>\n   </g>\n   <g id=\"line2d_73\">\n    <path d=\"M 41.285795 139.5 \nL 51.009242 55.643073 \nL 58.019301 64.687436 \nL 67.13188 26.813794 \nL 75.306849 55.861734 \nL 83.254519 15.254077 \nL 92.579481 40.914103 \nL 99.392073 24.665804 \nL 109.100604 19.797001 \nL 116.281137 52.163854 \nL 125.223242 15.85215 \nL 133.568686 41.383337 \nL 141.34588 14.790015 \nL 150.80083 45.966998 \nL 157.523923 28.544353 \nL 167.191965 13.750524 \n\" clip-path=\"url(#pbac57fc76b)\" style=\"fill: none; stroke: #1f77b4; stroke-width: 1.5; stroke-linecap: square\"/>\n   </g>\n   <g id=\"line2d_74\">\n    <path d=\"M 41.285795 139.5 \nL 51.009242 55.643073 \nL 58.019301 64.687436 \nL 67.13188 26.813794 \nL 75.306849 55.861734 \nL 83.254519 15.254077 \nL 92.579481 40.914103 \nL 99.392073 24.665804 \nL 109.100604 19.797001 \nL 116.281137 52.163854 \nL 125.223242 15.85215 \nL 133.568686 41.383337 \nL 141.34588 14.790015 \nL 150.80083 45.966998 \nL 157.523923 28.544353 \nL 167.191965 13.750524 \n\" clip-path=\"url(#pbac57fc76b)\" style=\"fill: none; stroke-dasharray: 5.55,2.4; stroke-dashoffset: 0; stroke: #ff7f0e; stroke-width: 1.5\"/>\n   </g>\n   <g id=\"line2d_75\">\n    <path d=\"M 41.285795 139.5 \nL 51.009242 55.643073 \nL 58.019301 64.687436 \nL 67.13188 26.813794 \nL 75.306849 55.861734 \nL 83.254519 15.254077 \nL 92.579481 40.914103 \nL 99.392073 24.665804 \nL 109.100604 19.797001 \nL 116.281137 52.163854 \nL 125.223242 15.85215 \nL 133.568686 41.383337 \nL 141.34588 14.790015 \nL 150.80083 45.966998 \nL 157.523923 28.544353 \nL 167.191965 13.750524 \nL 174.542974 56.160644 \n\" clip-path=\"url(#pbac57fc76b)\" style=\"fill: none; stroke: #1f77b4; stroke-width: 1.5; stroke-linecap: square\"/>\n   </g>\n   <g id=\"line2d_76\">\n    <path d=\"M 41.285795 139.5 \nL 51.009242 55.643073 \nL 58.019301 64.687436 \nL 67.13188 26.813794 \nL 75.306849 55.861734 \nL 83.254519 15.254077 \nL 92.579481 40.914103 \nL 99.392073 24.665804 \nL 109.100604 19.797001 \nL 116.281137 52.163854 \nL 125.223242 15.85215 \nL 133.568686 41.383337 \nL 141.34588 14.790015 \nL 150.80083 45.966998 \nL 157.523923 28.544353 \nL 167.191965 13.750524 \n\" clip-path=\"url(#pbac57fc76b)\" style=\"fill: none; stroke-dasharray: 5.55,2.4; stroke-dashoffset: 0; stroke: #ff7f0e; stroke-width: 1.5\"/>\n   </g>\n   <g id=\"line2d_77\">\n    <path d=\"M 41.285795 139.5 \nL 51.009242 55.643073 \nL 58.019301 64.687436 \nL 67.13188 26.813794 \nL 75.306849 55.861734 \nL 83.254519 15.254077 \nL 92.579481 40.914103 \nL 99.392073 24.665804 \nL 109.100604 19.797001 \nL 116.281137 52.163854 \nL 125.223242 15.85215 \nL 133.568686 41.383337 \nL 141.34588 14.790015 \nL 150.80083 45.966998 \nL 157.523923 28.544353 \nL 167.191965 13.750524 \nL 174.542974 56.160644 \n\" clip-path=\"url(#pbac57fc76b)\" style=\"fill: none; stroke: #1f77b4; stroke-width: 1.5; stroke-linecap: square\"/>\n   </g>\n   <g id=\"line2d_78\">\n    <path d=\"M 41.285795 139.5 \nL 51.009242 55.643073 \nL 58.019301 64.687436 \nL 67.13188 26.813794 \nL 75.306849 55.861734 \nL 83.254519 15.254077 \nL 92.579481 40.914103 \nL 99.392073 24.665804 \nL 109.100604 19.797001 \nL 116.281137 52.163854 \nL 125.223242 15.85215 \nL 133.568686 41.383337 \nL 141.34588 14.790015 \nL 150.80083 45.966998 \nL 157.523923 28.544353 \nL 167.191965 13.750524 \nL 174.542974 56.160644 \n\" clip-path=\"url(#pbac57fc76b)\" style=\"fill: none; stroke-dasharray: 5.55,2.4; stroke-dashoffset: 0; stroke: #ff7f0e; stroke-width: 1.5\"/>\n   </g>\n   <g id=\"line2d_79\">\n    <path d=\"M 41.285795 139.5 \nL 51.009242 55.643073 \nL 58.019301 64.687436 \nL 67.13188 26.813794 \nL 75.306849 55.861734 \nL 83.254519 15.254077 \nL 92.579481 40.914103 \nL 99.392073 24.665804 \nL 109.100604 19.797001 \nL 116.281137 52.163854 \nL 125.223242 15.85215 \nL 133.568686 41.383337 \nL 141.34588 14.790015 \nL 150.80083 45.966998 \nL 157.523923 28.544353 \nL 167.191965 13.750524 \nL 174.542974 56.160644 \nL 183.314604 14.215556 \n\" clip-path=\"url(#pbac57fc76b)\" style=\"fill: none; stroke: #1f77b4; stroke-width: 1.5; stroke-linecap: square\"/>\n   </g>\n   <g id=\"line2d_80\">\n    <path d=\"M 41.285795 139.5 \nL 51.009242 55.643073 \nL 58.019301 64.687436 \nL 67.13188 26.813794 \nL 75.306849 55.861734 \nL 83.254519 15.254077 \nL 92.579481 40.914103 \nL 99.392073 24.665804 \nL 109.100604 19.797001 \nL 116.281137 52.163854 \nL 125.223242 15.85215 \nL 133.568686 41.383337 \nL 141.34588 14.790015 \nL 150.80083 45.966998 \nL 157.523923 28.544353 \nL 167.191965 13.750524 \nL 174.542974 56.160644 \n\" clip-path=\"url(#pbac57fc76b)\" style=\"fill: none; stroke-dasharray: 5.55,2.4; stroke-dashoffset: 0; stroke: #ff7f0e; stroke-width: 1.5\"/>\n   </g>\n   <g id=\"line2d_81\">\n    <path d=\"M 41.285795 139.5 \nL 51.009242 55.643073 \nL 58.019301 64.687436 \nL 67.13188 26.813794 \nL 75.306849 55.861734 \nL 83.254519 15.254077 \nL 92.579481 40.914103 \nL 99.392073 24.665804 \nL 109.100604 19.797001 \nL 116.281137 52.163854 \nL 125.223242 15.85215 \nL 133.568686 41.383337 \nL 141.34588 14.790015 \nL 150.80083 45.966998 \nL 157.523923 28.544353 \nL 167.191965 13.750524 \nL 174.542974 56.160644 \nL 183.314604 14.215556 \n\" clip-path=\"url(#pbac57fc76b)\" style=\"fill: none; stroke: #1f77b4; stroke-width: 1.5; stroke-linecap: square\"/>\n   </g>\n   <g id=\"line2d_82\">\n    <path d=\"M 41.285795 139.5 \nL 51.009242 55.643073 \nL 58.019301 64.687436 \nL 67.13188 26.813794 \nL 75.306849 55.861734 \nL 83.254519 15.254077 \nL 92.579481 40.914103 \nL 99.392073 24.665804 \nL 109.100604 19.797001 \nL 116.281137 52.163854 \nL 125.223242 15.85215 \nL 133.568686 41.383337 \nL 141.34588 14.790015 \nL 150.80083 45.966998 \nL 157.523923 28.544353 \nL 167.191965 13.750524 \nL 174.542974 56.160644 \nL 183.314604 14.215556 \n\" clip-path=\"url(#pbac57fc76b)\" style=\"fill: none; stroke-dasharray: 5.55,2.4; stroke-dashoffset: 0; stroke: #ff7f0e; stroke-width: 1.5\"/>\n   </g>\n   <g id=\"line2d_83\">\n    <path d=\"M 41.285795 139.5 \nL 51.009242 55.643073 \nL 58.019301 64.687436 \nL 67.13188 26.813794 \nL 75.306849 55.861734 \nL 83.254519 15.254077 \nL 92.579481 40.914103 \nL 99.392073 24.665804 \nL 109.100604 19.797001 \nL 116.281137 52.163854 \nL 125.223242 15.85215 \nL 133.568686 41.383337 \nL 141.34588 14.790015 \nL 150.80083 45.966998 \nL 157.523923 28.544353 \nL 167.191965 13.750524 \nL 174.542974 56.160644 \nL 183.314604 14.215556 \nL 191.830522 45.66619 \n\" clip-path=\"url(#pbac57fc76b)\" style=\"fill: none; stroke: #1f77b4; stroke-width: 1.5; stroke-linecap: square\"/>\n   </g>\n   <g id=\"line2d_84\">\n    <path d=\"M 41.285795 139.5 \nL 51.009242 55.643073 \nL 58.019301 64.687436 \nL 67.13188 26.813794 \nL 75.306849 55.861734 \nL 83.254519 15.254077 \nL 92.579481 40.914103 \nL 99.392073 24.665804 \nL 109.100604 19.797001 \nL 116.281137 52.163854 \nL 125.223242 15.85215 \nL 133.568686 41.383337 \nL 141.34588 14.790015 \nL 150.80083 45.966998 \nL 157.523923 28.544353 \nL 167.191965 13.750524 \nL 174.542974 56.160644 \nL 183.314604 14.215556 \n\" clip-path=\"url(#pbac57fc76b)\" style=\"fill: none; stroke-dasharray: 5.55,2.4; stroke-dashoffset: 0; stroke: #ff7f0e; stroke-width: 1.5\"/>\n   </g>\n   <g id=\"line2d_85\">\n    <path d=\"M 41.285795 139.5 \nL 51.009242 55.643073 \nL 58.019301 64.687436 \nL 67.13188 26.813794 \nL 75.306849 55.861734 \nL 83.254519 15.254077 \nL 92.579481 40.914103 \nL 99.392073 24.665804 \nL 109.100604 19.797001 \nL 116.281137 52.163854 \nL 125.223242 15.85215 \nL 133.568686 41.383337 \nL 141.34588 14.790015 \nL 150.80083 45.966998 \nL 157.523923 28.544353 \nL 167.191965 13.750524 \nL 174.542974 56.160644 \nL 183.314604 14.215556 \nL 191.830522 45.66619 \n\" clip-path=\"url(#pbac57fc76b)\" style=\"fill: none; stroke: #1f77b4; stroke-width: 1.5; stroke-linecap: square\"/>\n   </g>\n   <g id=\"line2d_86\">\n    <path d=\"M 41.285795 139.5 \nL 51.009242 55.643073 \nL 58.019301 64.687436 \nL 67.13188 26.813794 \nL 75.306849 55.861734 \nL 83.254519 15.254077 \nL 92.579481 40.914103 \nL 99.392073 24.665804 \nL 109.100604 19.797001 \nL 116.281137 52.163854 \nL 125.223242 15.85215 \nL 133.568686 41.383337 \nL 141.34588 14.790015 \nL 150.80083 45.966998 \nL 157.523923 28.544353 \nL 167.191965 13.750524 \nL 174.542974 56.160644 \nL 183.314604 14.215556 \nL 191.830522 45.66619 \n\" clip-path=\"url(#pbac57fc76b)\" style=\"fill: none; stroke-dasharray: 5.55,2.4; stroke-dashoffset: 0; stroke: #ff7f0e; stroke-width: 1.5\"/>\n   </g>\n   <g id=\"line2d_87\">\n    <path d=\"M 41.285795 139.5 \nL 51.009242 55.643073 \nL 58.019301 64.687436 \nL 67.13188 26.813794 \nL 75.306849 55.861734 \nL 83.254519 15.254077 \nL 92.579481 40.914103 \nL 99.392073 24.665804 \nL 109.100604 19.797001 \nL 116.281137 52.163854 \nL 125.223242 15.85215 \nL 133.568686 41.383337 \nL 141.34588 14.790015 \nL 150.80083 45.966998 \nL 157.523923 28.544353 \nL 167.191965 13.750524 \nL 174.542974 56.160644 \nL 183.314604 14.215556 \nL 191.830522 45.66619 \nL 199.437242 14.472305 \n\" clip-path=\"url(#pbac57fc76b)\" style=\"fill: none; stroke: #1f77b4; stroke-width: 1.5; stroke-linecap: square\"/>\n   </g>\n   <g id=\"line2d_88\">\n    <path d=\"M 41.285795 139.5 \nL 51.009242 55.643073 \nL 58.019301 64.687436 \nL 67.13188 26.813794 \nL 75.306849 55.861734 \nL 83.254519 15.254077 \nL 92.579481 40.914103 \nL 99.392073 24.665804 \nL 109.100604 19.797001 \nL 116.281137 52.163854 \nL 125.223242 15.85215 \nL 133.568686 41.383337 \nL 141.34588 14.790015 \nL 150.80083 45.966998 \nL 157.523923 28.544353 \nL 167.191965 13.750524 \nL 174.542974 56.160644 \nL 183.314604 14.215556 \nL 191.830522 45.66619 \n\" clip-path=\"url(#pbac57fc76b)\" style=\"fill: none; stroke-dasharray: 5.55,2.4; stroke-dashoffset: 0; stroke: #ff7f0e; stroke-width: 1.5\"/>\n   </g>\n   <g id=\"line2d_89\">\n    <path d=\"M 41.285795 139.5 \nL 51.009242 55.643073 \nL 58.019301 64.687436 \nL 67.13188 26.813794 \nL 75.306849 55.861734 \nL 83.254519 15.254077 \nL 92.579481 40.914103 \nL 99.392073 24.665804 \nL 109.100604 19.797001 \nL 116.281137 52.163854 \nL 125.223242 15.85215 \nL 133.568686 41.383337 \nL 141.34588 14.790015 \nL 150.80083 45.966998 \nL 157.523923 28.544353 \nL 167.191965 13.750524 \nL 174.542974 56.160644 \nL 183.314604 14.215556 \nL 191.830522 45.66619 \nL 199.437242 14.472305 \n\" clip-path=\"url(#pbac57fc76b)\" style=\"fill: none; stroke: #1f77b4; stroke-width: 1.5; stroke-linecap: square\"/>\n   </g>\n   <g id=\"line2d_90\">\n    <path d=\"M 41.285795 139.5 \nL 51.009242 55.643073 \nL 58.019301 64.687436 \nL 67.13188 26.813794 \nL 75.306849 55.861734 \nL 83.254519 15.254077 \nL 92.579481 40.914103 \nL 99.392073 24.665804 \nL 109.100604 19.797001 \nL 116.281137 52.163854 \nL 125.223242 15.85215 \nL 133.568686 41.383337 \nL 141.34588 14.790015 \nL 150.80083 45.966998 \nL 157.523923 28.544353 \nL 167.191965 13.750524 \nL 174.542974 56.160644 \nL 183.314604 14.215556 \nL 191.830522 45.66619 \nL 199.437242 14.472305 \n\" clip-path=\"url(#pbac57fc76b)\" style=\"fill: none; stroke-dasharray: 5.55,2.4; stroke-dashoffset: 0; stroke: #ff7f0e; stroke-width: 1.5\"/>\n   </g>\n   <g id=\"line2d_91\">\n    <path d=\"M 41.285795 139.5 \nL 51.009242 55.643073 \nL 58.019301 64.687436 \nL 67.13188 26.813794 \nL 75.306849 55.861734 \nL 83.254519 15.254077 \nL 92.579481 40.914103 \nL 99.392073 24.665804 \nL 109.100604 19.797001 \nL 116.281137 52.163854 \nL 125.223242 15.85215 \nL 133.568686 41.383337 \nL 141.34588 14.790015 \nL 150.80083 45.966998 \nL 157.523923 28.544353 \nL 167.191965 13.750524 \nL 174.542974 56.160644 \nL 183.314604 14.215556 \nL 191.830522 45.66619 \nL 199.437242 14.472305 \nL 208.996607 36.350944 \n\" clip-path=\"url(#pbac57fc76b)\" style=\"fill: none; stroke: #1f77b4; stroke-width: 1.5; stroke-linecap: square\"/>\n   </g>\n   <g id=\"line2d_92\">\n    <path d=\"M 41.285795 139.5 \nL 51.009242 55.643073 \nL 58.019301 64.687436 \nL 67.13188 26.813794 \nL 75.306849 55.861734 \nL 83.254519 15.254077 \nL 92.579481 40.914103 \nL 99.392073 24.665804 \nL 109.100604 19.797001 \nL 116.281137 52.163854 \nL 125.223242 15.85215 \nL 133.568686 41.383337 \nL 141.34588 14.790015 \nL 150.80083 45.966998 \nL 157.523923 28.544353 \nL 167.191965 13.750524 \nL 174.542974 56.160644 \nL 183.314604 14.215556 \nL 191.830522 45.66619 \nL 199.437242 14.472305 \n\" clip-path=\"url(#pbac57fc76b)\" style=\"fill: none; stroke-dasharray: 5.55,2.4; stroke-dashoffset: 0; stroke: #ff7f0e; stroke-width: 1.5\"/>\n   </g>\n   <g id=\"line2d_93\">\n    <path d=\"M 41.285795 139.5 \nL 51.009242 55.643073 \nL 58.019301 64.687436 \nL 67.13188 26.813794 \nL 75.306849 55.861734 \nL 83.254519 15.254077 \nL 92.579481 40.914103 \nL 99.392073 24.665804 \nL 109.100604 19.797001 \nL 116.281137 52.163854 \nL 125.223242 15.85215 \nL 133.568686 41.383337 \nL 141.34588 14.790015 \nL 150.80083 45.966998 \nL 157.523923 28.544353 \nL 167.191965 13.750524 \nL 174.542974 56.160644 \nL 183.314604 14.215556 \nL 191.830522 45.66619 \nL 199.437242 14.472305 \nL 208.996607 36.350944 \n\" clip-path=\"url(#pbac57fc76b)\" style=\"fill: none; stroke: #1f77b4; stroke-width: 1.5; stroke-linecap: square\"/>\n   </g>\n   <g id=\"line2d_94\">\n    <path d=\"M 41.285795 139.5 \nL 51.009242 55.643073 \nL 58.019301 64.687436 \nL 67.13188 26.813794 \nL 75.306849 55.861734 \nL 83.254519 15.254077 \nL 92.579481 40.914103 \nL 99.392073 24.665804 \nL 109.100604 19.797001 \nL 116.281137 52.163854 \nL 125.223242 15.85215 \nL 133.568686 41.383337 \nL 141.34588 14.790015 \nL 150.80083 45.966998 \nL 157.523923 28.544353 \nL 167.191965 13.750524 \nL 174.542974 56.160644 \nL 183.314604 14.215556 \nL 191.830522 45.66619 \nL 199.437242 14.472305 \nL 208.996607 36.350944 \n\" clip-path=\"url(#pbac57fc76b)\" style=\"fill: none; stroke-dasharray: 5.55,2.4; stroke-dashoffset: 0; stroke: #ff7f0e; stroke-width: 1.5\"/>\n   </g>\n   <g id=\"line2d_95\">\n    <path d=\"M 41.285795 139.5 \nL 51.009242 55.643073 \nL 58.019301 64.687436 \nL 67.13188 26.813794 \nL 75.306849 55.861734 \nL 83.254519 15.254077 \nL 92.579481 40.914103 \nL 99.392073 24.665804 \nL 109.100604 19.797001 \nL 116.281137 52.163854 \nL 125.223242 15.85215 \nL 133.568686 41.383337 \nL 141.34588 14.790015 \nL 150.80083 45.966998 \nL 157.523923 28.544353 \nL 167.191965 13.750524 \nL 174.542974 56.160644 \nL 183.314604 14.215556 \nL 191.830522 45.66619 \nL 199.437242 14.472305 \nL 208.996607 36.350944 \nL 215.681343 34.090532 \n\" clip-path=\"url(#pbac57fc76b)\" style=\"fill: none; stroke: #1f77b4; stroke-width: 1.5; stroke-linecap: square\"/>\n   </g>\n   <g id=\"line2d_96\">\n    <path d=\"M 41.285795 139.5 \nL 51.009242 55.643073 \nL 58.019301 64.687436 \nL 67.13188 26.813794 \nL 75.306849 55.861734 \nL 83.254519 15.254077 \nL 92.579481 40.914103 \nL 99.392073 24.665804 \nL 109.100604 19.797001 \nL 116.281137 52.163854 \nL 125.223242 15.85215 \nL 133.568686 41.383337 \nL 141.34588 14.790015 \nL 150.80083 45.966998 \nL 157.523923 28.544353 \nL 167.191965 13.750524 \nL 174.542974 56.160644 \nL 183.314604 14.215556 \nL 191.830522 45.66619 \nL 199.437242 14.472305 \nL 208.996607 36.350944 \n\" clip-path=\"url(#pbac57fc76b)\" style=\"fill: none; stroke-dasharray: 5.55,2.4; stroke-dashoffset: 0; stroke: #ff7f0e; stroke-width: 1.5\"/>\n   </g>\n   <g id=\"line2d_97\">\n    <path d=\"M 41.285795 139.5 \nL 51.009242 55.643073 \nL 58.019301 64.687436 \nL 67.13188 26.813794 \nL 75.306849 55.861734 \nL 83.254519 15.254077 \nL 92.579481 40.914103 \nL 99.392073 24.665804 \nL 109.100604 19.797001 \nL 116.281137 52.163854 \nL 125.223242 15.85215 \nL 133.568686 41.383337 \nL 141.34588 14.790015 \nL 150.80083 45.966998 \nL 157.523923 28.544353 \nL 167.191965 13.750524 \nL 174.542974 56.160644 \nL 183.314604 14.215556 \nL 191.830522 45.66619 \nL 199.437242 14.472305 \nL 208.996607 36.350944 \nL 215.681343 34.090532 \n\" clip-path=\"url(#pbac57fc76b)\" style=\"fill: none; stroke: #1f77b4; stroke-width: 1.5; stroke-linecap: square\"/>\n   </g>\n   <g id=\"line2d_98\">\n    <path d=\"M 41.285795 139.5 \nL 51.009242 55.643073 \nL 58.019301 64.687436 \nL 67.13188 26.813794 \nL 75.306849 55.861734 \nL 83.254519 15.254077 \nL 92.579481 40.914103 \nL 99.392073 24.665804 \nL 109.100604 19.797001 \nL 116.281137 52.163854 \nL 125.223242 15.85215 \nL 133.568686 41.383337 \nL 141.34588 14.790015 \nL 150.80083 45.966998 \nL 157.523923 28.544353 \nL 167.191965 13.750524 \nL 174.542974 56.160644 \nL 183.314604 14.215556 \nL 191.830522 45.66619 \nL 199.437242 14.472305 \nL 208.996607 36.350944 \nL 215.681343 34.090532 \n\" clip-path=\"url(#pbac57fc76b)\" style=\"fill: none; stroke-dasharray: 5.55,2.4; stroke-dashoffset: 0; stroke: #ff7f0e; stroke-width: 1.5\"/>\n   </g>\n   <g id=\"line2d_99\">\n    <path d=\"M 41.285795 139.5 \nL 51.009242 55.643073 \nL 58.019301 64.687436 \nL 67.13188 26.813794 \nL 75.306849 55.861734 \nL 83.254519 15.254077 \nL 92.579481 40.914103 \nL 99.392073 24.665804 \nL 109.100604 19.797001 \nL 116.281137 52.163854 \nL 125.223242 15.85215 \nL 133.568686 41.383337 \nL 141.34588 14.790015 \nL 150.80083 45.966998 \nL 157.523923 28.544353 \nL 167.191965 13.750524 \nL 174.542974 56.160644 \nL 183.314604 14.215556 \nL 191.830522 45.66619 \nL 199.437242 14.472305 \nL 208.996607 36.350944 \nL 215.681343 34.090532 \nL 225.283327 13.5 \n\" clip-path=\"url(#pbac57fc76b)\" style=\"fill: none; stroke: #1f77b4; stroke-width: 1.5; stroke-linecap: square\"/>\n   </g>\n   <g id=\"line2d_100\">\n    <path d=\"M 41.285795 139.5 \nL 51.009242 55.643073 \nL 58.019301 64.687436 \nL 67.13188 26.813794 \nL 75.306849 55.861734 \nL 83.254519 15.254077 \nL 92.579481 40.914103 \nL 99.392073 24.665804 \nL 109.100604 19.797001 \nL 116.281137 52.163854 \nL 125.223242 15.85215 \nL 133.568686 41.383337 \nL 141.34588 14.790015 \nL 150.80083 45.966998 \nL 157.523923 28.544353 \nL 167.191965 13.750524 \nL 174.542974 56.160644 \nL 183.314604 14.215556 \nL 191.830522 45.66619 \nL 199.437242 14.472305 \nL 208.996607 36.350944 \nL 215.681343 34.090532 \n\" clip-path=\"url(#pbac57fc76b)\" style=\"fill: none; stroke-dasharray: 5.55,2.4; stroke-dashoffset: 0; stroke: #ff7f0e; stroke-width: 1.5\"/>\n   </g>\n   <g id=\"line2d_101\">\n    <path d=\"M 41.285795 139.5 \nL 51.009242 55.643073 \nL 58.019301 64.687436 \nL 67.13188 26.813794 \nL 75.306849 55.861734 \nL 83.254519 15.254077 \nL 92.579481 40.914103 \nL 99.392073 24.665804 \nL 109.100604 19.797001 \nL 116.281137 52.163854 \nL 125.223242 15.85215 \nL 133.568686 41.383337 \nL 141.34588 14.790015 \nL 150.80083 45.966998 \nL 157.523923 28.544353 \nL 167.191965 13.750524 \nL 174.542974 56.160644 \nL 183.314604 14.215556 \nL 191.830522 45.66619 \nL 199.437242 14.472305 \nL 208.996607 36.350944 \nL 215.681343 34.090532 \nL 225.283327 13.5 \n\" clip-path=\"url(#pbac57fc76b)\" style=\"fill: none; stroke: #1f77b4; stroke-width: 1.5; stroke-linecap: square\"/>\n   </g>\n   <g id=\"line2d_102\">\n    <path d=\"M 41.285795 139.5 \nL 51.009242 55.643073 \nL 58.019301 64.687436 \nL 67.13188 26.813794 \nL 75.306849 55.861734 \nL 83.254519 15.254077 \nL 92.579481 40.914103 \nL 99.392073 24.665804 \nL 109.100604 19.797001 \nL 116.281137 52.163854 \nL 125.223242 15.85215 \nL 133.568686 41.383337 \nL 141.34588 14.790015 \nL 150.80083 45.966998 \nL 157.523923 28.544353 \nL 167.191965 13.750524 \nL 174.542974 56.160644 \nL 183.314604 14.215556 \nL 191.830522 45.66619 \nL 199.437242 14.472305 \nL 208.996607 36.350944 \nL 215.681343 34.090532 \nL 225.283327 13.5 \n\" clip-path=\"url(#pbac57fc76b)\" style=\"fill: none; stroke-dasharray: 5.55,2.4; stroke-dashoffset: 0; stroke: #ff7f0e; stroke-width: 1.5\"/>\n   </g>\n   <g id=\"patch_3\">\n    <path d=\"M 36.465625 145.8 \nL 36.465625 7.2 \n\" style=\"fill: none; stroke: #000000; stroke-width: 0.8; stroke-linejoin: miter; stroke-linecap: square\"/>\n   </g>\n   <g id=\"patch_4\">\n    <path d=\"M 231.765625 145.8 \nL 231.765625 7.2 \n\" style=\"fill: none; stroke: #000000; stroke-width: 0.8; stroke-linejoin: miter; stroke-linecap: square\"/>\n   </g>\n   <g id=\"patch_5\">\n    <path d=\"M 36.465625 145.8 \nL 231.765625 145.8 \n\" style=\"fill: none; stroke: #000000; stroke-width: 0.8; stroke-linejoin: miter; stroke-linecap: square\"/>\n   </g>\n   <g id=\"patch_6\">\n    <path d=\"M 36.465625 7.2 \nL 231.765625 7.2 \n\" style=\"fill: none; stroke: #000000; stroke-width: 0.8; stroke-linejoin: miter; stroke-linecap: square\"/>\n   </g>\n   <g id=\"legend_1\">\n    <g id=\"patch_7\">\n     <path d=\"M 89.323438 140.8 \nL 224.765625 140.8 \nQ 226.765625 140.8 226.765625 138.8 \nL 226.765625 109.8875 \nQ 226.765625 107.8875 224.765625 107.8875 \nL 89.323438 107.8875 \nQ 87.323438 107.8875 87.323438 109.8875 \nL 87.323438 138.8 \nQ 87.323438 140.8 89.323438 140.8 \nz\n\" style=\"fill: #ffffff; opacity: 0.8; stroke: #cccccc; stroke-linejoin: miter\"/>\n    </g>\n    <g id=\"line2d_103\">\n     <path d=\"M 91.323438 115.985938 \nL 101.323438 115.985938 \nL 111.323438 115.985938 \n\" style=\"fill: none; stroke: #1f77b4; stroke-width: 1.5; stroke-linecap: square\"/>\n    </g>\n    <g id=\"text_12\">\n     <!-- train_layer_3_weight -->\n     <g transform=\"translate(119.323438 119.485938) scale(0.1 -0.1)\">\n      <defs>\n       <path id=\"DejaVuSans-74\" d=\"M 1172 4494 \nL 1172 3500 \nL 2356 3500 \nL 2356 3053 \nL 1172 3053 \nL 1172 1153 \nQ 1172 725 1289 603 \nQ 1406 481 1766 481 \nL 2356 481 \nL 2356 0 \nL 1766 0 \nQ 1100 0 847 248 \nQ 594 497 594 1153 \nL 594 3053 \nL 172 3053 \nL 172 3500 \nL 594 3500 \nL 594 4494 \nL 1172 4494 \nz\n\" transform=\"scale(0.015625)\"/>\n       <path id=\"DejaVuSans-72\" d=\"M 2631 2963 \nQ 2534 3019 2420 3045 \nQ 2306 3072 2169 3072 \nQ 1681 3072 1420 2755 \nQ 1159 2438 1159 1844 \nL 1159 0 \nL 581 0 \nL 581 3500 \nL 1159 3500 \nL 1159 2956 \nQ 1341 3275 1631 3429 \nQ 1922 3584 2338 3584 \nQ 2397 3584 2469 3576 \nQ 2541 3569 2628 3553 \nL 2631 2963 \nz\n\" transform=\"scale(0.015625)\"/>\n       <path id=\"DejaVuSans-61\" d=\"M 2194 1759 \nQ 1497 1759 1228 1600 \nQ 959 1441 959 1056 \nQ 959 750 1161 570 \nQ 1363 391 1709 391 \nQ 2188 391 2477 730 \nQ 2766 1069 2766 1631 \nL 2766 1759 \nL 2194 1759 \nz\nM 3341 1997 \nL 3341 0 \nL 2766 0 \nL 2766 531 \nQ 2569 213 2275 61 \nQ 1981 -91 1556 -91 \nQ 1019 -91 701 211 \nQ 384 513 384 1019 \nQ 384 1609 779 1909 \nQ 1175 2209 1959 2209 \nL 2766 2209 \nL 2766 2266 \nQ 2766 2663 2505 2880 \nQ 2244 3097 1772 3097 \nQ 1472 3097 1187 3025 \nQ 903 2953 641 2809 \nL 641 3341 \nQ 956 3463 1253 3523 \nQ 1550 3584 1831 3584 \nQ 2591 3584 2966 3190 \nQ 3341 2797 3341 1997 \nz\n\" transform=\"scale(0.015625)\"/>\n       <path id=\"DejaVuSans-69\" d=\"M 603 3500 \nL 1178 3500 \nL 1178 0 \nL 603 0 \nL 603 3500 \nz\nM 603 4863 \nL 1178 4863 \nL 1178 4134 \nL 603 4134 \nL 603 4863 \nz\n\" transform=\"scale(0.015625)\"/>\n       <path id=\"DejaVuSans-6e\" d=\"M 3513 2113 \nL 3513 0 \nL 2938 0 \nL 2938 2094 \nQ 2938 2591 2744 2837 \nQ 2550 3084 2163 3084 \nQ 1697 3084 1428 2787 \nQ 1159 2491 1159 1978 \nL 1159 0 \nL 581 0 \nL 581 3500 \nL 1159 3500 \nL 1159 2956 \nQ 1366 3272 1645 3428 \nQ 1925 3584 2291 3584 \nQ 2894 3584 3203 3211 \nQ 3513 2838 3513 2113 \nz\n\" transform=\"scale(0.015625)\"/>\n       <path id=\"DejaVuSans-5f\" d=\"M 3263 -1063 \nL 3263 -1509 \nL -63 -1509 \nL -63 -1063 \nL 3263 -1063 \nz\n\" transform=\"scale(0.015625)\"/>\n       <path id=\"DejaVuSans-6c\" d=\"M 603 4863 \nL 1178 4863 \nL 1178 0 \nL 603 0 \nL 603 4863 \nz\n\" transform=\"scale(0.015625)\"/>\n       <path id=\"DejaVuSans-79\" d=\"M 2059 -325 \nQ 1816 -950 1584 -1140 \nQ 1353 -1331 966 -1331 \nL 506 -1331 \nL 506 -850 \nL 844 -850 \nQ 1081 -850 1212 -737 \nQ 1344 -625 1503 -206 \nL 1606 56 \nL 191 3500 \nL 800 3500 \nL 1894 763 \nL 2988 3500 \nL 3597 3500 \nL 2059 -325 \nz\n\" transform=\"scale(0.015625)\"/>\n       <path id=\"DejaVuSans-33\" d=\"M 2597 2516 \nQ 3050 2419 3304 2112 \nQ 3559 1806 3559 1356 \nQ 3559 666 3084 287 \nQ 2609 -91 1734 -91 \nQ 1441 -91 1130 -33 \nQ 819 25 488 141 \nL 488 750 \nQ 750 597 1062 519 \nQ 1375 441 1716 441 \nQ 2309 441 2620 675 \nQ 2931 909 2931 1356 \nQ 2931 1769 2642 2001 \nQ 2353 2234 1838 2234 \nL 1294 2234 \nL 1294 2753 \nL 1863 2753 \nQ 2328 2753 2575 2939 \nQ 2822 3125 2822 3475 \nQ 2822 3834 2567 4026 \nQ 2313 4219 1838 4219 \nQ 1578 4219 1281 4162 \nQ 984 4106 628 3988 \nL 628 4550 \nQ 988 4650 1302 4700 \nQ 1616 4750 1894 4750 \nQ 2613 4750 3031 4423 \nQ 3450 4097 3450 3541 \nQ 3450 3153 3228 2886 \nQ 3006 2619 2597 2516 \nz\n\" transform=\"scale(0.015625)\"/>\n       <path id=\"DejaVuSans-77\" d=\"M 269 3500 \nL 844 3500 \nL 1563 769 \nL 2278 3500 \nL 2956 3500 \nL 3675 769 \nL 4391 3500 \nL 4966 3500 \nL 4050 0 \nL 3372 0 \nL 2619 2869 \nL 1863 0 \nL 1184 0 \nL 269 3500 \nz\n\" transform=\"scale(0.015625)\"/>\n       <path id=\"DejaVuSans-67\" d=\"M 2906 1791 \nQ 2906 2416 2648 2759 \nQ 2391 3103 1925 3103 \nQ 1463 3103 1205 2759 \nQ 947 2416 947 1791 \nQ 947 1169 1205 825 \nQ 1463 481 1925 481 \nQ 2391 481 2648 825 \nQ 2906 1169 2906 1791 \nz\nM 3481 434 \nQ 3481 -459 3084 -895 \nQ 2688 -1331 1869 -1331 \nQ 1566 -1331 1297 -1286 \nQ 1028 -1241 775 -1147 \nL 775 -588 \nQ 1028 -725 1275 -790 \nQ 1522 -856 1778 -856 \nQ 2344 -856 2625 -561 \nQ 2906 -266 2906 331 \nL 2906 616 \nQ 2728 306 2450 153 \nQ 2172 0 1784 0 \nQ 1141 0 747 490 \nQ 353 981 353 1791 \nQ 353 2603 747 3093 \nQ 1141 3584 1784 3584 \nQ 2172 3584 2450 3431 \nQ 2728 3278 2906 2969 \nL 2906 3500 \nL 3481 3500 \nL 3481 434 \nz\n\" transform=\"scale(0.015625)\"/>\n      </defs>\n      <use xlink:href=\"#DejaVuSans-74\"/>\n      <use xlink:href=\"#DejaVuSans-72\" x=\"39.208984\"/>\n      <use xlink:href=\"#DejaVuSans-61\" x=\"80.322266\"/>\n      <use xlink:href=\"#DejaVuSans-69\" x=\"141.601562\"/>\n      <use xlink:href=\"#DejaVuSans-6e\" x=\"169.384766\"/>\n      <use xlink:href=\"#DejaVuSans-5f\" x=\"232.763672\"/>\n      <use xlink:href=\"#DejaVuSans-6c\" x=\"282.763672\"/>\n      <use xlink:href=\"#DejaVuSans-61\" x=\"310.546875\"/>\n      <use xlink:href=\"#DejaVuSans-79\" x=\"371.826172\"/>\n      <use xlink:href=\"#DejaVuSans-65\" x=\"431.005859\"/>\n      <use xlink:href=\"#DejaVuSans-72\" x=\"492.529297\"/>\n      <use xlink:href=\"#DejaVuSans-5f\" x=\"533.642578\"/>\n      <use xlink:href=\"#DejaVuSans-33\" x=\"583.642578\"/>\n      <use xlink:href=\"#DejaVuSans-5f\" x=\"647.265625\"/>\n      <use xlink:href=\"#DejaVuSans-77\" x=\"697.265625\"/>\n      <use xlink:href=\"#DejaVuSans-65\" x=\"779.052734\"/>\n      <use xlink:href=\"#DejaVuSans-69\" x=\"840.576172\"/>\n      <use xlink:href=\"#DejaVuSans-67\" x=\"868.359375\"/>\n      <use xlink:href=\"#DejaVuSans-68\" x=\"931.835938\"/>\n      <use xlink:href=\"#DejaVuSans-74\" x=\"995.214844\"/>\n     </g>\n    </g>\n    <g id=\"line2d_104\">\n     <path d=\"M 91.323438 130.942188 \nL 101.323438 130.942188 \nL 111.323438 130.942188 \n\" style=\"fill: none; stroke-dasharray: 5.55,2.4; stroke-dashoffset: 0; stroke: #ff7f0e; stroke-width: 1.5\"/>\n    </g>\n    <g id=\"text_13\">\n     <!-- train_layer_6_weight -->\n     <g transform=\"translate(119.323438 134.442188) scale(0.1 -0.1)\">\n      <use xlink:href=\"#DejaVuSans-74\"/>\n      <use xlink:href=\"#DejaVuSans-72\" x=\"39.208984\"/>\n      <use xlink:href=\"#DejaVuSans-61\" x=\"80.322266\"/>\n      <use xlink:href=\"#DejaVuSans-69\" x=\"141.601562\"/>\n      <use xlink:href=\"#DejaVuSans-6e\" x=\"169.384766\"/>\n      <use xlink:href=\"#DejaVuSans-5f\" x=\"232.763672\"/>\n      <use xlink:href=\"#DejaVuSans-6c\" x=\"282.763672\"/>\n      <use xlink:href=\"#DejaVuSans-61\" x=\"310.546875\"/>\n      <use xlink:href=\"#DejaVuSans-79\" x=\"371.826172\"/>\n      <use xlink:href=\"#DejaVuSans-65\" x=\"431.005859\"/>\n      <use xlink:href=\"#DejaVuSans-72\" x=\"492.529297\"/>\n      <use xlink:href=\"#DejaVuSans-5f\" x=\"533.642578\"/>\n      <use xlink:href=\"#DejaVuSans-36\" x=\"583.642578\"/>\n      <use xlink:href=\"#DejaVuSans-5f\" x=\"647.265625\"/>\n      <use xlink:href=\"#DejaVuSans-77\" x=\"697.265625\"/>\n      <use xlink:href=\"#DejaVuSans-65\" x=\"779.052734\"/>\n      <use xlink:href=\"#DejaVuSans-69\" x=\"840.576172\"/>\n      <use xlink:href=\"#DejaVuSans-67\" x=\"868.359375\"/>\n      <use xlink:href=\"#DejaVuSans-68\" x=\"931.835938\"/>\n      <use xlink:href=\"#DejaVuSans-74\" x=\"995.214844\"/>\n     </g>\n    </g>\n   </g>\n  </g>\n </g>\n <defs>\n  <clipPath id=\"pbac57fc76b\">\n   <rect x=\"36.465625\" y=\"7.2\" width=\"195.3\" height=\"138.6\"/>\n  </clipPath>\n </defs>\n</svg>\n"
          },
          "metadata": {}
        }
      ]
    },
    {
      "cell_type": "code",
      "source": [],
      "metadata": {
        "id": "sr--QY4ZUD5M"
      },
      "id": "sr--QY4ZUD5M",
      "execution_count": null,
      "outputs": []
    }
  ],
  "metadata": {
    "kernelspec": {
      "display_name": "Python 3",
      "name": "python3"
    },
    "language_info": {
      "name": "python"
    },
    "required_libs": [],
    "colab": {
      "provenance": []
    }
  },
  "nbformat": 4,
  "nbformat_minor": 5
}