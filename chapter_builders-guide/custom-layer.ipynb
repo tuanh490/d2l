{
  "cells": [
    {
      "cell_type": "markdown",
      "id": "e3b8aefb",
      "metadata": {
        "id": "e3b8aefb"
      },
      "source": [
        "The following additional libraries are needed to run this\n",
        "notebook. Note that running on Colab is experimental, please report a Github\n",
        "issue if you have any problem."
      ]
    },
    {
      "cell_type": "code",
      "execution_count": 1,
      "id": "0d9bdfcc",
      "metadata": {
        "id": "0d9bdfcc",
        "outputId": "dac71694-ff48-448f-af2b-ff043b526a6c",
        "colab": {
          "base_uri": "https://localhost:8080/"
        }
      },
      "outputs": [
        {
          "output_type": "stream",
          "name": "stdout",
          "text": [
            "Requirement already satisfied: d2l==1.0.3 in /usr/local/lib/python3.11/dist-packages (1.0.3)\n",
            "Requirement already satisfied: jupyter==1.0.0 in /usr/local/lib/python3.11/dist-packages (from d2l==1.0.3) (1.0.0)\n",
            "Requirement already satisfied: numpy==1.23.5 in /usr/local/lib/python3.11/dist-packages (from d2l==1.0.3) (1.23.5)\n",
            "Requirement already satisfied: matplotlib==3.7.2 in /usr/local/lib/python3.11/dist-packages (from d2l==1.0.3) (3.7.2)\n",
            "Requirement already satisfied: matplotlib-inline==0.1.6 in /usr/local/lib/python3.11/dist-packages (from d2l==1.0.3) (0.1.6)\n",
            "Requirement already satisfied: requests==2.31.0 in /usr/local/lib/python3.11/dist-packages (from d2l==1.0.3) (2.31.0)\n",
            "Requirement already satisfied: pandas==2.0.3 in /usr/local/lib/python3.11/dist-packages (from d2l==1.0.3) (2.0.3)\n",
            "Requirement already satisfied: scipy==1.10.1 in /usr/local/lib/python3.11/dist-packages (from d2l==1.0.3) (1.10.1)\n",
            "Requirement already satisfied: notebook in /usr/local/lib/python3.11/dist-packages (from jupyter==1.0.0->d2l==1.0.3) (6.5.5)\n",
            "Requirement already satisfied: qtconsole in /usr/local/lib/python3.11/dist-packages (from jupyter==1.0.0->d2l==1.0.3) (5.6.1)\n",
            "Requirement already satisfied: jupyter-console in /usr/local/lib/python3.11/dist-packages (from jupyter==1.0.0->d2l==1.0.3) (6.1.0)\n",
            "Requirement already satisfied: nbconvert in /usr/local/lib/python3.11/dist-packages (from jupyter==1.0.0->d2l==1.0.3) (7.16.6)\n",
            "Requirement already satisfied: ipykernel in /usr/local/lib/python3.11/dist-packages (from jupyter==1.0.0->d2l==1.0.3) (6.17.1)\n",
            "Requirement already satisfied: ipywidgets in /usr/local/lib/python3.11/dist-packages (from jupyter==1.0.0->d2l==1.0.3) (7.7.1)\n",
            "Requirement already satisfied: contourpy>=1.0.1 in /usr/local/lib/python3.11/dist-packages (from matplotlib==3.7.2->d2l==1.0.3) (1.3.1)\n",
            "Requirement already satisfied: cycler>=0.10 in /usr/local/lib/python3.11/dist-packages (from matplotlib==3.7.2->d2l==1.0.3) (0.12.1)\n",
            "Requirement already satisfied: fonttools>=4.22.0 in /usr/local/lib/python3.11/dist-packages (from matplotlib==3.7.2->d2l==1.0.3) (4.56.0)\n",
            "Requirement already satisfied: kiwisolver>=1.0.1 in /usr/local/lib/python3.11/dist-packages (from matplotlib==3.7.2->d2l==1.0.3) (1.4.8)\n",
            "Requirement already satisfied: packaging>=20.0 in /usr/local/lib/python3.11/dist-packages (from matplotlib==3.7.2->d2l==1.0.3) (24.2)\n",
            "Requirement already satisfied: pillow>=6.2.0 in /usr/local/lib/python3.11/dist-packages (from matplotlib==3.7.2->d2l==1.0.3) (11.1.0)\n",
            "Requirement already satisfied: pyparsing<3.1,>=2.3.1 in /usr/local/lib/python3.11/dist-packages (from matplotlib==3.7.2->d2l==1.0.3) (3.0.9)\n",
            "Requirement already satisfied: python-dateutil>=2.7 in /usr/local/lib/python3.11/dist-packages (from matplotlib==3.7.2->d2l==1.0.3) (2.8.2)\n",
            "Requirement already satisfied: traitlets in /usr/local/lib/python3.11/dist-packages (from matplotlib-inline==0.1.6->d2l==1.0.3) (5.7.1)\n",
            "Requirement already satisfied: pytz>=2020.1 in /usr/local/lib/python3.11/dist-packages (from pandas==2.0.3->d2l==1.0.3) (2025.1)\n",
            "Requirement already satisfied: tzdata>=2022.1 in /usr/local/lib/python3.11/dist-packages (from pandas==2.0.3->d2l==1.0.3) (2025.1)\n",
            "Requirement already satisfied: charset-normalizer<4,>=2 in /usr/local/lib/python3.11/dist-packages (from requests==2.31.0->d2l==1.0.3) (3.4.1)\n",
            "Requirement already satisfied: idna<4,>=2.5 in /usr/local/lib/python3.11/dist-packages (from requests==2.31.0->d2l==1.0.3) (3.10)\n",
            "Requirement already satisfied: urllib3<3,>=1.21.1 in /usr/local/lib/python3.11/dist-packages (from requests==2.31.0->d2l==1.0.3) (2.3.0)\n",
            "Requirement already satisfied: certifi>=2017.4.17 in /usr/local/lib/python3.11/dist-packages (from requests==2.31.0->d2l==1.0.3) (2025.1.31)\n",
            "Requirement already satisfied: six>=1.5 in /usr/local/lib/python3.11/dist-packages (from python-dateutil>=2.7->matplotlib==3.7.2->d2l==1.0.3) (1.17.0)\n",
            "Requirement already satisfied: debugpy>=1.0 in /usr/local/lib/python3.11/dist-packages (from ipykernel->jupyter==1.0.0->d2l==1.0.3) (1.8.0)\n",
            "Requirement already satisfied: ipython>=7.23.1 in /usr/local/lib/python3.11/dist-packages (from ipykernel->jupyter==1.0.0->d2l==1.0.3) (7.34.0)\n",
            "Requirement already satisfied: jupyter-client>=6.1.12 in /usr/local/lib/python3.11/dist-packages (from ipykernel->jupyter==1.0.0->d2l==1.0.3) (6.1.12)\n",
            "Requirement already satisfied: nest-asyncio in /usr/local/lib/python3.11/dist-packages (from ipykernel->jupyter==1.0.0->d2l==1.0.3) (1.6.0)\n",
            "Requirement already satisfied: psutil in /usr/local/lib/python3.11/dist-packages (from ipykernel->jupyter==1.0.0->d2l==1.0.3) (5.9.5)\n",
            "Requirement already satisfied: pyzmq>=17 in /usr/local/lib/python3.11/dist-packages (from ipykernel->jupyter==1.0.0->d2l==1.0.3) (24.0.1)\n",
            "Requirement already satisfied: tornado>=6.1 in /usr/local/lib/python3.11/dist-packages (from ipykernel->jupyter==1.0.0->d2l==1.0.3) (6.4.2)\n",
            "Requirement already satisfied: ipython-genutils~=0.2.0 in /usr/local/lib/python3.11/dist-packages (from ipywidgets->jupyter==1.0.0->d2l==1.0.3) (0.2.0)\n",
            "Requirement already satisfied: widgetsnbextension~=3.6.0 in /usr/local/lib/python3.11/dist-packages (from ipywidgets->jupyter==1.0.0->d2l==1.0.3) (3.6.10)\n",
            "Requirement already satisfied: jupyterlab-widgets>=1.0.0 in /usr/local/lib/python3.11/dist-packages (from ipywidgets->jupyter==1.0.0->d2l==1.0.3) (3.0.13)\n",
            "Requirement already satisfied: prompt-toolkit!=3.0.0,!=3.0.1,<3.1.0,>=2.0.0 in /usr/local/lib/python3.11/dist-packages (from jupyter-console->jupyter==1.0.0->d2l==1.0.3) (3.0.50)\n",
            "Requirement already satisfied: pygments in /usr/local/lib/python3.11/dist-packages (from jupyter-console->jupyter==1.0.0->d2l==1.0.3) (2.18.0)\n",
            "Requirement already satisfied: beautifulsoup4 in /usr/local/lib/python3.11/dist-packages (from nbconvert->jupyter==1.0.0->d2l==1.0.3) (4.13.3)\n",
            "Requirement already satisfied: bleach!=5.0.0 in /usr/local/lib/python3.11/dist-packages (from bleach[css]!=5.0.0->nbconvert->jupyter==1.0.0->d2l==1.0.3) (6.2.0)\n",
            "Requirement already satisfied: defusedxml in /usr/local/lib/python3.11/dist-packages (from nbconvert->jupyter==1.0.0->d2l==1.0.3) (0.7.1)\n",
            "Requirement already satisfied: jinja2>=3.0 in /usr/local/lib/python3.11/dist-packages (from nbconvert->jupyter==1.0.0->d2l==1.0.3) (3.1.5)\n",
            "Requirement already satisfied: jupyter-core>=4.7 in /usr/local/lib/python3.11/dist-packages (from nbconvert->jupyter==1.0.0->d2l==1.0.3) (5.7.2)\n",
            "Requirement already satisfied: jupyterlab-pygments in /usr/local/lib/python3.11/dist-packages (from nbconvert->jupyter==1.0.0->d2l==1.0.3) (0.3.0)\n",
            "Requirement already satisfied: markupsafe>=2.0 in /usr/local/lib/python3.11/dist-packages (from nbconvert->jupyter==1.0.0->d2l==1.0.3) (3.0.2)\n",
            "Requirement already satisfied: mistune<4,>=2.0.3 in /usr/local/lib/python3.11/dist-packages (from nbconvert->jupyter==1.0.0->d2l==1.0.3) (3.1.2)\n",
            "Requirement already satisfied: nbclient>=0.5.0 in /usr/local/lib/python3.11/dist-packages (from nbconvert->jupyter==1.0.0->d2l==1.0.3) (0.10.2)\n",
            "Requirement already satisfied: nbformat>=5.7 in /usr/local/lib/python3.11/dist-packages (from nbconvert->jupyter==1.0.0->d2l==1.0.3) (5.10.4)\n",
            "Requirement already satisfied: pandocfilters>=1.4.1 in /usr/local/lib/python3.11/dist-packages (from nbconvert->jupyter==1.0.0->d2l==1.0.3) (1.5.1)\n",
            "Requirement already satisfied: argon2-cffi in /usr/local/lib/python3.11/dist-packages (from notebook->jupyter==1.0.0->d2l==1.0.3) (23.1.0)\n",
            "Requirement already satisfied: Send2Trash>=1.8.0 in /usr/local/lib/python3.11/dist-packages (from notebook->jupyter==1.0.0->d2l==1.0.3) (1.8.3)\n",
            "Requirement already satisfied: terminado>=0.8.3 in /usr/local/lib/python3.11/dist-packages (from notebook->jupyter==1.0.0->d2l==1.0.3) (0.18.1)\n",
            "Requirement already satisfied: prometheus-client in /usr/local/lib/python3.11/dist-packages (from notebook->jupyter==1.0.0->d2l==1.0.3) (0.21.1)\n",
            "Requirement already satisfied: nbclassic>=0.4.7 in /usr/local/lib/python3.11/dist-packages (from notebook->jupyter==1.0.0->d2l==1.0.3) (1.2.0)\n",
            "Requirement already satisfied: qtpy>=2.4.0 in /usr/local/lib/python3.11/dist-packages (from qtconsole->jupyter==1.0.0->d2l==1.0.3) (2.4.3)\n",
            "Requirement already satisfied: webencodings in /usr/local/lib/python3.11/dist-packages (from bleach!=5.0.0->bleach[css]!=5.0.0->nbconvert->jupyter==1.0.0->d2l==1.0.3) (0.5.1)\n",
            "Requirement already satisfied: tinycss2<1.5,>=1.1.0 in /usr/local/lib/python3.11/dist-packages (from bleach[css]!=5.0.0->nbconvert->jupyter==1.0.0->d2l==1.0.3) (1.4.0)\n",
            "Requirement already satisfied: setuptools>=18.5 in /usr/local/lib/python3.11/dist-packages (from ipython>=7.23.1->ipykernel->jupyter==1.0.0->d2l==1.0.3) (75.1.0)\n",
            "Requirement already satisfied: jedi>=0.16 in /usr/local/lib/python3.11/dist-packages (from ipython>=7.23.1->ipykernel->jupyter==1.0.0->d2l==1.0.3) (0.19.2)\n",
            "Requirement already satisfied: decorator in /usr/local/lib/python3.11/dist-packages (from ipython>=7.23.1->ipykernel->jupyter==1.0.0->d2l==1.0.3) (4.4.2)\n",
            "Requirement already satisfied: pickleshare in /usr/local/lib/python3.11/dist-packages (from ipython>=7.23.1->ipykernel->jupyter==1.0.0->d2l==1.0.3) (0.7.5)\n",
            "Requirement already satisfied: backcall in /usr/local/lib/python3.11/dist-packages (from ipython>=7.23.1->ipykernel->jupyter==1.0.0->d2l==1.0.3) (0.2.0)\n",
            "Requirement already satisfied: pexpect>4.3 in /usr/local/lib/python3.11/dist-packages (from ipython>=7.23.1->ipykernel->jupyter==1.0.0->d2l==1.0.3) (4.9.0)\n",
            "Requirement already satisfied: platformdirs>=2.5 in /usr/local/lib/python3.11/dist-packages (from jupyter-core>=4.7->nbconvert->jupyter==1.0.0->d2l==1.0.3) (4.3.6)\n",
            "Requirement already satisfied: notebook-shim>=0.2.3 in /usr/local/lib/python3.11/dist-packages (from nbclassic>=0.4.7->notebook->jupyter==1.0.0->d2l==1.0.3) (0.2.4)\n",
            "Requirement already satisfied: fastjsonschema>=2.15 in /usr/local/lib/python3.11/dist-packages (from nbformat>=5.7->nbconvert->jupyter==1.0.0->d2l==1.0.3) (2.21.1)\n",
            "Requirement already satisfied: jsonschema>=2.6 in /usr/local/lib/python3.11/dist-packages (from nbformat>=5.7->nbconvert->jupyter==1.0.0->d2l==1.0.3) (4.23.0)\n",
            "Requirement already satisfied: wcwidth in /usr/local/lib/python3.11/dist-packages (from prompt-toolkit!=3.0.0,!=3.0.1,<3.1.0,>=2.0.0->jupyter-console->jupyter==1.0.0->d2l==1.0.3) (0.2.13)\n",
            "Requirement already satisfied: ptyprocess in /usr/local/lib/python3.11/dist-packages (from terminado>=0.8.3->notebook->jupyter==1.0.0->d2l==1.0.3) (0.7.0)\n",
            "Requirement already satisfied: argon2-cffi-bindings in /usr/local/lib/python3.11/dist-packages (from argon2-cffi->notebook->jupyter==1.0.0->d2l==1.0.3) (21.2.0)\n",
            "Requirement already satisfied: soupsieve>1.2 in /usr/local/lib/python3.11/dist-packages (from beautifulsoup4->nbconvert->jupyter==1.0.0->d2l==1.0.3) (2.6)\n",
            "Requirement already satisfied: typing-extensions>=4.0.0 in /usr/local/lib/python3.11/dist-packages (from beautifulsoup4->nbconvert->jupyter==1.0.0->d2l==1.0.3) (4.12.2)\n",
            "Requirement already satisfied: parso<0.9.0,>=0.8.4 in /usr/local/lib/python3.11/dist-packages (from jedi>=0.16->ipython>=7.23.1->ipykernel->jupyter==1.0.0->d2l==1.0.3) (0.8.4)\n",
            "Requirement already satisfied: attrs>=22.2.0 in /usr/local/lib/python3.11/dist-packages (from jsonschema>=2.6->nbformat>=5.7->nbconvert->jupyter==1.0.0->d2l==1.0.3) (25.1.0)\n",
            "Requirement already satisfied: jsonschema-specifications>=2023.03.6 in /usr/local/lib/python3.11/dist-packages (from jsonschema>=2.6->nbformat>=5.7->nbconvert->jupyter==1.0.0->d2l==1.0.3) (2024.10.1)\n",
            "Requirement already satisfied: referencing>=0.28.4 in /usr/local/lib/python3.11/dist-packages (from jsonschema>=2.6->nbformat>=5.7->nbconvert->jupyter==1.0.0->d2l==1.0.3) (0.36.2)\n",
            "Requirement already satisfied: rpds-py>=0.7.1 in /usr/local/lib/python3.11/dist-packages (from jsonschema>=2.6->nbformat>=5.7->nbconvert->jupyter==1.0.0->d2l==1.0.3) (0.23.1)\n",
            "Requirement already satisfied: jupyter-server<3,>=1.8 in /usr/local/lib/python3.11/dist-packages (from notebook-shim>=0.2.3->nbclassic>=0.4.7->notebook->jupyter==1.0.0->d2l==1.0.3) (1.24.0)\n",
            "Requirement already satisfied: cffi>=1.0.1 in /usr/local/lib/python3.11/dist-packages (from argon2-cffi-bindings->argon2-cffi->notebook->jupyter==1.0.0->d2l==1.0.3) (1.17.1)\n",
            "Requirement already satisfied: pycparser in /usr/local/lib/python3.11/dist-packages (from cffi>=1.0.1->argon2-cffi-bindings->argon2-cffi->notebook->jupyter==1.0.0->d2l==1.0.3) (2.22)\n",
            "Requirement already satisfied: anyio<4,>=3.1.0 in /usr/local/lib/python3.11/dist-packages (from jupyter-server<3,>=1.8->notebook-shim>=0.2.3->nbclassic>=0.4.7->notebook->jupyter==1.0.0->d2l==1.0.3) (3.7.1)\n",
            "Requirement already satisfied: websocket-client in /usr/local/lib/python3.11/dist-packages (from jupyter-server<3,>=1.8->notebook-shim>=0.2.3->nbclassic>=0.4.7->notebook->jupyter==1.0.0->d2l==1.0.3) (1.8.0)\n",
            "Requirement already satisfied: sniffio>=1.1 in /usr/local/lib/python3.11/dist-packages (from anyio<4,>=3.1.0->jupyter-server<3,>=1.8->notebook-shim>=0.2.3->nbclassic>=0.4.7->notebook->jupyter==1.0.0->d2l==1.0.3) (1.3.1)\n"
          ]
        }
      ],
      "source": [
        "!pip install d2l==1.0.3\n"
      ]
    },
    {
      "cell_type": "markdown",
      "id": "5e5f706d",
      "metadata": {
        "origin_pos": 1,
        "id": "5e5f706d"
      },
      "source": [
        "# Custom Layers\n",
        "\n",
        "One factor behind deep learning's success\n",
        "is the availability of a wide range of layers\n",
        "that can be composed in creative ways\n",
        "to design architectures suitable\n",
        "for a wide variety of tasks.\n",
        "For instance, researchers have invented layers\n",
        "specifically for handling images, text,\n",
        "looping over sequential data,\n",
        "and\n",
        "performing dynamic programming.\n",
        "Sooner or later, you will need\n",
        "a layer that does not exist yet in the deep learning framework.\n",
        "In these cases, you must build a custom layer.\n",
        "In this section, we show you how.\n"
      ]
    },
    {
      "cell_type": "code",
      "execution_count": 2,
      "id": "5b2079e0",
      "metadata": {
        "execution": {
          "iopub.execute_input": "2023-08-18T19:31:10.693752Z",
          "iopub.status.busy": "2023-08-18T19:31:10.693415Z",
          "iopub.status.idle": "2023-08-18T19:31:13.986742Z",
          "shell.execute_reply": "2023-08-18T19:31:13.985398Z"
        },
        "origin_pos": 3,
        "tab": [
          "pytorch"
        ],
        "id": "5b2079e0"
      },
      "outputs": [],
      "source": [
        "import torch\n",
        "from torch import nn\n",
        "from torch.nn import functional as F\n",
        "from d2l import torch as d2l"
      ]
    },
    {
      "cell_type": "markdown",
      "id": "9a6181d4",
      "metadata": {
        "origin_pos": 6,
        "id": "9a6181d4"
      },
      "source": [
        "## (**Layers without Parameters**)\n",
        "\n",
        "To start, we construct a custom layer\n",
        "that does not have any parameters of its own.\n",
        "This should look familiar if you recall our\n",
        "introduction to modules in :numref:`sec_model_construction`.\n",
        "The following `CenteredLayer` class simply\n",
        "subtracts the mean from its input.\n",
        "To build it, we simply need to inherit\n",
        "from the base layer class and implement the forward propagation function.\n"
      ]
    },
    {
      "cell_type": "code",
      "execution_count": null,
      "id": "21e03034",
      "metadata": {
        "execution": {
          "iopub.execute_input": "2023-08-18T19:31:13.993899Z",
          "iopub.status.busy": "2023-08-18T19:31:13.993311Z",
          "iopub.status.idle": "2023-08-18T19:31:14.001595Z",
          "shell.execute_reply": "2023-08-18T19:31:14.000547Z"
        },
        "origin_pos": 8,
        "tab": [
          "pytorch"
        ],
        "id": "21e03034"
      },
      "outputs": [],
      "source": [
        "class CenteredLayer(nn.Module):\n",
        "    def __init__(self):\n",
        "        super().__init__()\n",
        "\n",
        "    def forward(self, X):\n",
        "        return X - X.mean()"
      ]
    },
    {
      "cell_type": "markdown",
      "id": "8b36f65b",
      "metadata": {
        "origin_pos": 11,
        "id": "8b36f65b"
      },
      "source": [
        "Let's verify that our layer works as intended by feeding some data through it.\n"
      ]
    },
    {
      "cell_type": "code",
      "execution_count": null,
      "id": "34c473c6",
      "metadata": {
        "execution": {
          "iopub.execute_input": "2023-08-18T19:31:14.006461Z",
          "iopub.status.busy": "2023-08-18T19:31:14.005870Z",
          "iopub.status.idle": "2023-08-18T19:31:14.035296Z",
          "shell.execute_reply": "2023-08-18T19:31:14.034301Z"
        },
        "origin_pos": 12,
        "tab": [
          "pytorch"
        ],
        "id": "34c473c6",
        "outputId": "66324f86-f422-4b25-e411-22844621bd6f"
      },
      "outputs": [
        {
          "data": {
            "text/plain": [
              "tensor([-2., -1.,  0.,  1.,  2.])"
            ]
          },
          "execution_count": 3,
          "metadata": {},
          "output_type": "execute_result"
        }
      ],
      "source": [
        "layer = CenteredLayer()\n",
        "layer(torch.tensor([1.0, 2, 3, 4, 5]))"
      ]
    },
    {
      "cell_type": "markdown",
      "id": "a5c4de56",
      "metadata": {
        "origin_pos": 13,
        "id": "a5c4de56"
      },
      "source": [
        "We can now [**incorporate our layer as a component\n",
        "in constructing more complex models.**]\n"
      ]
    },
    {
      "cell_type": "code",
      "execution_count": null,
      "id": "da630405",
      "metadata": {
        "execution": {
          "iopub.execute_input": "2023-08-18T19:31:14.040444Z",
          "iopub.status.busy": "2023-08-18T19:31:14.040108Z",
          "iopub.status.idle": "2023-08-18T19:31:14.044820Z",
          "shell.execute_reply": "2023-08-18T19:31:14.043922Z"
        },
        "origin_pos": 15,
        "tab": [
          "pytorch"
        ],
        "id": "da630405"
      },
      "outputs": [],
      "source": [
        "net = nn.Sequential(nn.LazyLinear(128), CenteredLayer())"
      ]
    },
    {
      "cell_type": "markdown",
      "id": "9a31b206",
      "metadata": {
        "origin_pos": 18,
        "id": "9a31b206"
      },
      "source": [
        "As an extra sanity check, we can send random data\n",
        "through the network and check that the mean is in fact 0.\n",
        "Because we are dealing with floating point numbers,\n",
        "we may still see a very small nonzero number\n",
        "due to quantization.\n"
      ]
    },
    {
      "cell_type": "code",
      "execution_count": null,
      "id": "370e0abb",
      "metadata": {
        "execution": {
          "iopub.execute_input": "2023-08-18T19:31:14.048310Z",
          "iopub.status.busy": "2023-08-18T19:31:14.047972Z",
          "iopub.status.idle": "2023-08-18T19:31:14.059041Z",
          "shell.execute_reply": "2023-08-18T19:31:14.057938Z"
        },
        "origin_pos": 20,
        "tab": [
          "pytorch"
        ],
        "id": "370e0abb",
        "outputId": "d9e7525e-1d4a-466f-f1f9-4d527cc5d3e9"
      },
      "outputs": [
        {
          "data": {
            "text/plain": [
              "tensor(-6.5193e-09, grad_fn=<MeanBackward0>)"
            ]
          },
          "execution_count": 5,
          "metadata": {},
          "output_type": "execute_result"
        }
      ],
      "source": [
        "Y = net(torch.rand(4, 8))\n",
        "Y.mean()"
      ]
    },
    {
      "cell_type": "markdown",
      "id": "44ea9d42",
      "metadata": {
        "origin_pos": 23,
        "id": "44ea9d42"
      },
      "source": [
        "## [**Layers with Parameters**]\n",
        "\n",
        "Now that we know how to define simple layers,\n",
        "let's move on to defining layers with parameters\n",
        "that can be adjusted through training.\n",
        "We can use built-in functions to create parameters, which\n",
        "provide some basic housekeeping functionality.\n",
        "In particular, they govern access, initialization,\n",
        "sharing, saving, and loading model parameters.\n",
        "This way, among other benefits, we will not need to write\n",
        "custom serialization routines for every custom layer.\n",
        "\n",
        "Now let's implement our own version of the  fully connected layer.\n",
        "Recall that this layer requires two parameters,\n",
        "one to represent the weight and the other for the bias.\n",
        "In this implementation, we bake in the ReLU activation as a default.\n",
        "This layer requires two input arguments: `in_units` and `units`, which\n",
        "denote the number of inputs and outputs, respectively.\n"
      ]
    },
    {
      "cell_type": "code",
      "execution_count": null,
      "id": "d07e84dc",
      "metadata": {
        "execution": {
          "iopub.execute_input": "2023-08-18T19:31:14.063246Z",
          "iopub.status.busy": "2023-08-18T19:31:14.062888Z",
          "iopub.status.idle": "2023-08-18T19:31:14.069269Z",
          "shell.execute_reply": "2023-08-18T19:31:14.068283Z"
        },
        "origin_pos": 25,
        "tab": [
          "pytorch"
        ],
        "id": "d07e84dc"
      },
      "outputs": [],
      "source": [
        "class MyLinear(nn.Module):\n",
        "    def __init__(self, in_units, units):\n",
        "        super().__init__()\n",
        "        self.weight = nn.Parameter(torch.randn(in_units, units))\n",
        "        self.bias = nn.Parameter(torch.randn(units,))\n",
        "\n",
        "    def forward(self, X):\n",
        "        linear = torch.matmul(X, self.weight.data) + self.bias.data\n",
        "        return F.relu(linear)"
      ]
    },
    {
      "cell_type": "markdown",
      "id": "218be348",
      "metadata": {
        "origin_pos": 29,
        "tab": [
          "pytorch"
        ],
        "id": "218be348"
      },
      "source": [
        "Next, we instantiate the `MyLinear` class\n",
        "and access its model parameters.\n"
      ]
    },
    {
      "cell_type": "code",
      "execution_count": null,
      "id": "8a664799",
      "metadata": {
        "execution": {
          "iopub.execute_input": "2023-08-18T19:31:14.074206Z",
          "iopub.status.busy": "2023-08-18T19:31:14.073211Z",
          "iopub.status.idle": "2023-08-18T19:31:14.080883Z",
          "shell.execute_reply": "2023-08-18T19:31:14.079861Z"
        },
        "origin_pos": 31,
        "tab": [
          "pytorch"
        ],
        "id": "8a664799",
        "outputId": "9ee25b07-6311-4ad3-c6ef-8e37f9af844e"
      },
      "outputs": [
        {
          "data": {
            "text/plain": [
              "Parameter containing:\n",
              "tensor([[ 0.4783,  0.4284, -0.0899],\n",
              "        [-0.6347,  0.2913, -0.0822],\n",
              "        [-0.4325, -0.1645, -0.3274],\n",
              "        [ 1.1898,  0.6482, -1.2384],\n",
              "        [-0.1479,  0.0264, -0.9597]], requires_grad=True)"
            ]
          },
          "execution_count": 7,
          "metadata": {},
          "output_type": "execute_result"
        }
      ],
      "source": [
        "linear = MyLinear(5, 3)\n",
        "linear.weight"
      ]
    },
    {
      "cell_type": "markdown",
      "id": "c7b12b77",
      "metadata": {
        "origin_pos": 34,
        "id": "c7b12b77"
      },
      "source": [
        "We can [**directly carry out forward propagation calculations using custom layers.**]\n"
      ]
    },
    {
      "cell_type": "code",
      "execution_count": null,
      "id": "859b12e2",
      "metadata": {
        "execution": {
          "iopub.execute_input": "2023-08-18T19:31:14.084676Z",
          "iopub.status.busy": "2023-08-18T19:31:14.084328Z",
          "iopub.status.idle": "2023-08-18T19:31:14.091968Z",
          "shell.execute_reply": "2023-08-18T19:31:14.090864Z"
        },
        "origin_pos": 36,
        "tab": [
          "pytorch"
        ],
        "id": "859b12e2",
        "outputId": "ef3d488f-3e27-42cd-995f-9b6adfdecd48"
      },
      "outputs": [
        {
          "data": {
            "text/plain": [
              "tensor([[0.0000, 0.9316, 0.0000],\n",
              "        [0.1808, 1.4208, 0.0000]])"
            ]
          },
          "execution_count": 8,
          "metadata": {},
          "output_type": "execute_result"
        }
      ],
      "source": [
        "linear(torch.rand(2, 5))"
      ]
    },
    {
      "cell_type": "markdown",
      "id": "6811c960",
      "metadata": {
        "origin_pos": 39,
        "id": "6811c960"
      },
      "source": [
        "We can also (**construct models using custom layers.**)\n",
        "Once we have that we can use it just like the built-in fully connected layer.\n"
      ]
    },
    {
      "cell_type": "code",
      "execution_count": null,
      "id": "53f3a28a",
      "metadata": {
        "execution": {
          "iopub.execute_input": "2023-08-18T19:31:14.096505Z",
          "iopub.status.busy": "2023-08-18T19:31:14.095515Z",
          "iopub.status.idle": "2023-08-18T19:31:14.104253Z",
          "shell.execute_reply": "2023-08-18T19:31:14.102782Z"
        },
        "origin_pos": 41,
        "tab": [
          "pytorch"
        ],
        "id": "53f3a28a",
        "outputId": "34aff142-9296-497d-8961-427f183a8cf4"
      },
      "outputs": [
        {
          "data": {
            "text/plain": [
              "tensor([[ 0.0000],\n",
              "        [13.0800]])"
            ]
          },
          "execution_count": 9,
          "metadata": {},
          "output_type": "execute_result"
        }
      ],
      "source": [
        "net = nn.Sequential(MyLinear(64, 8), MyLinear(8, 1))\n",
        "net(torch.rand(2, 64))"
      ]
    },
    {
      "cell_type": "markdown",
      "id": "de2a529d",
      "metadata": {
        "origin_pos": 44,
        "id": "de2a529d"
      },
      "source": [
        "## Summary\n",
        "\n",
        "We can design custom layers via the basic layer class. This allows us to define flexible new layers that behave differently from any existing layers in the library.\n",
        "Once defined, custom layers can be invoked in arbitrary contexts and architectures.\n",
        "Layers can have local parameters, which can be created through built-in functions.\n",
        "\n",
        "\n",
        "## Exercises\n",
        "\n",
        "1. Design a layer that takes an input and computes a tensor reduction,\n",
        "   i.e., it returns $y_k = \\sum_{i, j} W_{ijk} x_i x_j$.\n",
        "1. Design a layer that returns the leading half of the Fourier coefficients of the data.\n"
      ]
    },
    {
      "cell_type": "markdown",
      "id": "7288fd89",
      "metadata": {
        "origin_pos": 46,
        "tab": [
          "pytorch"
        ],
        "id": "7288fd89"
      },
      "source": [
        "[Discussions](https://discuss.d2l.ai/t/59)\n"
      ]
    },
    {
      "cell_type": "markdown",
      "source": [
        "### Exercise 1:"
      ],
      "metadata": {
        "id": "3cuZGUyCRGPS"
      },
      "id": "3cuZGUyCRGPS"
    },
    {
      "cell_type": "code",
      "source": [
        "class TensorReduction(nn.Module):\n",
        "    def __init__(self, in_units, units):\n",
        "        super().__init__()\n",
        "        self.weights = nn.Parameter(torch.randn(units, in_units, in_units))\n",
        "\n",
        "    def forward(self, X):\n",
        "        X_reshaped = X.unsqueeze(1)\n",
        "        return torch.einsum('bni,uij,bnj->bu', X_reshaped, self.weights, X_reshaped)"
      ],
      "metadata": {
        "id": "19UuGPwWL8C0"
      },
      "id": "19UuGPwWL8C0",
      "execution_count": 19,
      "outputs": []
    },
    {
      "cell_type": "code",
      "source": [
        "layer = TensorReduction(5, 2)\n",
        "layer.weights"
      ],
      "metadata": {
        "id": "WFrf9uUDNiiK",
        "outputId": "4a65fb75-2711-4a4b-bb02-5c64057f0b8d",
        "colab": {
          "base_uri": "https://localhost:8080/"
        }
      },
      "id": "WFrf9uUDNiiK",
      "execution_count": 20,
      "outputs": [
        {
          "output_type": "execute_result",
          "data": {
            "text/plain": [
              "Parameter containing:\n",
              "tensor([[[ 0.4558,  0.6859,  1.4242,  0.4022, -0.2911],\n",
              "         [ 0.9249,  1.3740,  0.8691, -0.3274, -2.3215],\n",
              "         [ 1.0581,  0.2569, -0.6168,  0.1010,  1.3597],\n",
              "         [ 0.0228,  0.1745, -0.3105,  0.0185,  1.8650],\n",
              "         [-1.6680, -0.0581,  0.7627,  0.6545, -0.0721]],\n",
              "\n",
              "        [[ 0.0738,  0.3573, -0.6933, -1.0141, -0.2564],\n",
              "         [-0.5453, -0.3533,  0.6772, -0.0432, -0.2741],\n",
              "         [-0.0964, -1.4810,  0.5322,  0.1129, -0.3879],\n",
              "         [-0.9456,  0.6494,  0.2096,  0.8750,  0.7875],\n",
              "         [ 1.8252,  0.4363,  0.0748, -0.5183, -0.6972]]], requires_grad=True)"
            ]
          },
          "metadata": {},
          "execution_count": 20
        }
      ]
    },
    {
      "cell_type": "code",
      "source": [
        "layer(torch.randn(2, 5))"
      ],
      "metadata": {
        "id": "CKpnXn47ORi8",
        "outputId": "f0d78d39-d07f-4253-e291-95c6e056b1f7",
        "colab": {
          "base_uri": "https://localhost:8080/"
        }
      },
      "id": "CKpnXn47ORi8",
      "execution_count": 21,
      "outputs": [
        {
          "output_type": "execute_result",
          "data": {
            "text/plain": [
              "tensor([[8.5542, 0.3068],\n",
              "        [2.1325, 6.0718]], grad_fn=<ViewBackward0>)"
            ]
          },
          "metadata": {},
          "execution_count": 21
        }
      ]
    },
    {
      "cell_type": "markdown",
      "source": [
        "### Exercise 2:"
      ],
      "metadata": {
        "id": "Zj5cxEDmRIJe"
      },
      "id": "Zj5cxEDmRIJe"
    },
    {
      "cell_type": "code",
      "source": [
        "import torch\n",
        "import torch.nn as nn\n",
        "\n",
        "class FourierLayer(nn.Module):\n",
        "    def __init__(self, keep_real=True):\n",
        "        \"\"\"\n",
        "        A custom PyTorch layer that returns the leading half of the Fourier coefficients.\n",
        "\n",
        "        Args:\n",
        "            keep_real (bool): If True, keeps only the real part of the coefficients.\n",
        "                              If False, returns both real and imaginary parts.\n",
        "        \"\"\"\n",
        "        super().__init__()\n",
        "        self.keep_real = keep_real  # Option to keep only real part\n",
        "\n",
        "    def forward(self, X):\n",
        "        \"\"\"\n",
        "        Compute the Fourier Transform and return the leading half of the coefficients.\n",
        "\n",
        "        Args:\n",
        "            X (torch.Tensor): Input tensor of shape (batch_size, sequence_length).\n",
        "\n",
        "        Returns:\n",
        "            torch.Tensor: The leading half of the Fourier coefficients.\n",
        "        \"\"\"\n",
        "        # Compute the 1D FFT along the last dimension\n",
        "        fft_coeffs = torch.fft.fft(X, dim=-1)  # Shape: (batch_size, sequence_length)\n",
        "\n",
        "        # Keep only the first half of the coefficients\n",
        "        half_size = X.shape[-1] // 2\n",
        "        fft_coeffs = fft_coeffs[:, :half_size]\n",
        "\n",
        "        # Optionally keep only the real part\n",
        "        if self.keep_real:\n",
        "            fft_coeffs = fft_coeffs.real  # Shape: (batch_size, half_size)\n",
        "\n",
        "        return fft_coeffs\n"
      ],
      "metadata": {
        "id": "TuAbuvRQVfdS"
      },
      "id": "TuAbuvRQVfdS",
      "execution_count": 43,
      "outputs": []
    },
    {
      "cell_type": "code",
      "source": [
        "fourier = FourierLayer()"
      ],
      "metadata": {
        "id": "NeEYy4ZtWkSq"
      },
      "id": "NeEYy4ZtWkSq",
      "execution_count": 44,
      "outputs": []
    },
    {
      "cell_type": "code",
      "source": [
        "fourier(torch.randn(2,3))"
      ],
      "metadata": {
        "id": "kc-7v9gmWq28",
        "outputId": "b2d22b74-8972-4f65-f51a-eb90b8a8274a",
        "colab": {
          "base_uri": "https://localhost:8080/"
        }
      },
      "id": "kc-7v9gmWq28",
      "execution_count": 45,
      "outputs": [
        {
          "output_type": "execute_result",
          "data": {
            "text/plain": [
              "tensor([[ 1.1488],\n",
              "        [-0.8196]])"
            ]
          },
          "metadata": {},
          "execution_count": 45
        }
      ]
    },
    {
      "cell_type": "code",
      "source": [],
      "metadata": {
        "id": "wQF0YDB8WuPS"
      },
      "id": "wQF0YDB8WuPS",
      "execution_count": null,
      "outputs": []
    }
  ],
  "metadata": {
    "kernelspec": {
      "display_name": "Python 3",
      "name": "python3"
    },
    "language_info": {
      "name": "python"
    },
    "required_libs": [],
    "colab": {
      "provenance": []
    }
  },
  "nbformat": 4,
  "nbformat_minor": 5
}