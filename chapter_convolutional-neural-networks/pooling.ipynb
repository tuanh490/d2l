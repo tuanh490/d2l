{
  "cells": [
    {
      "cell_type": "markdown",
      "id": "c70f8a76",
      "metadata": {
        "id": "c70f8a76"
      },
      "source": [
        "The following additional libraries are needed to run this\n",
        "notebook. Note that running on Colab is experimental, please report a Github\n",
        "issue if you have any problem."
      ]
    },
    {
      "cell_type": "code",
      "execution_count": 1,
      "id": "dac98727",
      "metadata": {
        "id": "dac98727",
        "outputId": "c68f25d7-1730-429d-d7be-5316c938789b",
        "colab": {
          "base_uri": "https://localhost:8080/"
        }
      },
      "outputs": [
        {
          "output_type": "stream",
          "name": "stdout",
          "text": [
            "Requirement already satisfied: d2l==1.0.3 in /usr/local/lib/python3.11/dist-packages (1.0.3)\n",
            "Requirement already satisfied: jupyter==1.0.0 in /usr/local/lib/python3.11/dist-packages (from d2l==1.0.3) (1.0.0)\n",
            "Requirement already satisfied: numpy==1.23.5 in /usr/local/lib/python3.11/dist-packages (from d2l==1.0.3) (1.23.5)\n",
            "Requirement already satisfied: matplotlib==3.7.2 in /usr/local/lib/python3.11/dist-packages (from d2l==1.0.3) (3.7.2)\n",
            "Requirement already satisfied: matplotlib-inline==0.1.6 in /usr/local/lib/python3.11/dist-packages (from d2l==1.0.3) (0.1.6)\n",
            "Requirement already satisfied: requests==2.31.0 in /usr/local/lib/python3.11/dist-packages (from d2l==1.0.3) (2.31.0)\n",
            "Requirement already satisfied: pandas==2.0.3 in /usr/local/lib/python3.11/dist-packages (from d2l==1.0.3) (2.0.3)\n",
            "Requirement already satisfied: scipy==1.10.1 in /usr/local/lib/python3.11/dist-packages (from d2l==1.0.3) (1.10.1)\n",
            "Requirement already satisfied: notebook in /usr/local/lib/python3.11/dist-packages (from jupyter==1.0.0->d2l==1.0.3) (6.5.5)\n",
            "Requirement already satisfied: qtconsole in /usr/local/lib/python3.11/dist-packages (from jupyter==1.0.0->d2l==1.0.3) (5.6.1)\n",
            "Requirement already satisfied: jupyter-console in /usr/local/lib/python3.11/dist-packages (from jupyter==1.0.0->d2l==1.0.3) (6.1.0)\n",
            "Requirement already satisfied: nbconvert in /usr/local/lib/python3.11/dist-packages (from jupyter==1.0.0->d2l==1.0.3) (7.16.6)\n",
            "Requirement already satisfied: ipykernel in /usr/local/lib/python3.11/dist-packages (from jupyter==1.0.0->d2l==1.0.3) (6.17.1)\n",
            "Requirement already satisfied: ipywidgets in /usr/local/lib/python3.11/dist-packages (from jupyter==1.0.0->d2l==1.0.3) (7.7.1)\n",
            "Requirement already satisfied: contourpy>=1.0.1 in /usr/local/lib/python3.11/dist-packages (from matplotlib==3.7.2->d2l==1.0.3) (1.3.1)\n",
            "Requirement already satisfied: cycler>=0.10 in /usr/local/lib/python3.11/dist-packages (from matplotlib==3.7.2->d2l==1.0.3) (0.12.1)\n",
            "Requirement already satisfied: fonttools>=4.22.0 in /usr/local/lib/python3.11/dist-packages (from matplotlib==3.7.2->d2l==1.0.3) (4.56.0)\n",
            "Requirement already satisfied: kiwisolver>=1.0.1 in /usr/local/lib/python3.11/dist-packages (from matplotlib==3.7.2->d2l==1.0.3) (1.4.8)\n",
            "Requirement already satisfied: packaging>=20.0 in /usr/local/lib/python3.11/dist-packages (from matplotlib==3.7.2->d2l==1.0.3) (24.2)\n",
            "Requirement already satisfied: pillow>=6.2.0 in /usr/local/lib/python3.11/dist-packages (from matplotlib==3.7.2->d2l==1.0.3) (11.1.0)\n",
            "Requirement already satisfied: pyparsing<3.1,>=2.3.1 in /usr/local/lib/python3.11/dist-packages (from matplotlib==3.7.2->d2l==1.0.3) (3.0.9)\n",
            "Requirement already satisfied: python-dateutil>=2.7 in /usr/local/lib/python3.11/dist-packages (from matplotlib==3.7.2->d2l==1.0.3) (2.8.2)\n",
            "Requirement already satisfied: traitlets in /usr/local/lib/python3.11/dist-packages (from matplotlib-inline==0.1.6->d2l==1.0.3) (5.7.1)\n",
            "Requirement already satisfied: pytz>=2020.1 in /usr/local/lib/python3.11/dist-packages (from pandas==2.0.3->d2l==1.0.3) (2025.1)\n",
            "Requirement already satisfied: tzdata>=2022.1 in /usr/local/lib/python3.11/dist-packages (from pandas==2.0.3->d2l==1.0.3) (2025.1)\n",
            "Requirement already satisfied: charset-normalizer<4,>=2 in /usr/local/lib/python3.11/dist-packages (from requests==2.31.0->d2l==1.0.3) (3.4.1)\n",
            "Requirement already satisfied: idna<4,>=2.5 in /usr/local/lib/python3.11/dist-packages (from requests==2.31.0->d2l==1.0.3) (3.10)\n",
            "Requirement already satisfied: urllib3<3,>=1.21.1 in /usr/local/lib/python3.11/dist-packages (from requests==2.31.0->d2l==1.0.3) (2.3.0)\n",
            "Requirement already satisfied: certifi>=2017.4.17 in /usr/local/lib/python3.11/dist-packages (from requests==2.31.0->d2l==1.0.3) (2025.1.31)\n",
            "Requirement already satisfied: six>=1.5 in /usr/local/lib/python3.11/dist-packages (from python-dateutil>=2.7->matplotlib==3.7.2->d2l==1.0.3) (1.17.0)\n",
            "Requirement already satisfied: debugpy>=1.0 in /usr/local/lib/python3.11/dist-packages (from ipykernel->jupyter==1.0.0->d2l==1.0.3) (1.8.0)\n",
            "Requirement already satisfied: ipython>=7.23.1 in /usr/local/lib/python3.11/dist-packages (from ipykernel->jupyter==1.0.0->d2l==1.0.3) (7.34.0)\n",
            "Requirement already satisfied: jupyter-client>=6.1.12 in /usr/local/lib/python3.11/dist-packages (from ipykernel->jupyter==1.0.0->d2l==1.0.3) (6.1.12)\n",
            "Requirement already satisfied: nest-asyncio in /usr/local/lib/python3.11/dist-packages (from ipykernel->jupyter==1.0.0->d2l==1.0.3) (1.6.0)\n",
            "Requirement already satisfied: psutil in /usr/local/lib/python3.11/dist-packages (from ipykernel->jupyter==1.0.0->d2l==1.0.3) (5.9.5)\n",
            "Requirement already satisfied: pyzmq>=17 in /usr/local/lib/python3.11/dist-packages (from ipykernel->jupyter==1.0.0->d2l==1.0.3) (24.0.1)\n",
            "Requirement already satisfied: tornado>=6.1 in /usr/local/lib/python3.11/dist-packages (from ipykernel->jupyter==1.0.0->d2l==1.0.3) (6.4.2)\n",
            "Requirement already satisfied: ipython-genutils~=0.2.0 in /usr/local/lib/python3.11/dist-packages (from ipywidgets->jupyter==1.0.0->d2l==1.0.3) (0.2.0)\n",
            "Requirement already satisfied: widgetsnbextension~=3.6.0 in /usr/local/lib/python3.11/dist-packages (from ipywidgets->jupyter==1.0.0->d2l==1.0.3) (3.6.10)\n",
            "Requirement already satisfied: jupyterlab-widgets>=1.0.0 in /usr/local/lib/python3.11/dist-packages (from ipywidgets->jupyter==1.0.0->d2l==1.0.3) (3.0.13)\n",
            "Requirement already satisfied: prompt-toolkit!=3.0.0,!=3.0.1,<3.1.0,>=2.0.0 in /usr/local/lib/python3.11/dist-packages (from jupyter-console->jupyter==1.0.0->d2l==1.0.3) (3.0.50)\n",
            "Requirement already satisfied: pygments in /usr/local/lib/python3.11/dist-packages (from jupyter-console->jupyter==1.0.0->d2l==1.0.3) (2.18.0)\n",
            "Requirement already satisfied: beautifulsoup4 in /usr/local/lib/python3.11/dist-packages (from nbconvert->jupyter==1.0.0->d2l==1.0.3) (4.13.3)\n",
            "Requirement already satisfied: bleach!=5.0.0 in /usr/local/lib/python3.11/dist-packages (from bleach[css]!=5.0.0->nbconvert->jupyter==1.0.0->d2l==1.0.3) (6.2.0)\n",
            "Requirement already satisfied: defusedxml in /usr/local/lib/python3.11/dist-packages (from nbconvert->jupyter==1.0.0->d2l==1.0.3) (0.7.1)\n",
            "Requirement already satisfied: jinja2>=3.0 in /usr/local/lib/python3.11/dist-packages (from nbconvert->jupyter==1.0.0->d2l==1.0.3) (3.1.5)\n",
            "Requirement already satisfied: jupyter-core>=4.7 in /usr/local/lib/python3.11/dist-packages (from nbconvert->jupyter==1.0.0->d2l==1.0.3) (5.7.2)\n",
            "Requirement already satisfied: jupyterlab-pygments in /usr/local/lib/python3.11/dist-packages (from nbconvert->jupyter==1.0.0->d2l==1.0.3) (0.3.0)\n",
            "Requirement already satisfied: markupsafe>=2.0 in /usr/local/lib/python3.11/dist-packages (from nbconvert->jupyter==1.0.0->d2l==1.0.3) (3.0.2)\n",
            "Requirement already satisfied: mistune<4,>=2.0.3 in /usr/local/lib/python3.11/dist-packages (from nbconvert->jupyter==1.0.0->d2l==1.0.3) (3.1.2)\n",
            "Requirement already satisfied: nbclient>=0.5.0 in /usr/local/lib/python3.11/dist-packages (from nbconvert->jupyter==1.0.0->d2l==1.0.3) (0.10.2)\n",
            "Requirement already satisfied: nbformat>=5.7 in /usr/local/lib/python3.11/dist-packages (from nbconvert->jupyter==1.0.0->d2l==1.0.3) (5.10.4)\n",
            "Requirement already satisfied: pandocfilters>=1.4.1 in /usr/local/lib/python3.11/dist-packages (from nbconvert->jupyter==1.0.0->d2l==1.0.3) (1.5.1)\n",
            "Requirement already satisfied: argon2-cffi in /usr/local/lib/python3.11/dist-packages (from notebook->jupyter==1.0.0->d2l==1.0.3) (23.1.0)\n",
            "Requirement already satisfied: Send2Trash>=1.8.0 in /usr/local/lib/python3.11/dist-packages (from notebook->jupyter==1.0.0->d2l==1.0.3) (1.8.3)\n",
            "Requirement already satisfied: terminado>=0.8.3 in /usr/local/lib/python3.11/dist-packages (from notebook->jupyter==1.0.0->d2l==1.0.3) (0.18.1)\n",
            "Requirement already satisfied: prometheus-client in /usr/local/lib/python3.11/dist-packages (from notebook->jupyter==1.0.0->d2l==1.0.3) (0.21.1)\n",
            "Requirement already satisfied: nbclassic>=0.4.7 in /usr/local/lib/python3.11/dist-packages (from notebook->jupyter==1.0.0->d2l==1.0.3) (1.2.0)\n",
            "Requirement already satisfied: qtpy>=2.4.0 in /usr/local/lib/python3.11/dist-packages (from qtconsole->jupyter==1.0.0->d2l==1.0.3) (2.4.3)\n",
            "Requirement already satisfied: webencodings in /usr/local/lib/python3.11/dist-packages (from bleach!=5.0.0->bleach[css]!=5.0.0->nbconvert->jupyter==1.0.0->d2l==1.0.3) (0.5.1)\n",
            "Requirement already satisfied: tinycss2<1.5,>=1.1.0 in /usr/local/lib/python3.11/dist-packages (from bleach[css]!=5.0.0->nbconvert->jupyter==1.0.0->d2l==1.0.3) (1.4.0)\n",
            "Requirement already satisfied: setuptools>=18.5 in /usr/local/lib/python3.11/dist-packages (from ipython>=7.23.1->ipykernel->jupyter==1.0.0->d2l==1.0.3) (75.1.0)\n",
            "Requirement already satisfied: jedi>=0.16 in /usr/local/lib/python3.11/dist-packages (from ipython>=7.23.1->ipykernel->jupyter==1.0.0->d2l==1.0.3) (0.19.2)\n",
            "Requirement already satisfied: decorator in /usr/local/lib/python3.11/dist-packages (from ipython>=7.23.1->ipykernel->jupyter==1.0.0->d2l==1.0.3) (4.4.2)\n",
            "Requirement already satisfied: pickleshare in /usr/local/lib/python3.11/dist-packages (from ipython>=7.23.1->ipykernel->jupyter==1.0.0->d2l==1.0.3) (0.7.5)\n",
            "Requirement already satisfied: backcall in /usr/local/lib/python3.11/dist-packages (from ipython>=7.23.1->ipykernel->jupyter==1.0.0->d2l==1.0.3) (0.2.0)\n",
            "Requirement already satisfied: pexpect>4.3 in /usr/local/lib/python3.11/dist-packages (from ipython>=7.23.1->ipykernel->jupyter==1.0.0->d2l==1.0.3) (4.9.0)\n",
            "Requirement already satisfied: platformdirs>=2.5 in /usr/local/lib/python3.11/dist-packages (from jupyter-core>=4.7->nbconvert->jupyter==1.0.0->d2l==1.0.3) (4.3.6)\n",
            "Requirement already satisfied: notebook-shim>=0.2.3 in /usr/local/lib/python3.11/dist-packages (from nbclassic>=0.4.7->notebook->jupyter==1.0.0->d2l==1.0.3) (0.2.4)\n",
            "Requirement already satisfied: fastjsonschema>=2.15 in /usr/local/lib/python3.11/dist-packages (from nbformat>=5.7->nbconvert->jupyter==1.0.0->d2l==1.0.3) (2.21.1)\n",
            "Requirement already satisfied: jsonschema>=2.6 in /usr/local/lib/python3.11/dist-packages (from nbformat>=5.7->nbconvert->jupyter==1.0.0->d2l==1.0.3) (4.23.0)\n",
            "Requirement already satisfied: wcwidth in /usr/local/lib/python3.11/dist-packages (from prompt-toolkit!=3.0.0,!=3.0.1,<3.1.0,>=2.0.0->jupyter-console->jupyter==1.0.0->d2l==1.0.3) (0.2.13)\n",
            "Requirement already satisfied: ptyprocess in /usr/local/lib/python3.11/dist-packages (from terminado>=0.8.3->notebook->jupyter==1.0.0->d2l==1.0.3) (0.7.0)\n",
            "Requirement already satisfied: argon2-cffi-bindings in /usr/local/lib/python3.11/dist-packages (from argon2-cffi->notebook->jupyter==1.0.0->d2l==1.0.3) (21.2.0)\n",
            "Requirement already satisfied: soupsieve>1.2 in /usr/local/lib/python3.11/dist-packages (from beautifulsoup4->nbconvert->jupyter==1.0.0->d2l==1.0.3) (2.6)\n",
            "Requirement already satisfied: typing-extensions>=4.0.0 in /usr/local/lib/python3.11/dist-packages (from beautifulsoup4->nbconvert->jupyter==1.0.0->d2l==1.0.3) (4.12.2)\n",
            "Requirement already satisfied: parso<0.9.0,>=0.8.4 in /usr/local/lib/python3.11/dist-packages (from jedi>=0.16->ipython>=7.23.1->ipykernel->jupyter==1.0.0->d2l==1.0.3) (0.8.4)\n",
            "Requirement already satisfied: attrs>=22.2.0 in /usr/local/lib/python3.11/dist-packages (from jsonschema>=2.6->nbformat>=5.7->nbconvert->jupyter==1.0.0->d2l==1.0.3) (25.1.0)\n",
            "Requirement already satisfied: jsonschema-specifications>=2023.03.6 in /usr/local/lib/python3.11/dist-packages (from jsonschema>=2.6->nbformat>=5.7->nbconvert->jupyter==1.0.0->d2l==1.0.3) (2024.10.1)\n",
            "Requirement already satisfied: referencing>=0.28.4 in /usr/local/lib/python3.11/dist-packages (from jsonschema>=2.6->nbformat>=5.7->nbconvert->jupyter==1.0.0->d2l==1.0.3) (0.36.2)\n",
            "Requirement already satisfied: rpds-py>=0.7.1 in /usr/local/lib/python3.11/dist-packages (from jsonschema>=2.6->nbformat>=5.7->nbconvert->jupyter==1.0.0->d2l==1.0.3) (0.23.1)\n",
            "Requirement already satisfied: jupyter-server<3,>=1.8 in /usr/local/lib/python3.11/dist-packages (from notebook-shim>=0.2.3->nbclassic>=0.4.7->notebook->jupyter==1.0.0->d2l==1.0.3) (1.24.0)\n",
            "Requirement already satisfied: cffi>=1.0.1 in /usr/local/lib/python3.11/dist-packages (from argon2-cffi-bindings->argon2-cffi->notebook->jupyter==1.0.0->d2l==1.0.3) (1.17.1)\n",
            "Requirement already satisfied: pycparser in /usr/local/lib/python3.11/dist-packages (from cffi>=1.0.1->argon2-cffi-bindings->argon2-cffi->notebook->jupyter==1.0.0->d2l==1.0.3) (2.22)\n",
            "Requirement already satisfied: anyio<4,>=3.1.0 in /usr/local/lib/python3.11/dist-packages (from jupyter-server<3,>=1.8->notebook-shim>=0.2.3->nbclassic>=0.4.7->notebook->jupyter==1.0.0->d2l==1.0.3) (3.7.1)\n",
            "Requirement already satisfied: websocket-client in /usr/local/lib/python3.11/dist-packages (from jupyter-server<3,>=1.8->notebook-shim>=0.2.3->nbclassic>=0.4.7->notebook->jupyter==1.0.0->d2l==1.0.3) (1.8.0)\n",
            "Requirement already satisfied: sniffio>=1.1 in /usr/local/lib/python3.11/dist-packages (from anyio<4,>=3.1.0->jupyter-server<3,>=1.8->notebook-shim>=0.2.3->nbclassic>=0.4.7->notebook->jupyter==1.0.0->d2l==1.0.3) (1.3.1)\n"
          ]
        }
      ],
      "source": [
        "!pip install d2l==1.0.3\n"
      ]
    },
    {
      "cell_type": "markdown",
      "id": "57249b96",
      "metadata": {
        "origin_pos": 1,
        "id": "57249b96"
      },
      "source": [
        "# Pooling\n",
        ":label:`sec_pooling`\n",
        "\n",
        "In many cases our ultimate task asks some global question about the image,\n",
        "e.g., *does it contain a cat?* Consequently, the units of our final layer\n",
        "should be sensitive to the entire input.\n",
        "By gradually aggregating information, yielding coarser and coarser maps,\n",
        "we accomplish this goal of ultimately learning a global representation,\n",
        "while keeping all of the advantages of convolutional layers at the intermediate layers of processing.\n",
        "The deeper we go in the network,\n",
        "the larger the receptive field (relative to the input)\n",
        "to which each hidden node is sensitive. Reducing spatial resolution\n",
        "accelerates this process,\n",
        "since the convolution kernels cover a larger effective area.\n",
        "\n",
        "Moreover, when detecting lower-level features, such as edges\n",
        "(as discussed in :numref:`sec_conv_layer`),\n",
        "we often want our representations to be somewhat invariant to translation.\n",
        "For instance, if we take the image `X`\n",
        "with a sharp delineation between black and white\n",
        "and shift the whole image by one pixel to the right,\n",
        "i.e., `Z[i, j] = X[i, j + 1]`,\n",
        "then the output for the new image `Z` might be vastly different.\n",
        "The edge will have shifted by one pixel.\n",
        "In reality, objects hardly ever occur exactly at the same place.\n",
        "In fact, even with a tripod and a stationary object,\n",
        "vibration of the camera due to the movement of the shutter\n",
        "might shift everything by a pixel or so\n",
        "(high-end cameras are loaded with special features to address this problem).\n",
        "\n",
        "This section introduces *pooling layers*,\n",
        "which serve the dual purposes of\n",
        "mitigating the sensitivity of convolutional layers to location\n",
        "and of spatially downsampling representations.\n"
      ]
    },
    {
      "cell_type": "code",
      "execution_count": 2,
      "id": "1d620804",
      "metadata": {
        "execution": {
          "iopub.execute_input": "2023-08-18T20:14:38.208041Z",
          "iopub.status.busy": "2023-08-18T20:14:38.207378Z",
          "iopub.status.idle": "2023-08-18T20:14:41.246234Z",
          "shell.execute_reply": "2023-08-18T20:14:41.245322Z"
        },
        "origin_pos": 3,
        "tab": [
          "pytorch"
        ],
        "id": "1d620804"
      },
      "outputs": [],
      "source": [
        "import torch\n",
        "from torch import nn\n",
        "from d2l import torch as d2l"
      ]
    },
    {
      "cell_type": "markdown",
      "id": "b3e7dfcb",
      "metadata": {
        "origin_pos": 5,
        "id": "b3e7dfcb"
      },
      "source": [
        "## Maximum Pooling and Average Pooling\n",
        "\n",
        "Like convolutional layers, *pooling* operators\n",
        "consist of a fixed-shape window that is slid over\n",
        "all regions in the input according to its stride,\n",
        "computing a single output for each location traversed\n",
        "by the fixed-shape window (sometimes known as the *pooling window*).\n",
        "However, unlike the cross-correlation computation\n",
        "of the inputs and kernels in the convolutional layer,\n",
        "the pooling layer contains no parameters (there is no *kernel*).\n",
        "Instead, pooling operators are deterministic,\n",
        "typically calculating either the maximum or the average value\n",
        "of the elements in the pooling window.\n",
        "These operations are called *maximum pooling* (*max-pooling* for short)\n",
        "and *average pooling*, respectively.\n",
        "\n",
        "*Average pooling* is essentially as old as CNNs. The idea is akin to\n",
        "downsampling an image. Rather than just taking the value of every second (or third)\n",
        "pixel for the lower resolution image, we can average over adjacent pixels to obtain\n",
        "an image with better signal-to-noise ratio since we are combining the information\n",
        "from multiple adjacent pixels. *Max-pooling* was introduced in\n",
        ":citet:`Riesenhuber.Poggio.1999` in the context of cognitive neuroscience to describe\n",
        "how information aggregation might be aggregated hierarchically for the purpose\n",
        "of object recognition; there already was an earlier version in speech recognition :cite:`Yamaguchi.Sakamoto.Akabane.ea.1990`. In almost all cases, max-pooling, as it is also referred to,\n",
        "is preferable to average pooling.\n",
        "\n",
        "In both cases, as with the cross-correlation operator,\n",
        "we can think of the pooling window\n",
        "as starting from the upper-left of the input tensor\n",
        "and sliding across it from left to right and top to bottom.\n",
        "At each location that the pooling window hits,\n",
        "it computes the maximum or average\n",
        "value of the input subtensor in the window,\n",
        "depending on whether max or average pooling is employed.\n",
        "\n",
        "\n",
        "![Max-pooling with a pooling window shape of $2\\times 2$. The shaded portions are the first output element as well as the input tensor elements used for the output computation: $\\max(0, 1, 3, 4)=4$.](http://d2l.ai/_images/pooling.svg)\n",
        ":label:`fig_pooling`\n",
        "\n",
        "The output tensor in :numref:`fig_pooling`  has a height of 2 and a width of 2.\n",
        "The four elements are derived from the maximum value in each pooling window:\n",
        "\n",
        "$$\n",
        "\\max(0, 1, 3, 4)=4,\\\\\n",
        "\\max(1, 2, 4, 5)=5,\\\\\n",
        "\\max(3, 4, 6, 7)=7,\\\\\n",
        "\\max(4, 5, 7, 8)=8.\\\\\n",
        "$$\n",
        "\n",
        "More generally, we can define a $p \\times q$ pooling layer by aggregating over\n",
        "a region of said size. Returning to the problem of edge detection,\n",
        "we use the output of the convolutional layer\n",
        "as input for $2\\times 2$ max-pooling.\n",
        "Denote by `X` the input of the convolutional layer input and `Y` the pooling layer output.\n",
        "Regardless of whether or not the values of `X[i, j]`, `X[i, j + 1]`,\n",
        "`X[i+1, j]` and `X[i+1, j + 1]` are different,\n",
        "the pooling layer always outputs `Y[i, j] = 1`.\n",
        "That is to say, using the $2\\times 2$ max-pooling layer,\n",
        "we can still detect if the pattern recognized by the convolutional layer\n",
        "moves no more than one element in height or width.\n",
        "\n",
        "In the code below, we (**implement the forward propagation\n",
        "of the pooling layer**) in the `pool2d` function.\n",
        "This function is similar to the `corr2d` function\n",
        "in :numref:`sec_conv_layer`.\n",
        "However, no kernel is needed, computing the output\n",
        "as either the maximum or the average of each region in the input.\n"
      ]
    },
    {
      "cell_type": "code",
      "execution_count": null,
      "id": "b6b758a3",
      "metadata": {
        "execution": {
          "iopub.execute_input": "2023-08-18T20:14:41.250338Z",
          "iopub.status.busy": "2023-08-18T20:14:41.249663Z",
          "iopub.status.idle": "2023-08-18T20:14:41.255693Z",
          "shell.execute_reply": "2023-08-18T20:14:41.254862Z"
        },
        "origin_pos": 6,
        "tab": [
          "pytorch"
        ],
        "id": "b6b758a3"
      },
      "outputs": [],
      "source": [
        "def pool2d(X, pool_size, mode='max'):\n",
        "    p_h, p_w = pool_size\n",
        "    Y = torch.zeros((X.shape[0] - p_h + 1, X.shape[1] - p_w + 1))\n",
        "    for i in range(Y.shape[0]):\n",
        "        for j in range(Y.shape[1]):\n",
        "            if mode == 'max':\n",
        "                Y[i, j] = X[i: i + p_h, j: j + p_w].max()\n",
        "            elif mode == 'avg':\n",
        "                Y[i, j] = X[i: i + p_h, j: j + p_w].mean()\n",
        "    return Y"
      ]
    },
    {
      "cell_type": "markdown",
      "id": "4ff6470c",
      "metadata": {
        "origin_pos": 9,
        "id": "4ff6470c"
      },
      "source": [
        "We can construct the input tensor `X` in :numref:`fig_pooling` to [**validate the output of the two-dimensional max-pooling layer**].\n"
      ]
    },
    {
      "cell_type": "code",
      "execution_count": null,
      "id": "8fcb17f0",
      "metadata": {
        "execution": {
          "iopub.execute_input": "2023-08-18T20:14:41.259009Z",
          "iopub.status.busy": "2023-08-18T20:14:41.258472Z",
          "iopub.status.idle": "2023-08-18T20:14:41.285891Z",
          "shell.execute_reply": "2023-08-18T20:14:41.285098Z"
        },
        "origin_pos": 10,
        "tab": [
          "pytorch"
        ],
        "id": "8fcb17f0",
        "outputId": "bd7c75f9-bc39-4c42-f8d9-6278e1521cfc"
      },
      "outputs": [
        {
          "data": {
            "text/plain": [
              "tensor([[4., 5.],\n",
              "        [7., 8.]])"
            ]
          },
          "execution_count": 3,
          "metadata": {},
          "output_type": "execute_result"
        }
      ],
      "source": [
        "X = torch.tensor([[0.0, 1.0, 2.0], [3.0, 4.0, 5.0], [6.0, 7.0, 8.0]])\n",
        "pool2d(X, (2, 2))"
      ]
    },
    {
      "cell_type": "markdown",
      "id": "2660d3f7",
      "metadata": {
        "origin_pos": 11,
        "id": "2660d3f7"
      },
      "source": [
        "Also, we can experiment with (**the average pooling layer**).\n"
      ]
    },
    {
      "cell_type": "code",
      "execution_count": null,
      "id": "db997aec",
      "metadata": {
        "execution": {
          "iopub.execute_input": "2023-08-18T20:14:41.289296Z",
          "iopub.status.busy": "2023-08-18T20:14:41.288755Z",
          "iopub.status.idle": "2023-08-18T20:14:41.294610Z",
          "shell.execute_reply": "2023-08-18T20:14:41.293875Z"
        },
        "origin_pos": 12,
        "tab": [
          "pytorch"
        ],
        "id": "db997aec",
        "outputId": "f781cf1e-e26d-4342-90d4-e8bca88498eb"
      },
      "outputs": [
        {
          "data": {
            "text/plain": [
              "tensor([[2., 3.],\n",
              "        [5., 6.]])"
            ]
          },
          "execution_count": 4,
          "metadata": {},
          "output_type": "execute_result"
        }
      ],
      "source": [
        "pool2d(X, (2, 2), 'avg')"
      ]
    },
    {
      "cell_type": "markdown",
      "id": "12a5812d",
      "metadata": {
        "origin_pos": 13,
        "id": "12a5812d"
      },
      "source": [
        "## [**Padding and Stride**]\n",
        "\n",
        "As with convolutional layers, pooling layers\n",
        "change the output shape.\n",
        "And as before, we can adjust the operation to achieve a desired output shape\n",
        "by padding the input and adjusting the stride.\n",
        "We can demonstrate the use of padding and strides\n",
        "in pooling layers via the built-in two-dimensional max-pooling layer from the deep learning framework.\n",
        "We first construct an input tensor `X` whose shape has four dimensions,\n",
        "where the number of examples (batch size) and number of channels are both 1.\n"
      ]
    },
    {
      "cell_type": "code",
      "execution_count": null,
      "id": "163fc8d6",
      "metadata": {
        "execution": {
          "iopub.execute_input": "2023-08-18T20:14:41.298256Z",
          "iopub.status.busy": "2023-08-18T20:14:41.297476Z",
          "iopub.status.idle": "2023-08-18T20:14:41.304757Z",
          "shell.execute_reply": "2023-08-18T20:14:41.303750Z"
        },
        "origin_pos": 15,
        "tab": [
          "pytorch"
        ],
        "id": "163fc8d6",
        "outputId": "5f9e5bff-54e7-46f3-fb36-46479a0adee2"
      },
      "outputs": [
        {
          "data": {
            "text/plain": [
              "tensor([[[[ 0.,  1.,  2.,  3.],\n",
              "          [ 4.,  5.,  6.,  7.],\n",
              "          [ 8.,  9., 10., 11.],\n",
              "          [12., 13., 14., 15.]]]])"
            ]
          },
          "execution_count": 5,
          "metadata": {},
          "output_type": "execute_result"
        }
      ],
      "source": [
        "X = torch.arange(16, dtype=torch.float32).reshape((1, 1, 4, 4))\n",
        "X"
      ]
    },
    {
      "cell_type": "markdown",
      "id": "613a9612",
      "metadata": {
        "origin_pos": 17,
        "id": "613a9612"
      },
      "source": [
        "Since pooling aggregates information from an area, (**deep learning frameworks default to matching pooling window sizes and stride.**) For instance, if we use a pooling window of shape `(3, 3)`\n",
        "we get a stride shape of `(3, 3)` by default.\n"
      ]
    },
    {
      "cell_type": "code",
      "execution_count": null,
      "id": "bc286034",
      "metadata": {
        "execution": {
          "iopub.execute_input": "2023-08-18T20:14:41.308365Z",
          "iopub.status.busy": "2023-08-18T20:14:41.307491Z",
          "iopub.status.idle": "2023-08-18T20:14:41.314528Z",
          "shell.execute_reply": "2023-08-18T20:14:41.313528Z"
        },
        "origin_pos": 19,
        "tab": [
          "pytorch"
        ],
        "id": "bc286034",
        "outputId": "9ea2f6fa-4530-479a-b2f6-a11184b3c463"
      },
      "outputs": [
        {
          "data": {
            "text/plain": [
              "tensor([[[[10.]]]])"
            ]
          },
          "execution_count": 6,
          "metadata": {},
          "output_type": "execute_result"
        }
      ],
      "source": [
        "pool2d = nn.MaxPool2d(3)\n",
        "# Pooling has no model parameters, hence it needs no initialization\n",
        "pool2d(X)"
      ]
    },
    {
      "cell_type": "markdown",
      "id": "02120224",
      "metadata": {
        "origin_pos": 22,
        "id": "02120224"
      },
      "source": [
        "Needless to say, [**the stride and padding can be manually specified**] to override framework defaults if required.\n"
      ]
    },
    {
      "cell_type": "code",
      "execution_count": null,
      "id": "ca0c78a7",
      "metadata": {
        "execution": {
          "iopub.execute_input": "2023-08-18T20:14:41.318117Z",
          "iopub.status.busy": "2023-08-18T20:14:41.317241Z",
          "iopub.status.idle": "2023-08-18T20:14:41.324934Z",
          "shell.execute_reply": "2023-08-18T20:14:41.323915Z"
        },
        "origin_pos": 24,
        "tab": [
          "pytorch"
        ],
        "id": "ca0c78a7",
        "outputId": "62e0b6aa-36e1-414a-fd6e-70a9570f7a1f"
      },
      "outputs": [
        {
          "data": {
            "text/plain": [
              "tensor([[[[ 5.,  7.],\n",
              "          [13., 15.]]]])"
            ]
          },
          "execution_count": 7,
          "metadata": {},
          "output_type": "execute_result"
        }
      ],
      "source": [
        "pool2d = nn.MaxPool2d(3, padding=1, stride=2)\n",
        "pool2d(X)"
      ]
    },
    {
      "cell_type": "markdown",
      "id": "c4474180",
      "metadata": {
        "origin_pos": 27,
        "id": "c4474180"
      },
      "source": [
        "Of course, we can specify an arbitrary rectangular pooling window with arbitrary height and width respectively, as the example below shows.\n"
      ]
    },
    {
      "cell_type": "code",
      "execution_count": null,
      "id": "69b31fea",
      "metadata": {
        "execution": {
          "iopub.execute_input": "2023-08-18T20:14:41.328395Z",
          "iopub.status.busy": "2023-08-18T20:14:41.327817Z",
          "iopub.status.idle": "2023-08-18T20:14:41.335285Z",
          "shell.execute_reply": "2023-08-18T20:14:41.334272Z"
        },
        "origin_pos": 29,
        "tab": [
          "pytorch"
        ],
        "id": "69b31fea",
        "outputId": "e5f5e3e3-5d6b-4941-bc0d-5cef8b82e044"
      },
      "outputs": [
        {
          "data": {
            "text/plain": [
              "tensor([[[[ 5.,  7.],\n",
              "          [13., 15.]]]])"
            ]
          },
          "execution_count": 8,
          "metadata": {},
          "output_type": "execute_result"
        }
      ],
      "source": [
        "pool2d = nn.MaxPool2d((2, 3), stride=(2, 3), padding=(0, 1))\n",
        "pool2d(X)"
      ]
    },
    {
      "cell_type": "markdown",
      "id": "61da4755",
      "metadata": {
        "origin_pos": 32,
        "id": "61da4755"
      },
      "source": [
        "## Multiple Channels\n",
        "\n",
        "When processing multi-channel input data,\n",
        "[**the pooling layer pools each input channel separately**],\n",
        "rather than summing the inputs up over channels\n",
        "as in a convolutional layer.\n",
        "This means that the number of output channels for the pooling layer\n",
        "is the same as the number of input channels.\n",
        "Below, we will concatenate tensors `X` and `X + 1`\n",
        "on the channel dimension to construct an input with two channels.\n"
      ]
    },
    {
      "cell_type": "code",
      "execution_count": null,
      "id": "e54e620e",
      "metadata": {
        "execution": {
          "iopub.execute_input": "2023-08-18T20:14:41.338784Z",
          "iopub.status.busy": "2023-08-18T20:14:41.338035Z",
          "iopub.status.idle": "2023-08-18T20:14:41.345454Z",
          "shell.execute_reply": "2023-08-18T20:14:41.344440Z"
        },
        "origin_pos": 34,
        "tab": [
          "pytorch"
        ],
        "id": "e54e620e",
        "outputId": "7c2862ea-6abc-424e-84a1-db7b78bbac38"
      },
      "outputs": [
        {
          "data": {
            "text/plain": [
              "tensor([[[[ 0.,  1.,  2.,  3.],\n",
              "          [ 4.,  5.,  6.,  7.],\n",
              "          [ 8.,  9., 10., 11.],\n",
              "          [12., 13., 14., 15.]],\n",
              "\n",
              "         [[ 1.,  2.,  3.,  4.],\n",
              "          [ 5.,  6.,  7.,  8.],\n",
              "          [ 9., 10., 11., 12.],\n",
              "          [13., 14., 15., 16.]]]])"
            ]
          },
          "execution_count": 9,
          "metadata": {},
          "output_type": "execute_result"
        }
      ],
      "source": [
        "X = torch.cat((X, X + 1), 1)\n",
        "X"
      ]
    },
    {
      "cell_type": "markdown",
      "id": "d3283101",
      "metadata": {
        "origin_pos": 36,
        "id": "d3283101"
      },
      "source": [
        "As we can see, the number of output channels is still two after pooling.\n"
      ]
    },
    {
      "cell_type": "code",
      "execution_count": null,
      "id": "87e7f759",
      "metadata": {
        "execution": {
          "iopub.execute_input": "2023-08-18T20:14:41.349138Z",
          "iopub.status.busy": "2023-08-18T20:14:41.348332Z",
          "iopub.status.idle": "2023-08-18T20:14:41.355713Z",
          "shell.execute_reply": "2023-08-18T20:14:41.354667Z"
        },
        "origin_pos": 38,
        "tab": [
          "pytorch"
        ],
        "id": "87e7f759",
        "outputId": "cd366936-e919-4f48-837d-4e46c8689fc4"
      },
      "outputs": [
        {
          "data": {
            "text/plain": [
              "tensor([[[[ 5.,  7.],\n",
              "          [13., 15.]],\n",
              "\n",
              "         [[ 6.,  8.],\n",
              "          [14., 16.]]]])"
            ]
          },
          "execution_count": 10,
          "metadata": {},
          "output_type": "execute_result"
        }
      ],
      "source": [
        "pool2d = nn.MaxPool2d(3, padding=1, stride=2)\n",
        "pool2d(X)"
      ]
    },
    {
      "cell_type": "markdown",
      "id": "0fd9d3ec",
      "metadata": {
        "origin_pos": 42,
        "id": "0fd9d3ec"
      },
      "source": [
        "## Summary\n",
        "\n",
        "Pooling is an exceedingly simple operation. It does exactly what its name indicates, aggregate results over a window of values. All convolution semantics, such as strides and padding apply in the same way as they did previously. Note that pooling is indifferent to channels, i.e., it leaves the number of channels unchanged and it applies to each channel separately. Lastly, of the two popular pooling choices, max-pooling is preferable to average pooling, as it confers some degree of invariance to output. A popular choice is to pick a pooling window size of $2 \\times 2$ to quarter the spatial resolution of output.\n",
        "\n",
        "Note that there are many more ways of reducing resolution beyond pooling. For instance, in stochastic pooling :cite:`Zeiler.Fergus.2013` and fractional max-pooling :cite:`Graham.2014` aggregation is combined with randomization. This can slightly improve the accuracy in some cases. Lastly, as we will see later with the attention mechanism, there are more refined ways of aggregating over outputs, e.g., by using the alignment between a query and representation vectors.\n",
        "\n",
        "\n",
        "## Exercises\n",
        "\n",
        "1. Implement average pooling through a convolution.\n",
        "1. Prove that max-pooling cannot be implemented through a convolution alone.\n",
        "1. Max-pooling can be accomplished using ReLU operations, i.e., $\\textrm{ReLU}(x) = \\max(0, x)$.\n",
        "    1. Express $\\max (a, b)$ by using only ReLU operations.\n",
        "    1. Use this to implement max-pooling by means of convolutions and ReLU layers.\n",
        "    1. How many channels and layers do you need for a $2 \\times 2$ convolution? How many for a $3 \\times 3$ convolution?\n",
        "1. What is the computational cost of the pooling layer? Assume that the input to the pooling layer is of size $c\\times h\\times w$, the pooling window has a shape of $p_\\textrm{h}\\times p_\\textrm{w}$ with a padding of $(p_\\textrm{h}, p_\\textrm{w})$ and a stride of $(s_\\textrm{h}, s_\\textrm{w})$.\n",
        "1. Why do you expect max-pooling and average pooling to work differently?\n",
        "1. Do we need a separate minimum pooling layer? Can you replace it with another operation?\n",
        "1. We could use the softmax operation for pooling. Why might it not be so popular?\n"
      ]
    },
    {
      "cell_type": "markdown",
      "id": "8a37fa6a",
      "metadata": {
        "origin_pos": 44,
        "tab": [
          "pytorch"
        ],
        "id": "8a37fa6a"
      },
      "source": [
        "[Discussions](https://discuss.d2l.ai/t/72)\n"
      ]
    },
    {
      "cell_type": "markdown",
      "source": [
        "### Exercise 1:"
      ],
      "metadata": {
        "id": "Kr8c5L5YrvNL"
      },
      "id": "Kr8c5L5YrvNL"
    },
    {
      "cell_type": "code",
      "source": [
        "import torch.nn.functional as F"
      ],
      "metadata": {
        "id": "aTWRsmlLtA5M"
      },
      "id": "aTWRsmlLtA5M",
      "execution_count": 3,
      "outputs": []
    },
    {
      "cell_type": "code",
      "source": [
        "def convolutedPooling(X, pool_size):\n",
        "  p_w, p_h = pool_size\n",
        "  return F.conv2d(X, torch.ones((1, 1, p_h, p_w)) / (p_h * p_w), stride=1)\n",
        ""
      ],
      "metadata": {
        "id": "hN4f0uIcrk2G"
      },
      "id": "hN4f0uIcrk2G",
      "execution_count": 17,
      "outputs": []
    },
    {
      "cell_type": "code",
      "source": [
        "X = torch.arange(64, dtype=torch.float32).reshape((1, 1, 8, 8))\n",
        "X, convolutedPooling(X, (2, 2))"
      ],
      "metadata": {
        "id": "cxGFPoqitrAB",
        "outputId": "25905496-d94c-4de0-c2d4-13578c8a6e32",
        "colab": {
          "base_uri": "https://localhost:8080/"
        }
      },
      "id": "cxGFPoqitrAB",
      "execution_count": 18,
      "outputs": [
        {
          "output_type": "execute_result",
          "data": {
            "text/plain": [
              "(tensor([[[[ 0.,  1.,  2.,  3.,  4.,  5.,  6.,  7.],\n",
              "           [ 8.,  9., 10., 11., 12., 13., 14., 15.],\n",
              "           [16., 17., 18., 19., 20., 21., 22., 23.],\n",
              "           [24., 25., 26., 27., 28., 29., 30., 31.],\n",
              "           [32., 33., 34., 35., 36., 37., 38., 39.],\n",
              "           [40., 41., 42., 43., 44., 45., 46., 47.],\n",
              "           [48., 49., 50., 51., 52., 53., 54., 55.],\n",
              "           [56., 57., 58., 59., 60., 61., 62., 63.]]]]),\n",
              " tensor([[[[ 4.5000,  5.5000,  6.5000,  7.5000,  8.5000,  9.5000, 10.5000],\n",
              "           [12.5000, 13.5000, 14.5000, 15.5000, 16.5000, 17.5000, 18.5000],\n",
              "           [20.5000, 21.5000, 22.5000, 23.5000, 24.5000, 25.5000, 26.5000],\n",
              "           [28.5000, 29.5000, 30.5000, 31.5000, 32.5000, 33.5000, 34.5000],\n",
              "           [36.5000, 37.5000, 38.5000, 39.5000, 40.5000, 41.5000, 42.5000],\n",
              "           [44.5000, 45.5000, 46.5000, 47.5000, 48.5000, 49.5000, 50.5000],\n",
              "           [52.5000, 53.5000, 54.5000, 55.5000, 56.5000, 57.5000, 58.5000]]]]))"
            ]
          },
          "metadata": {},
          "execution_count": 18
        }
      ]
    },
    {
      "cell_type": "markdown",
      "source": [
        "### Exercise 2:\n",
        "\n",
        "Convolution is a linear transformation while max-pooling is a non-linear operation. Hence, max-pooling cannot be implemented through convolution alone."
      ],
      "metadata": {
        "id": "UhqR7_XfuGJc"
      },
      "id": "UhqR7_XfuGJc"
    },
    {
      "cell_type": "markdown",
      "source": [
        "### Exercise 3:\n",
        "\n",
        "#### Exercise 3.1:\n",
        "\n",
        "$$\n",
        "\\text{max}(a,b) = \\text{max}(a-b, 0) + b = \\text{ReLU}(a-b) + b\n",
        "$$"
      ],
      "metadata": {
        "id": "GplFvirjvLvL"
      },
      "id": "GplFvirjvLvL"
    },
    {
      "cell_type": "markdown",
      "source": [
        "#### Exercise 3.2:"
      ],
      "metadata": {
        "id": "POQiSOshwc3u"
      },
      "id": "POQiSOshwc3u"
    },
    {
      "cell_type": "code",
      "source": [
        "def convolutedPoolingReLU(X, pool_size):\n",
        "  batch_size, channels, height, width = X.size()\n",
        "  kernel_size = (pool_size, pool_size)\n",
        "  stride = (pool_size, pool_size)\n",
        "  output_shape = F.conv2d(X, torch.ones((channels, 1, pool_size, pool_size)), stride=stride, padding=0, groups=channels).shape\n",
        "  Y = torch.tensor([-torch.inf]*output_shape.numel()).reshape(output_shape)\n",
        "  # Define the average pooling kernel\n",
        "  for i in range(pool_size*pool_size):\n",
        "      kernel = torch.zeros(pool_size*pool_size)\n",
        "      kernel[i] = 1\n",
        "      kernel = kernel.reshape(channels, 1, pool_size, pool_size)\n",
        "      # Apply the convolution operation with average pooling kernel\n",
        "      temp = F.conv2d(X, kernel, stride=stride, padding=0, groups=channels)\n",
        "      Y = F.relu(Y - temp) + temp\n",
        "  return Y\n"
      ],
      "metadata": {
        "id": "qDBjhdohtv_Z"
      },
      "id": "qDBjhdohtv_Z",
      "execution_count": 21,
      "outputs": []
    },
    {
      "cell_type": "code",
      "source": [
        "X, convolutedPoolingReLU(X, 2)"
      ],
      "metadata": {
        "id": "rNjI9Iqxy9nT",
        "outputId": "8c516a91-44cc-45fe-c06f-f6451165a1a5",
        "colab": {
          "base_uri": "https://localhost:8080/"
        }
      },
      "id": "rNjI9Iqxy9nT",
      "execution_count": 23,
      "outputs": [
        {
          "output_type": "execute_result",
          "data": {
            "text/plain": [
              "(tensor([[[[ 0.,  1.,  2.,  3.,  4.,  5.,  6.,  7.],\n",
              "           [ 8.,  9., 10., 11., 12., 13., 14., 15.],\n",
              "           [16., 17., 18., 19., 20., 21., 22., 23.],\n",
              "           [24., 25., 26., 27., 28., 29., 30., 31.],\n",
              "           [32., 33., 34., 35., 36., 37., 38., 39.],\n",
              "           [40., 41., 42., 43., 44., 45., 46., 47.],\n",
              "           [48., 49., 50., 51., 52., 53., 54., 55.],\n",
              "           [56., 57., 58., 59., 60., 61., 62., 63.]]]]),\n",
              " tensor([[[[ 9., 11., 13., 15.],\n",
              "           [25., 27., 29., 31.],\n",
              "           [41., 43., 45., 47.],\n",
              "           [57., 59., 61., 63.]]]]))"
            ]
          },
          "metadata": {},
          "execution_count": 23
        }
      ]
    },
    {
      "cell_type": "markdown",
      "source": [
        "#### Exercise 3.3:\n",
        "\n",
        "With this, $2 \\times 2$ convolution needs 4 and $3 \\times 3$ needs 9."
      ],
      "metadata": {
        "id": "0l63tgB_48_T"
      },
      "id": "0l63tgB_48_T"
    },
    {
      "cell_type": "markdown",
      "source": [
        "### Exercise 4:\n",
        "\n",
        "Given an input of shape $ c \\times h \\times w $, a pooling window of size $ p_h \\times p_w $, padding $ (p_h, p_w) $, and stride $ (s_h, s_w) $, the output shape is:\n",
        "\n",
        "$$\n",
        "h' = \\frac{h + p_h}{s_h}, \\quad w' = \\frac{w + p_w}{s_w}\n",
        "$$\n",
        "\n",
        "Each pooling operation involves $ O(p_h p_w) $ computations per output pixel. The total computational cost is:\n",
        "\n",
        "$$\n",
        "O\\left(c \\times p_h p_w \\times \\frac{h + p_h}{s_h} \\times \\frac{w + p_w}{s_w} \\right)\n",
        "$$"
      ],
      "metadata": {
        "id": "l2ZcDj4t58Ks"
      },
      "id": "l2ZcDj4t58Ks"
    },
    {
      "cell_type": "markdown",
      "source": [
        "### Exercise 5:\n",
        "\n",
        "Max-pooling selects the strongest activation in a region, making it more invariant to small shifts and preserving edge-like structures.\n",
        "Average-pooling computes the mean value, leading to a smoother output but blurring fine details."
      ],
      "metadata": {
        "id": "1OQuI68D6OT2"
      },
      "id": "1OQuI68D6OT2"
    },
    {
      "cell_type": "markdown",
      "source": [
        "### Exercise 6:\n",
        "\n",
        "\n",
        "No, minimum pooling can be implemented using **negative max-pooling**:  \n",
        "$$\n",
        "\\min(X) = -\\max(-X)\n",
        "$$\n",
        "So, a dedicated minimum pooling layer is unnecessary.\n"
      ],
      "metadata": {
        "id": "uYXBF_AD6V4m"
      },
      "id": "uYXBF_AD6V4m"
    },
    {
      "cell_type": "markdown",
      "source": [
        "### Exercise 7:\n",
        "\n",
        "Softmax pooling computes:\n",
        "$$\n",
        "Y_{i,j} = \\sum_{m,n} X_{m,n} \\frac{e^{X_{m,n}}}{\\sum e^{X_{m,n}}}\n",
        "$$\n",
        "**Issues:**\n",
        "- **Computationally expensive** (exponentiation & normalization).  \n",
        "- **Lacks hard selection** (doesn’t enforce sparsity like max-pooling).  \n",
        "- **Less robust to noise** (small values contribute non-negligibly).  \n",
        "\n",
        "Thus, it's rarely used in practical architectures."
      ],
      "metadata": {
        "id": "debwfnkI6fZs"
      },
      "id": "debwfnkI6fZs"
    },
    {
      "cell_type": "code",
      "source": [],
      "metadata": {
        "id": "W4Y3RKKT4vGC"
      },
      "id": "W4Y3RKKT4vGC",
      "execution_count": null,
      "outputs": []
    }
  ],
  "metadata": {
    "kernelspec": {
      "display_name": "Python 3",
      "name": "python3"
    },
    "language_info": {
      "name": "python"
    },
    "required_libs": [],
    "colab": {
      "provenance": []
    }
  },
  "nbformat": 4,
  "nbformat_minor": 5
}